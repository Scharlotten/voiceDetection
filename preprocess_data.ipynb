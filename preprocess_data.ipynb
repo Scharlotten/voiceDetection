{
 "cells": [
  {
   "cell_type": "markdown",
   "source": [
    "# Gender and age recognition from files"
   ],
   "metadata": {
    "collapsed": false
   }
  },
  {
   "cell_type": "markdown",
   "source": [
    "## Data\n",
    "The data we work with is called \"common voice data\", first we will look at the CSV file containing information about\n",
    "the voice files + some basic attributes, upvotes downvotes (we will not need this) gender and age."
   ],
   "metadata": {
    "collapsed": false,
    "pycharm": {
     "name": "#%% md\n"
    }
   }
  },
  {
   "cell_type": "markdown",
   "source": [
    "## Importing the data"
   ],
   "metadata": {
    "collapsed": false,
    "pycharm": {
     "name": "#%% md\n"
    }
   }
  },
  {
   "cell_type": "code",
   "execution_count": 1,
   "outputs": [],
   "source": [
    "# import the required packages\n",
    "import pandas as pd\n",
    "df = pd.read_csv(\"cv-valid-train.csv\")"
   ],
   "metadata": {
    "collapsed": false,
    "pycharm": {
     "name": "#%%\n"
    }
   }
  },
  {
   "cell_type": "markdown",
   "source": [
    "## Preprocessing data\n",
    "As we can see there are a number of empty columns, we won't be able to detect the gender without the source information\n",
    "therefore where the gender column is missing the data will be dropped."
   ],
   "metadata": {
    "collapsed": false,
    "pycharm": {
     "name": "#%% md\n"
    }
   }
  },
  {
   "cell_type": "code",
   "execution_count": 2,
   "outputs": [
    {
     "name": "stdout",
     "output_type": "stream",
     "text": [
      "This is the length of the dataframe 195776\n",
      "This is the length of of rows where both columns are null 74361\n",
      "This is the sum of the two should be the length of the df 195776\n"
     ]
    },
    {
     "data": {
      "text/plain": "        index                          filename  \\\n0           5  cv-valid-train/sample-000005.mp3   \n1           8  cv-valid-train/sample-000008.mp3   \n2          13  cv-valid-train/sample-000013.mp3   \n3          14  cv-valid-train/sample-000014.mp3   \n4          19  cv-valid-train/sample-000019.mp3   \n...       ...                               ...   \n74356  195766  cv-valid-train/sample-195766.mp3   \n74357  195767  cv-valid-train/sample-195767.mp3   \n74358  195770  cv-valid-train/sample-195770.mp3   \n74359  195771  cv-valid-train/sample-195771.mp3   \n74360  195774  cv-valid-train/sample-195774.mp3   \n\n                                                    text  up_votes  \\\n0      a shepherd may like to travel but he should ne...         1   \n1                          put jackie right on the staff         3   \n2      but he had found a guide and didn't want to mi...         1   \n3      as they began to decorate the hallway a silhou...         1   \n4       then they got ahold of some dough and went goofy         1   \n...                                                  ...       ...   \n74356  but before i go i want to tell you a little story         1   \n74357  down below in the darkness were hundreds of pe...         3   \n74358  he heard a muffled grating sound and saw the b...         4   \n74359                        the englishman said nothing         1   \n74360                 the phone rang while she was awake         2   \n\n       down_votes        age  gender     accent  duration  \n0               0   twenties  female         us       NaN  \n1               0  seventies    male         us       NaN  \n2               0   thirties  female         us       NaN  \n3               0    sixties    male    england       NaN  \n4               0    fifties    male  australia       NaN  \n...           ...        ...     ...        ...       ...  \n74356           0   fourties    male    england       NaN  \n74357           0   thirties  female         us       NaN  \n74358           0   twenties    male    england       NaN  \n74359           0   thirties    male    england       NaN  \n74360           0   twenties    male         us       NaN  \n\n[74361 rows x 9 columns]",
      "text/html": "<div>\n<style scoped>\n    .dataframe tbody tr th:only-of-type {\n        vertical-align: middle;\n    }\n\n    .dataframe tbody tr th {\n        vertical-align: top;\n    }\n\n    .dataframe thead th {\n        text-align: right;\n    }\n</style>\n<table border=\"1\" class=\"dataframe\">\n  <thead>\n    <tr style=\"text-align: right;\">\n      <th></th>\n      <th>index</th>\n      <th>filename</th>\n      <th>text</th>\n      <th>up_votes</th>\n      <th>down_votes</th>\n      <th>age</th>\n      <th>gender</th>\n      <th>accent</th>\n      <th>duration</th>\n    </tr>\n  </thead>\n  <tbody>\n    <tr>\n      <th>0</th>\n      <td>5</td>\n      <td>cv-valid-train/sample-000005.mp3</td>\n      <td>a shepherd may like to travel but he should ne...</td>\n      <td>1</td>\n      <td>0</td>\n      <td>twenties</td>\n      <td>female</td>\n      <td>us</td>\n      <td>NaN</td>\n    </tr>\n    <tr>\n      <th>1</th>\n      <td>8</td>\n      <td>cv-valid-train/sample-000008.mp3</td>\n      <td>put jackie right on the staff</td>\n      <td>3</td>\n      <td>0</td>\n      <td>seventies</td>\n      <td>male</td>\n      <td>us</td>\n      <td>NaN</td>\n    </tr>\n    <tr>\n      <th>2</th>\n      <td>13</td>\n      <td>cv-valid-train/sample-000013.mp3</td>\n      <td>but he had found a guide and didn't want to mi...</td>\n      <td>1</td>\n      <td>0</td>\n      <td>thirties</td>\n      <td>female</td>\n      <td>us</td>\n      <td>NaN</td>\n    </tr>\n    <tr>\n      <th>3</th>\n      <td>14</td>\n      <td>cv-valid-train/sample-000014.mp3</td>\n      <td>as they began to decorate the hallway a silhou...</td>\n      <td>1</td>\n      <td>0</td>\n      <td>sixties</td>\n      <td>male</td>\n      <td>england</td>\n      <td>NaN</td>\n    </tr>\n    <tr>\n      <th>4</th>\n      <td>19</td>\n      <td>cv-valid-train/sample-000019.mp3</td>\n      <td>then they got ahold of some dough and went goofy</td>\n      <td>1</td>\n      <td>0</td>\n      <td>fifties</td>\n      <td>male</td>\n      <td>australia</td>\n      <td>NaN</td>\n    </tr>\n    <tr>\n      <th>...</th>\n      <td>...</td>\n      <td>...</td>\n      <td>...</td>\n      <td>...</td>\n      <td>...</td>\n      <td>...</td>\n      <td>...</td>\n      <td>...</td>\n      <td>...</td>\n    </tr>\n    <tr>\n      <th>74356</th>\n      <td>195766</td>\n      <td>cv-valid-train/sample-195766.mp3</td>\n      <td>but before i go i want to tell you a little story</td>\n      <td>1</td>\n      <td>0</td>\n      <td>fourties</td>\n      <td>male</td>\n      <td>england</td>\n      <td>NaN</td>\n    </tr>\n    <tr>\n      <th>74357</th>\n      <td>195767</td>\n      <td>cv-valid-train/sample-195767.mp3</td>\n      <td>down below in the darkness were hundreds of pe...</td>\n      <td>3</td>\n      <td>0</td>\n      <td>thirties</td>\n      <td>female</td>\n      <td>us</td>\n      <td>NaN</td>\n    </tr>\n    <tr>\n      <th>74358</th>\n      <td>195770</td>\n      <td>cv-valid-train/sample-195770.mp3</td>\n      <td>he heard a muffled grating sound and saw the b...</td>\n      <td>4</td>\n      <td>0</td>\n      <td>twenties</td>\n      <td>male</td>\n      <td>england</td>\n      <td>NaN</td>\n    </tr>\n    <tr>\n      <th>74359</th>\n      <td>195771</td>\n      <td>cv-valid-train/sample-195771.mp3</td>\n      <td>the englishman said nothing</td>\n      <td>1</td>\n      <td>0</td>\n      <td>thirties</td>\n      <td>male</td>\n      <td>england</td>\n      <td>NaN</td>\n    </tr>\n    <tr>\n      <th>74360</th>\n      <td>195774</td>\n      <td>cv-valid-train/sample-195774.mp3</td>\n      <td>the phone rang while she was awake</td>\n      <td>2</td>\n      <td>0</td>\n      <td>twenties</td>\n      <td>male</td>\n      <td>us</td>\n      <td>NaN</td>\n    </tr>\n  </tbody>\n</table>\n<p>74361 rows × 9 columns</p>\n</div>"
     },
     "execution_count": 2,
     "metadata": {},
     "output_type": "execute_result"
    }
   ],
   "source": [
    "#Identify where gender and age are missing\n",
    "print(f'This is the length of the dataframe {len(df)}')\n",
    "null_num = len(df.loc[(pd.isnull(df.gender) & pd.isnull(df.age))])\n",
    "not_null = len(df.loc[~(pd.isnull(df.gender) & pd.isnull(df.age))])\n",
    "print(f'This is the length of of rows where both columns are null {not_null}')\n",
    "print(f'This is the sum of the two should be the length of the df {not_null+null_num}')\n",
    "# this is just to make sure we negated the the df.gender and df.age not null correctly\n",
    "valid_df = df.loc[~(pd.isnull(df.gender) & pd.isnull(df.age))]\n",
    "valid_df.reset_index(inplace=True)\n",
    "valid_df"
   ],
   "metadata": {
    "collapsed": false,
    "pycharm": {
     "name": "#%%\n"
    }
   }
  },
  {
   "cell_type": "markdown",
   "source": [
    "Now in a variable we stored valid_df which doesn't contain any missing data, now it is time to collect information on\n",
    "the voice dataset"
   ],
   "metadata": {
    "collapsed": false,
    "pycharm": {
     "name": "#%% md\n"
    }
   }
  },
  {
   "cell_type": "markdown",
   "source": [
    "# The voice dataset & Feature extraction\n",
    "Saved in mp3 format we will use a package called librosa to look at the data.\n",
    "There are a number of complex features that we can extract from the data\n",
    "\n",
    "* **Spectral centroid** - this takes samples of the recordings using Fourier Transform\n",
    "the transformation decomposes the waveform of a musical chord into terms of the intensity of its constituent pitches.\n",
    "The easy way to understand this variable is to imagine a weighted average on the audio file depending on the intensity of high\n",
    "vs low pitches. This will play a key role in detecting whether this is a male or female.\n",
    "* **Spectral Bandwidth** is the difference between the upper and lower frequencies in a continuous band of frequencies.\n",
    "As we know the signals oscillate about a point so if the point is the centroid of the signal then the sum of\n",
    "maximum deviation of the signal on both sides of the point can be considered as the bandwidth of the signal\n",
    "at that time frame\n",
    "* **Spectral roll-off** It can be defined as the action of a specific type of\n",
    "filter which is designed to roll off the frequencies outside to a specific range. The reason we call\n",
    "it roll-off is because it is a gradual procedure.\n",
    "There can be two kinds of filters: hi-pass and low pass and both can roll off the frequency from a signal\n",
    "going outside of their range.\n",
    "* **Tonnetz** ?\n",
    "* **MFCC**\n",
    "## TO DO\n",
    "?? let's see if there is more to add to this and also to clarify these\n"
   ],
   "metadata": {
    "collapsed": false,
    "pycharm": {
     "name": "#%% md\n"
    }
   }
  },
  {
   "cell_type": "code",
   "execution_count": 3,
   "outputs": [],
   "source": [
    "# Writing a function its sole purpose will be to read in an audio file and extract the features mentioned above\n",
    "import librosa\n",
    "import os\n",
    "import errno\n",
    "import numpy as np"
   ],
   "metadata": {
    "collapsed": false,
    "pycharm": {
     "name": "#%%\n"
    }
   }
  },
  {
   "cell_type": "code",
   "execution_count": 4,
   "outputs": [],
   "source": [
    "def import_mp3file(path:str, file_name:str, spectral_centroid:bool=True, spectral_bandwidth:bool=True,\n",
    "                   spectral_roll_off:bool=True, MFCC:bool=True) -> dict:\n",
    "    \"\"\"\n",
    "    :param path: path to the file\n",
    "    :param file_name: name of the file\n",
    "    :param spectral_centroid: if true spectral centroid is in the output\n",
    "    :param spectral_bandwidth: if true spectral bandwidth is in the output\n",
    "    :param spectral_roll_off: if true roll_off is in the output\n",
    "    :param MFCC: if true MFCC values are in the output\n",
    "    :return: filename + dictionary with feature set\n",
    "    \"\"\"\n",
    "    if os.path.isfile(os.path.join(path, file_name)):\n",
    "        audio, _ = librosa.load(os.path.join(path, file_name))\n",
    "        output = dict()\n",
    "        output['filename'] = file_name\n",
    "        if spectral_centroid:\n",
    "            spectral_centroid_value = np.mean(librosa.feature.spectral_centroid(y=audio))\n",
    "            output[\"spectral_centroid\"] = spectral_centroid_value\n",
    "        if spectral_bandwidth:\n",
    "            spectral_bandwidth_value = np.mean(librosa.feature.spectral_bandwidth(y=audio))\n",
    "            output[\"spectral_bandwidth\"] = spectral_bandwidth_value\n",
    "        if spectral_roll_off:\n",
    "            spectral_roll_off_value = np.mean(librosa.feature.spectral_rolloff(y=audio))\n",
    "            output[\"spectral_rolloff\"] = spectral_roll_off_value\n",
    "        if MFCC:\n",
    "            MFCC_values = librosa.feature.mfcc(y=audio)\n",
    "            for i, element in enumerate(MFCC_values):\n",
    "                output[f'MFCC_{i}'] = np.mean(element)\n",
    "        return output\n",
    "\n",
    "    else:\n",
    "        raise FileNotFoundError(errno.ENOENT, os.strerror(errno.ENOENT), os.path.join(path,file_name))\n"
   ],
   "metadata": {
    "collapsed": false,
    "pycharm": {
     "name": "#%%\n"
    }
   }
  },
  {
   "cell_type": "code",
   "execution_count": 5,
   "outputs": [
    {
     "name": "stderr",
     "output_type": "stream",
     "text": [
      "c:\\users\\asemjen\\appdata\\local\\programs\\python\\python39\\lib\\site-packages\\librosa\\util\\decorators.py:88: UserWarning: PySoundFile failed. Trying audioread instead.\n",
      "  return f(*args, **kwargs)\n"
     ]
    },
    {
     "name": "stdout",
     "output_type": "stream",
     "text": [
      "{'filename': 'cv-valid-train/sample-000008.mp3', 'spectral_centroid': 2352.7475565141926, 'spectral_bandwidth': 1854.9463106224644, 'spectral_rolloff': 3968.712890625, 'MFCC_0': -415.57288, 'MFCC_1': 99.58028, 'MFCC_2': -27.460777, 'MFCC_3': 10.333393, 'MFCC_4': 7.2848096, 'MFCC_5': 0.9885974, 'MFCC_6': -22.434021, 'MFCC_7': -21.395174, 'MFCC_8': -16.391228, 'MFCC_9': -7.847973, 'MFCC_10': 0.43195435, 'MFCC_11': 5.885935, 'MFCC_12': -7.2544622, 'MFCC_13': -3.529506, 'MFCC_14': -13.423277, 'MFCC_15': -1.1738807, 'MFCC_16': -7.1814423, 'MFCC_17': 5.562098, 'MFCC_18': -6.6943316, 'MFCC_19': -1.178298}\n"
     ]
    }
   ],
   "source": [
    "#Testing the function - for the errors there is no test for now\n",
    "path = \"./cv-valid-train/\"\n",
    "file_name = valid_df.filename.iloc[1]\n",
    "test_dict = import_mp3file(path, file_name)\n",
    "print(test_dict)\n"
   ],
   "metadata": {
    "collapsed": false,
    "pycharm": {
     "name": "#%%\n"
    }
   }
  },
  {
   "cell_type": "code",
   "execution_count": 6,
   "outputs": [
    {
     "name": "stderr",
     "output_type": "stream",
     "text": [
      "c:\\users\\asemjen\\appdata\\local\\programs\\python\\python39\\lib\\site-packages\\librosa\\util\\decorators.py:88: UserWarning: PySoundFile failed. Trying audioread instead.\n",
      "  return f(*args, **kwargs)\n"
     ]
    },
    {
     "data": {
      "text/plain": "array([[4460.22175571, 4175.59117068, 3884.60612779, 3374.71829314,\n        1144.64655545, 1092.94004371, 1225.65807209, 1266.59594119,\n        1232.85026572, 2744.17641222, 4105.00095856, 3749.85456925,\n        2332.4429962 , 1651.9227578 , 1553.81723776, 1566.04631018,\n        1544.57575462, 1525.91524213, 1576.66014615, 1929.20321356,\n        2672.19538181, 2476.3592423 , 1755.23655177, 1611.70976292,\n        1461.32540332, 1352.79000052, 1454.62261381, 1340.39012086,\n         992.77723306, 1032.26490225, 1148.66817526, 1296.14941814,\n        1427.50061457, 1517.80837736, 1472.37735089, 1393.89724893,\n        1313.14088119, 1256.17061522, 1163.08342939, 1063.48420999,\n         999.93926298, 1031.49493118, 1117.12346428, 1254.74466627,\n        1398.78795777, 1528.87036282, 1578.40015717, 1771.66304659,\n        3543.62932697, 4743.56534655, 5102.61070267, 5170.89100393,\n        5356.37322273, 5557.71014968, 5510.2354996 , 2655.50800088,\n        1599.98330424, 1449.93721998, 1466.37987571, 1411.23755945,\n        1422.19414607, 1619.24419851, 1762.79126197, 1785.24080205,\n        1896.21624887, 2082.06457133, 2359.19393764, 3520.59995465,\n        4449.38758826, 4668.31527028, 4622.35648383, 4263.58318073,\n        4158.0293405 , 4173.74573228, 4084.62360269]])"
     },
     "execution_count": 6,
     "metadata": {},
     "output_type": "execute_result"
    },
    {
     "data": {
      "text/plain": "<Figure size 1600x1120 with 0 Axes>"
     },
     "metadata": {},
     "output_type": "display_data"
    },
    {
     "data": {
      "text/plain": "<Figure size 432x288 with 1 Axes>",
      "image/png": "[encoded data removed]"
     },
     "metadata": {
      "needs_background": "light"
     },
     "output_type": "display_data"
    }
   ],
   "source": [
    "# This is just here to play around with the central spectroid data, see the frequency bins and the averages over time\n",
    "import matplotlib.pyplot as plt\n",
    "import librosa.display\n",
    "\n",
    "\n",
    "audio, _ = librosa.load(os.path.join(path, file_name))\n",
    "x = librosa.feature.spectral_centroid(y=audio, win_length=2048*1, n_fft=2048*1)\n",
    "S, phase = librosa.magphase(librosa.stft(y=audio))\n",
    "plt.figure(figsize=(20, 14), dpi=80)\n",
    "times = librosa.times_like(x)\n",
    "fig, ax = plt.subplots()\n",
    "librosa.display.specshow(librosa.amplitude_to_db(S, ref=np.max),\n",
    "                         y_axis='log', x_axis='time', ax=ax)\n",
    "ax.plot(times, x.T, label='Spectral centroid', color='w')\n",
    "ax.legend(loc='upper right')\n",
    "ax.set(title='log Power spectrogram')\n",
    "\n",
    "librosa.feature.spectral_centroid(S=S)\n"
   ],
   "metadata": {
    "collapsed": false,
    "pycharm": {
     "name": "#%%\n"
    }
   }
  },
  {
   "cell_type": "markdown",
   "source": [
    "## Finally let's build a dataset with the extracted features\n",
    "\n"
   ],
   "metadata": {
    "collapsed": false,
    "pycharm": {
     "name": "#%% md\n"
    }
   }
  },
  {
   "cell_type": "code",
   "execution_count": 7,
   "outputs": [],
   "source": [
    "# Unfortunately it takes sime to extract these values therefore instead of running it for the whole dataset let's export\n",
    "# a few records - and to make sure it is a balanced dataset\n",
    "# if the file has already been extracted\n",
    "if not os.path.isfile(\"./cleaned_training_data.csv\"):\n",
    "    print(valid_df.loc[valid_df.gender==\"female\"].groupby(\"age\").count())\n",
    "    # There is very few data from eighties and a lot more from younger ppl, let's try to grab 200 records from each category\n",
    "    unique_ages = list(valid_df.age.unique())\n",
    "    unique_ages.remove(np.nan)\n",
    "    print(f'unique ages: {unique_ages}')\n",
    "\n",
    "    sampled_df = pd.DataFrame()\n",
    "    for age_group in unique_ages:\n",
    "       temp_df = pd.DataFrame()\n",
    "       temp_df = valid_df.loc[(valid_df.gender==\"female\") & (valid_df.age==age_group)].copy()\n",
    "       sampled_df = sampled_df.append(temp_df[:200])\n",
    "\n",
    "    for age_group in unique_ages:\n",
    "       temp_df = pd.DataFrame()\n",
    "       temp_df = valid_df.loc[(valid_df.gender==\"male\") & (valid_df.age==age_group)].copy()\n",
    "       sampled_df = sampled_df.append(temp_df[:200])\n",
    "\n",
    "    sampled_df.to_csv(\"cleaned_training_data.csv\", index=False)\n",
    "\n",
    "else:\n",
    "    sampled_df = pd.read_csv(\"./cleaned_training_data.csv\")"
   ],
   "metadata": {
    "collapsed": false,
    "pycharm": {
     "name": "#%%\n"
    }
   }
  },
  {
   "cell_type": "code",
   "execution_count": 8,
   "outputs": [
    {
     "data": {
      "text/plain": "       index                          filename  \\\n0          5  cv-valid-train/sample-000005.mp3   \n1         26  cv-valid-train/sample-000026.mp3   \n2         59  cv-valid-train/sample-000059.mp3   \n3        101  cv-valid-train/sample-000101.mp3   \n4        155  cv-valid-train/sample-000155.mp3   \n...      ...                               ...   \n2943  177368  cv-valid-train/sample-177368.mp3   \n2944  177386  cv-valid-train/sample-177386.mp3   \n2945  178263  cv-valid-train/sample-178263.mp3   \n2946  178308  cv-valid-train/sample-178308.mp3   \n2947  178606  cv-valid-train/sample-178606.mp3   \n\n                                                   text  up_votes  down_votes  \\\n0     a shepherd may like to travel but he should ne...         1           0   \n1     two years ago right here on this spot i had a ...         4           0   \n2     finally a young woman approached who was not d...         3           0   \n3             the fumes from the traffic was unbearable         2           0   \n4                      let him have everything he wants         1           0   \n...                                                 ...       ...         ...   \n2943                       a drought hit western europe         1           0   \n2944              i don't know the desert that well yet         4           0   \n2945  lifeguards were standing on a tower staring at...         1           0   \n2946  but the alchemist continued to look to the hor...         1           0   \n2947                                this is for the boy         3           0   \n\n           age  gender     accent  duration  \n0     twenties  female         us       NaN  \n1     twenties  female  australia       NaN  \n2     twenties  female         us       NaN  \n3     twenties  female        NaN       NaN  \n4     twenties  female    england       NaN  \n...        ...     ...        ...       ...  \n2943  eighties    male    england       NaN  \n2944  eighties    male    england       NaN  \n2945  eighties    male  australia       NaN  \n2946  eighties    male    england       NaN  \n2947  eighties    male    england       NaN  \n\n[2948 rows x 9 columns]",
      "text/html": "<div>\n<style scoped>\n    .dataframe tbody tr th:only-of-type {\n        vertical-align: middle;\n    }\n\n    .dataframe tbody tr th {\n        vertical-align: top;\n    }\n\n    .dataframe thead th {\n        text-align: right;\n    }\n</style>\n<table border=\"1\" class=\"dataframe\">\n  <thead>\n    <tr style=\"text-align: right;\">\n      <th></th>\n      <th>index</th>\n      <th>filename</th>\n      <th>text</th>\n      <th>up_votes</th>\n      <th>down_votes</th>\n      <th>age</th>\n      <th>gender</th>\n      <th>accent</th>\n      <th>duration</th>\n    </tr>\n  </thead>\n  <tbody>\n    <tr>\n      <th>0</th>\n      <td>5</td>\n      <td>cv-valid-train/sample-000005.mp3</td>\n      <td>a shepherd may like to travel but he should ne...</td>\n      <td>1</td>\n      <td>0</td>\n      <td>twenties</td>\n      <td>female</td>\n      <td>us</td>\n      <td>NaN</td>\n    </tr>\n    <tr>\n      <th>1</th>\n      <td>26</td>\n      <td>cv-valid-train/sample-000026.mp3</td>\n      <td>two years ago right here on this spot i had a ...</td>\n      <td>4</td>\n      <td>0</td>\n      <td>twenties</td>\n      <td>female</td>\n      <td>australia</td>\n      <td>NaN</td>\n    </tr>\n    <tr>\n      <th>2</th>\n      <td>59</td>\n      <td>cv-valid-train/sample-000059.mp3</td>\n      <td>finally a young woman approached who was not d...</td>\n      <td>3</td>\n      <td>0</td>\n      <td>twenties</td>\n      <td>female</td>\n      <td>us</td>\n      <td>NaN</td>\n    </tr>\n    <tr>\n      <th>3</th>\n      <td>101</td>\n      <td>cv-valid-train/sample-000101.mp3</td>\n      <td>the fumes from the traffic was unbearable</td>\n      <td>2</td>\n      <td>0</td>\n      <td>twenties</td>\n      <td>female</td>\n      <td>NaN</td>\n      <td>NaN</td>\n    </tr>\n    <tr>\n      <th>4</th>\n      <td>155</td>\n      <td>cv-valid-train/sample-000155.mp3</td>\n      <td>let him have everything he wants</td>\n      <td>1</td>\n      <td>0</td>\n      <td>twenties</td>\n      <td>female</td>\n      <td>england</td>\n      <td>NaN</td>\n    </tr>\n    <tr>\n      <th>...</th>\n      <td>...</td>\n      <td>...</td>\n      <td>...</td>\n      <td>...</td>\n      <td>...</td>\n      <td>...</td>\n      <td>...</td>\n      <td>...</td>\n      <td>...</td>\n    </tr>\n    <tr>\n      <th>2943</th>\n      <td>177368</td>\n      <td>cv-valid-train/sample-177368.mp3</td>\n      <td>a drought hit western europe</td>\n      <td>1</td>\n      <td>0</td>\n      <td>eighties</td>\n      <td>male</td>\n      <td>england</td>\n      <td>NaN</td>\n    </tr>\n    <tr>\n      <th>2944</th>\n      <td>177386</td>\n      <td>cv-valid-train/sample-177386.mp3</td>\n      <td>i don't know the desert that well yet</td>\n      <td>4</td>\n      <td>0</td>\n      <td>eighties</td>\n      <td>male</td>\n      <td>england</td>\n      <td>NaN</td>\n    </tr>\n    <tr>\n      <th>2945</th>\n      <td>178263</td>\n      <td>cv-valid-train/sample-178263.mp3</td>\n      <td>lifeguards were standing on a tower staring at...</td>\n      <td>1</td>\n      <td>0</td>\n      <td>eighties</td>\n      <td>male</td>\n      <td>australia</td>\n      <td>NaN</td>\n    </tr>\n    <tr>\n      <th>2946</th>\n      <td>178308</td>\n      <td>cv-valid-train/sample-178308.mp3</td>\n      <td>but the alchemist continued to look to the hor...</td>\n      <td>1</td>\n      <td>0</td>\n      <td>eighties</td>\n      <td>male</td>\n      <td>england</td>\n      <td>NaN</td>\n    </tr>\n    <tr>\n      <th>2947</th>\n      <td>178606</td>\n      <td>cv-valid-train/sample-178606.mp3</td>\n      <td>this is for the boy</td>\n      <td>3</td>\n      <td>0</td>\n      <td>eighties</td>\n      <td>male</td>\n      <td>england</td>\n      <td>NaN</td>\n    </tr>\n  </tbody>\n</table>\n<p>2948 rows × 9 columns</p>\n</div>"
     },
     "execution_count": 8,
     "metadata": {},
     "output_type": "execute_result"
    }
   ],
   "source": [
    "sampled_df"
   ],
   "metadata": {
    "collapsed": false,
    "pycharm": {
     "name": "#%%\n"
    }
   }
  },
  {
   "cell_type": "code",
   "execution_count": 9,
   "outputs": [],
   "source": [
    "# if the training set has already been generated don't run this again - anyways this takes a pretty long time to extract\n",
    "if not os.path.isfile(\"./recording_features.csv\"):\n",
    "    files = sampled_df.filename.to_list()\n",
    "    features = []\n",
    "    for i, filename in enumerate(files):\n",
    "        recording_feature = import_mp3file(path, filename)\n",
    "        features.append(recording_feature)\n",
    "        if i % 100 == 0:\n",
    "            print(f'Processed {i} records')\n",
    "\n",
    "    final = pd.DataFrame(features)\n",
    "    final.to_csv(\"recording_features.csv\")\n",
    "else:\n",
    "    final = pd.read_csv(\"recording_features.csv\")"
   ],
   "metadata": {
    "collapsed": false,
    "pycharm": {
     "name": "#%%\n"
    }
   }
  },
  {
   "cell_type": "markdown",
   "source": [
    "## Joining the two dataframes and standardizing the data\n"
   ],
   "metadata": {
    "collapsed": false,
    "pycharm": {
     "name": "#%% md\n"
    }
   }
  },
  {
   "cell_type": "code",
   "execution_count": 10,
   "outputs": [],
   "source": [
    "#time to remove columns we don't need\n",
    "sampled_df = sampled_df.drop(columns=[\"up_votes\", \"down_votes\", \"duration\", \"accent\", \"index\",\"text\"])"
   ],
   "metadata": {
    "collapsed": false,
    "pycharm": {
     "name": "#%%\n"
    }
   }
  },
  {
   "cell_type": "code",
   "execution_count": 11,
   "outputs": [],
   "source": [
    "merged = pd.merge(sampled_df, final, on=\"filename\")"
   ],
   "metadata": {
    "collapsed": false,
    "pycharm": {
     "name": "#%%\n"
    }
   }
  },
  {
   "cell_type": "code",
   "execution_count": 12,
   "outputs": [],
   "source": [
    "# switching female and male into 0 and 1\n",
    "merged['gender_num'] = merged.gender.apply(lambda a : 1 if a==\"male\" else 0)"
   ],
   "metadata": {
    "collapsed": false,
    "pycharm": {
     "name": "#%%\n"
    }
   }
  },
  {
   "cell_type": "code",
   "execution_count": 13,
   "outputs": [
    {
     "data": {
      "text/plain": "                              filename       age  gender  Unnamed: 0  \\\n0     cv-valid-train/sample-000005.mp3  twenties  female           0   \n1     cv-valid-train/sample-000026.mp3  twenties  female           1   \n2     cv-valid-train/sample-000059.mp3  twenties  female           2   \n3     cv-valid-train/sample-000101.mp3  twenties  female           3   \n4     cv-valid-train/sample-000155.mp3  twenties  female           4   \n...                                ...       ...     ...         ...   \n2943  cv-valid-train/sample-177368.mp3  eighties    male        2943   \n2944  cv-valid-train/sample-177386.mp3  eighties    male        2944   \n2945  cv-valid-train/sample-178263.mp3  eighties    male        2945   \n2946  cv-valid-train/sample-178308.mp3  eighties    male        2946   \n2947  cv-valid-train/sample-178606.mp3  eighties    male        2947   \n\n      spectral_centroid  spectral_bandwidth  spectral_rolloff     MFCC_0  \\\n0           1826.676487         1881.513079       3860.168457 -576.31537   \n1           2616.617405         2179.803059       4761.842524 -228.24037   \n2           2631.967942         2044.362034       4626.430442 -356.87674   \n3           2102.693066         1761.210243       3696.558838 -620.41430   \n4           2238.837714         2250.816026       4440.932155 -383.86890   \n...                 ...                 ...               ...        ...   \n2943        1912.921925         1645.822663       3582.826996 -397.50684   \n2944        2891.648823         2344.404460       5511.049577 -567.74930   \n2945        1733.818084         1912.404834       3096.810588 -207.87010   \n2946        2628.526132         2175.257154       4954.709163 -547.69720   \n2947        3391.496749         2508.901516       6292.276845 -621.41790   \n\n          MFCC_1     MFCC_2  ...    MFCC_11   MFCC_12    MFCC_13    MFCC_14  \\\n0      86.375450  11.824992  ... -13.578614 -6.720922  -6.186287  -4.839533   \n1      82.801940  -8.383657  ...  -2.331251 -6.204039   3.251125 -17.747442   \n2      68.245125 -10.347807  ...  -6.034971 -8.058039 -13.018083 -11.938355   \n3      95.137270  -1.270926  ... -17.381930 -8.984969  -7.450493  -7.771703   \n4     111.190480   9.153431  ...  -4.409180 -8.951644  -4.352331 -16.304008   \n...          ...        ...  ...        ...       ...        ...        ...   \n2943   80.985640   0.528146  ... -10.978140 -3.411300  -9.455407  -4.704919   \n2944   59.632893  -4.822622  ...   2.903227 -0.769034  -8.961708  -0.861702   \n2945  127.613945  22.708185  ...   4.196513 -7.046742   1.660554  -6.591972   \n2946   73.899216  -2.060552  ...  -4.837437 -1.397516  -8.710450  -7.096631   \n2947   36.027960   4.070062  ...  -1.413431 -0.026878  -5.700069  -4.929518   \n\n       MFCC_15    MFCC_16    MFCC_17    MFCC_18    MFCC_19  gender_num  \n0    -9.007957  -3.113982  -1.743871  -9.447196  -8.065145           0  \n1    -0.515065 -10.605970  -8.131491  -8.427092   3.234301           0  \n2     3.690609  -8.656282   2.081685  -1.077340 -10.969205           0  \n3    -7.896185  -9.588766 -11.281025  -8.105808  -1.190835           0  \n4    -1.139749  -7.554811  -5.609372 -11.100672   0.755369           0  \n...        ...        ...        ...        ...        ...         ...  \n2943 -6.489031  -8.050118  -2.618395  -5.226260  -4.764739           1  \n2944  1.739775  -5.571111  -2.447298  -1.373529  -6.966235           1  \n2945  2.850996 -10.946294   4.010830  -8.853448  -5.771527           1  \n2946  0.912892  -6.030656  -3.181628  -4.860301  -6.324833           1  \n2947  2.729230  -2.640413  -4.677071  -1.325212  -3.844658           1  \n\n[2948 rows x 28 columns]",
      "text/html": "<div>\n<style scoped>\n    .dataframe tbody tr th:only-of-type {\n        vertical-align: middle;\n    }\n\n    .dataframe tbody tr th {\n        vertical-align: top;\n    }\n\n    .dataframe thead th {\n        text-align: right;\n    }\n</style>\n<table border=\"1\" class=\"dataframe\">\n  <thead>\n    <tr style=\"text-align: right;\">\n      <th></th>\n      <th>filename</th>\n      <th>age</th>\n      <th>gender</th>\n      <th>Unnamed: 0</th>\n      <th>spectral_centroid</th>\n      <th>spectral_bandwidth</th>\n      <th>spectral_rolloff</th>\n      <th>MFCC_0</th>\n      <th>MFCC_1</th>\n      <th>MFCC_2</th>\n      <th>...</th>\n      <th>MFCC_11</th>\n      <th>MFCC_12</th>\n      <th>MFCC_13</th>\n      <th>MFCC_14</th>\n      <th>MFCC_15</th>\n      <th>MFCC_16</th>\n      <th>MFCC_17</th>\n      <th>MFCC_18</th>\n      <th>MFCC_19</th>\n      <th>gender_num</th>\n    </tr>\n  </thead>\n  <tbody>\n    <tr>\n      <th>0</th>\n      <td>cv-valid-train/sample-000005.mp3</td>\n      <td>twenties</td>\n      <td>female</td>\n      <td>0</td>\n      <td>1826.676487</td>\n      <td>1881.513079</td>\n      <td>3860.168457</td>\n      <td>-576.31537</td>\n      <td>86.375450</td>\n      <td>11.824992</td>\n      <td>...</td>\n      <td>-13.578614</td>\n      <td>-6.720922</td>\n      <td>-6.186287</td>\n      <td>-4.839533</td>\n      <td>-9.007957</td>\n      <td>-3.113982</td>\n      <td>-1.743871</td>\n      <td>-9.447196</td>\n      <td>-8.065145</td>\n      <td>0</td>\n    </tr>\n    <tr>\n      <th>1</th>\n      <td>cv-valid-train/sample-000026.mp3</td>\n      <td>twenties</td>\n      <td>female</td>\n      <td>1</td>\n      <td>2616.617405</td>\n      <td>2179.803059</td>\n      <td>4761.842524</td>\n      <td>-228.24037</td>\n      <td>82.801940</td>\n      <td>-8.383657</td>\n      <td>...</td>\n      <td>-2.331251</td>\n      <td>-6.204039</td>\n      <td>3.251125</td>\n      <td>-17.747442</td>\n      <td>-0.515065</td>\n      <td>-10.605970</td>\n      <td>-8.131491</td>\n      <td>-8.427092</td>\n      <td>3.234301</td>\n      <td>0</td>\n    </tr>\n    <tr>\n      <th>2</th>\n      <td>cv-valid-train/sample-000059.mp3</td>\n      <td>twenties</td>\n      <td>female</td>\n      <td>2</td>\n      <td>2631.967942</td>\n      <td>2044.362034</td>\n      <td>4626.430442</td>\n      <td>-356.87674</td>\n      <td>68.245125</td>\n      <td>-10.347807</td>\n      <td>...</td>\n      <td>-6.034971</td>\n      <td>-8.058039</td>\n      <td>-13.018083</td>\n      <td>-11.938355</td>\n      <td>3.690609</td>\n      <td>-8.656282</td>\n      <td>2.081685</td>\n      <td>-1.077340</td>\n      <td>-10.969205</td>\n      <td>0</td>\n    </tr>\n    <tr>\n      <th>3</th>\n      <td>cv-valid-train/sample-000101.mp3</td>\n      <td>twenties</td>\n      <td>female</td>\n      <td>3</td>\n      <td>2102.693066</td>\n      <td>1761.210243</td>\n      <td>3696.558838</td>\n      <td>-620.41430</td>\n      <td>95.137270</td>\n      <td>-1.270926</td>\n      <td>...</td>\n      <td>-17.381930</td>\n      <td>-8.984969</td>\n      <td>-7.450493</td>\n      <td>-7.771703</td>\n      <td>-7.896185</td>\n      <td>-9.588766</td>\n      <td>-11.281025</td>\n      <td>-8.105808</td>\n      <td>-1.190835</td>\n      <td>0</td>\n    </tr>\n    <tr>\n      <th>4</th>\n      <td>cv-valid-train/sample-000155.mp3</td>\n      <td>twenties</td>\n      <td>female</td>\n      <td>4</td>\n      <td>2238.837714</td>\n      <td>2250.816026</td>\n      <td>4440.932155</td>\n      <td>-383.86890</td>\n      <td>111.190480</td>\n      <td>9.153431</td>\n      <td>...</td>\n      <td>-4.409180</td>\n      <td>-8.951644</td>\n      <td>-4.352331</td>\n      <td>-16.304008</td>\n      <td>-1.139749</td>\n      <td>-7.554811</td>\n      <td>-5.609372</td>\n      <td>-11.100672</td>\n      <td>0.755369</td>\n      <td>0</td>\n    </tr>\n    <tr>\n      <th>...</th>\n      <td>...</td>\n      <td>...</td>\n      <td>...</td>\n      <td>...</td>\n      <td>...</td>\n      <td>...</td>\n      <td>...</td>\n      <td>...</td>\n      <td>...</td>\n      <td>...</td>\n      <td>...</td>\n      <td>...</td>\n      <td>...</td>\n      <td>...</td>\n      <td>...</td>\n      <td>...</td>\n      <td>...</td>\n      <td>...</td>\n      <td>...</td>\n      <td>...</td>\n      <td>...</td>\n    </tr>\n    <tr>\n      <th>2943</th>\n      <td>cv-valid-train/sample-177368.mp3</td>\n      <td>eighties</td>\n      <td>male</td>\n      <td>2943</td>\n      <td>1912.921925</td>\n      <td>1645.822663</td>\n      <td>3582.826996</td>\n      <td>-397.50684</td>\n      <td>80.985640</td>\n      <td>0.528146</td>\n      <td>...</td>\n      <td>-10.978140</td>\n      <td>-3.411300</td>\n      <td>-9.455407</td>\n      <td>-4.704919</td>\n      <td>-6.489031</td>\n      <td>-8.050118</td>\n      <td>-2.618395</td>\n      <td>-5.226260</td>\n      <td>-4.764739</td>\n      <td>1</td>\n    </tr>\n    <tr>\n      <th>2944</th>\n      <td>cv-valid-train/sample-177386.mp3</td>\n      <td>eighties</td>\n      <td>male</td>\n      <td>2944</td>\n      <td>2891.648823</td>\n      <td>2344.404460</td>\n      <td>5511.049577</td>\n      <td>-567.74930</td>\n      <td>59.632893</td>\n      <td>-4.822622</td>\n      <td>...</td>\n      <td>2.903227</td>\n      <td>-0.769034</td>\n      <td>-8.961708</td>\n      <td>-0.861702</td>\n      <td>1.739775</td>\n      <td>-5.571111</td>\n      <td>-2.447298</td>\n      <td>-1.373529</td>\n      <td>-6.966235</td>\n      <td>1</td>\n    </tr>\n    <tr>\n      <th>2945</th>\n      <td>cv-valid-train/sample-178263.mp3</td>\n      <td>eighties</td>\n      <td>male</td>\n      <td>2945</td>\n      <td>1733.818084</td>\n      <td>1912.404834</td>\n      <td>3096.810588</td>\n      <td>-207.87010</td>\n      <td>127.613945</td>\n      <td>22.708185</td>\n      <td>...</td>\n      <td>4.196513</td>\n      <td>-7.046742</td>\n      <td>1.660554</td>\n      <td>-6.591972</td>\n      <td>2.850996</td>\n      <td>-10.946294</td>\n      <td>4.010830</td>\n      <td>-8.853448</td>\n      <td>-5.771527</td>\n      <td>1</td>\n    </tr>\n    <tr>\n      <th>2946</th>\n      <td>cv-valid-train/sample-178308.mp3</td>\n      <td>eighties</td>\n      <td>male</td>\n      <td>2946</td>\n      <td>2628.526132</td>\n      <td>2175.257154</td>\n      <td>4954.709163</td>\n      <td>-547.69720</td>\n      <td>73.899216</td>\n      <td>-2.060552</td>\n      <td>...</td>\n      <td>-4.837437</td>\n      <td>-1.397516</td>\n      <td>-8.710450</td>\n      <td>-7.096631</td>\n      <td>0.912892</td>\n      <td>-6.030656</td>\n      <td>-3.181628</td>\n      <td>-4.860301</td>\n      <td>-6.324833</td>\n      <td>1</td>\n    </tr>\n    <tr>\n      <th>2947</th>\n      <td>cv-valid-train/sample-178606.mp3</td>\n      <td>eighties</td>\n      <td>male</td>\n      <td>2947</td>\n      <td>3391.496749</td>\n      <td>2508.901516</td>\n      <td>6292.276845</td>\n      <td>-621.41790</td>\n      <td>36.027960</td>\n      <td>4.070062</td>\n      <td>...</td>\n      <td>-1.413431</td>\n      <td>-0.026878</td>\n      <td>-5.700069</td>\n      <td>-4.929518</td>\n      <td>2.729230</td>\n      <td>-2.640413</td>\n      <td>-4.677071</td>\n      <td>-1.325212</td>\n      <td>-3.844658</td>\n      <td>1</td>\n    </tr>\n  </tbody>\n</table>\n<p>2948 rows × 28 columns</p>\n</div>"
     },
     "execution_count": 13,
     "metadata": {},
     "output_type": "execute_result"
    }
   ],
   "source": [
    "merged"
   ],
   "metadata": {
    "collapsed": false,
    "pycharm": {
     "name": "#%%\n"
    }
   }
  },
  {
   "cell_type": "code",
   "execution_count": 14,
   "outputs": [],
   "source": [
    "from sklearn import preprocessing\n",
    "X = merged.loc[:, 'spectral_centroid':'MFCC_19']\n",
    "X_scale = pd.DataFrame(preprocessing.scale(X), columns=X.columns)  # center and scale\n",
    "y = merged.gender_num"
   ],
   "metadata": {
    "collapsed": false,
    "pycharm": {
     "name": "#%%\n"
    }
   }
  },
  {
   "cell_type": "markdown",
   "source": [
    "## Building models\n",
    "### Logistic regression"
   ],
   "metadata": {
    "collapsed": false,
    "pycharm": {
     "name": "#%% md\n"
    }
   },
   "execution_count": 81
  },
  {
   "cell_type": "code",
   "execution_count": 15,
   "outputs": [],
   "source": [
    "from sklearn.linear_model import LogisticRegression\n",
    "\n",
    "model = LogisticRegression()\n",
    "model.fit(X_scale,y)\n",
    "y_pred = model.predict(X_scale)\n"
   ],
   "metadata": {
    "collapsed": false,
    "pycharm": {
     "name": "#%%\n"
    }
   }
  },
  {
   "cell_type": "code",
   "execution_count": 16,
   "outputs": [
    {
     "name": "stdout",
     "output_type": "stream",
     "text": [
      "[[1119  229]\n",
      " [ 217 1383]]\n"
     ]
    },
    {
     "name": "stderr",
     "output_type": "stream",
     "text": [
      "c:\\users\\asemjen\\appdata\\local\\programs\\python\\python39\\lib\\site-packages\\sklearn\\utils\\deprecation.py:87: FutureWarning: Function plot_confusion_matrix is deprecated; Function `plot_confusion_matrix` is deprecated in 1.0 and will be removed in 1.2. Use one of the class methods: ConfusionMatrixDisplay.from_predictions or ConfusionMatrixDisplay.from_estimator.\n",
      "  warnings.warn(msg, category=FutureWarning)\n"
     ]
    },
    {
     "data": {
      "text/plain": "<sklearn.metrics._plot.confusion_matrix.ConfusionMatrixDisplay at 0x2069918e850>"
     },
     "execution_count": 16,
     "metadata": {},
     "output_type": "execute_result"
    },
    {
     "data": {
      "text/plain": "<Figure size 432x288 with 2 Axes>",
      "image/png": "[encoded data removed]"
     },
     "metadata": {
      "needs_background": "light"
     },
     "output_type": "display_data"
    }
   ],
   "source": [
    "from sklearn import metrics\n",
    "print(metrics.confusion_matrix(y, y_pred))\n",
    "metrics.plot_confusion_matrix(model, X_scale, y, display_labels=['male', 'female'], values_format='d')"
   ],
   "metadata": {
    "collapsed": false,
    "pycharm": {
     "name": "#%%\n"
    }
   }
  },
  {
   "cell_type": "code",
   "execution_count": 17,
   "outputs": [
    {
     "name": "stdout",
     "output_type": "stream",
     "text": [
      "0.8487109905020352\n",
      "0.857940446650124\n",
      "0.864375\n",
      "0.861145703611457\n"
     ]
    }
   ],
   "source": [
    "print(metrics.accuracy_score(y, y_pred))   # accuracy\n",
    "print(metrics.precision_score(y, y_pred))  # precision\n",
    "print(metrics.recall_score(y, y_pred))     # recall\n",
    "print(metrics.f1_score(y, y_pred))"
   ],
   "metadata": {
    "collapsed": false,
    "pycharm": {
     "name": "#%%\n"
    }
   }
  },
  {
   "cell_type": "code",
   "execution_count": 18,
   "outputs": [
    {
     "name": "stderr",
     "output_type": "stream",
     "text": [
      "c:\\users\\asemjen\\appdata\\local\\programs\\python\\python39\\lib\\site-packages\\sklearn\\utils\\deprecation.py:87: FutureWarning: Function plot_roc_curve is deprecated; Function :func:`plot_roc_curve` is deprecated in 1.0 and will be removed in 1.2. Use one of the class methods: :meth:`sklearn.metric.RocCurveDisplay.from_predictions` or :meth:`sklearn.metric.RocCurveDisplay.from_estimator`.\n",
      "  warnings.warn(msg, category=FutureWarning)\n"
     ]
    },
    {
     "data": {
      "text/plain": "<sklearn.metrics._plot.roc_curve.RocCurveDisplay at 0x20699287af0>"
     },
     "execution_count": 18,
     "metadata": {},
     "output_type": "execute_result"
    },
    {
     "data": {
      "text/plain": "<Figure size 432x288 with 1 Axes>",
      "image/png": "[encoded data removed]"
     },
     "metadata": {
      "needs_background": "light"
     },
     "output_type": "display_data"
    }
   ],
   "source": [
    "metrics.plot_roc_curve(model, X_scale, y)"
   ],
   "metadata": {
    "collapsed": false,
    "pycharm": {
     "name": "#%%\n"
    }
   }
  },
  {
   "cell_type": "markdown",
   "source": [
    "## K nearest neighbours\n"
   ],
   "metadata": {
    "collapsed": false,
    "pycharm": {
     "name": "#%% md\n"
    }
   }
  },
  {
   "cell_type": "code",
   "execution_count": 19,
   "outputs": [
    {
     "data": {
      "text/plain": "((2358, 23), (590, 23), (2358,), (590,))"
     },
     "execution_count": 19,
     "metadata": {},
     "output_type": "execute_result"
    }
   ],
   "source": [
    "\n",
    "from sklearn.model_selection import train_test_split\n",
    "\n",
    "X_train, X_test, y_train, y_test = train_test_split(X_scale, y, test_size=0.2, random_state=0)\n",
    "\n",
    "(X_train.shape, X_test.shape, y_train.shape, y_test.shape)"
   ],
   "metadata": {
    "collapsed": false,
    "pycharm": {
     "name": "#%%\n"
    }
   }
  },
  {
   "cell_type": "code",
   "execution_count": 20,
   "outputs": [
    {
     "data": {
      "text/plain": "k                       1.000000\nclassification error    0.124258\ndtype: float64"
     },
     "execution_count": 20,
     "metadata": {},
     "output_type": "execute_result"
    }
   ],
   "source": [
    "from sklearn.neighbors import KNeighborsClassifier\n",
    "from sklearn.model_selection import cross_val_score\n",
    "\n",
    "errors = []\n",
    "for k in range(1,80,2):\n",
    "    model = KNeighborsClassifier(n_neighbors=k)\n",
    "    errors.append({\n",
    "        'k': k,\n",
    "        'classification error': 1 - cross_val_score(model, X_train, y_train, cv=5).mean()\n",
    "    })\n",
    "\n",
    "results = pd.DataFrame(errors)\n",
    "results.min()"
   ],
   "metadata": {
    "collapsed": false,
    "pycharm": {
     "name": "#%%\n"
    }
   }
  },
  {
   "cell_type": "code",
   "execution_count": 21,
   "outputs": [
    {
     "data": {
      "text/plain": "<AxesSubplot:xlabel='k', ylabel='classification error'>"
     },
     "execution_count": 21,
     "metadata": {},
     "output_type": "execute_result"
    },
    {
     "data": {
      "text/plain": "<Figure size 432x288 with 1 Axes>",
      "image/png": "[encoded data removed]"
     },
     "metadata": {
      "needs_background": "light"
     },
     "output_type": "display_data"
    }
   ],
   "source": [
    "import seaborn as sns\n",
    "sns.scatterplot(x='k', y='classification error', data=results)"
   ],
   "metadata": {
    "collapsed": false,
    "pycharm": {
     "name": "#%%\n"
    }
   }
  },
  {
   "cell_type": "code",
   "execution_count": 23,
   "outputs": [
    {
     "data": {
      "text/plain": "0.11525423728813555"
     },
     "execution_count": 23,
     "metadata": {},
     "output_type": "execute_result"
    }
   ],
   "source": [
    "kn_model = KNeighborsClassifier(n_neighbors=1)\n",
    "kn_model.fit(X_train, y_train)\n",
    "1 - kn_model.score(X_test,y_test)\n"
   ],
   "metadata": {
    "collapsed": false,
    "pycharm": {
     "name": "#%%\n"
    }
   }
  }
 ],
 "metadata": {
  "kernelspec": {
   "display_name": "Python 3",
   "language": "python",
   "name": "python3"
  },
  "language_info": {
   "codemirror_mode": {
    "name": "ipython",
    "version": 2
   },
   "file_extension": ".py",
   "mimetype": "text/x-python",
   "name": "python",
   "nbconvert_exporter": "python",
   "pygments_lexer": "ipython2",
   "version": "2.7.6"
  }
 },
 "nbformat": 4,
 "nbformat_minor": 0
}