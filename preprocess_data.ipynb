{
 "cells": [
  {
   "cell_type": "markdown",
   "source": [
    "# Gender and age recognition from files"
   ],
   "metadata": {
    "collapsed": false
   }
  },
  {
   "cell_type": "markdown",
   "source": [
    "## Data\n",
    "The data we work with is called \"common voice data\", first we will look at the CSV file containing information about\n",
    "the voice files + some basic attributes, upvotes downvotes (we will not need this) gender and age."
   ],
   "metadata": {
    "collapsed": false,
    "pycharm": {
     "name": "#%% md\n"
    }
   }
  },
  {
   "cell_type": "markdown",
   "source": [
    "## Importing the data"
   ],
   "metadata": {
    "collapsed": false,
    "pycharm": {
     "name": "#%% md\n"
    }
   }
  },
  {
   "cell_type": "code",
   "execution_count": 2,
   "outputs": [],
   "source": [
    "# import the required packages\n",
    "import pandas as pd\n",
    "df = pd.read_csv(\"cv-valid-train.csv\")"
   ],
   "metadata": {
    "collapsed": false,
    "pycharm": {
     "name": "#%%\n"
    }
   }
  },
  {
   "cell_type": "markdown",
   "source": [
    "## Preprocessing data\n",
    "As we can see there are a number of empty columns, we won't be able to detect the gender without the source information\n",
    "therefore where the gender column is missing the data will be dropped."
   ],
   "metadata": {
    "collapsed": false,
    "pycharm": {
     "name": "#%% md\n"
    }
   }
  },
  {
   "cell_type": "code",
   "execution_count": 3,
   "outputs": [
    {
     "name": "stdout",
     "output_type": "stream",
     "text": [
      "This is the length of the dataframe 195776\n",
      "This is the length of of rows where both columns are null 74361\n",
      "This is the sum of the two should be the length of the df 195776\n"
     ]
    },
    {
     "data": {
      "text/plain": "        index                          filename  \\\n0           5  cv-valid-train/sample-000005.mp3   \n1           8  cv-valid-train/sample-000008.mp3   \n2          13  cv-valid-train/sample-000013.mp3   \n3          14  cv-valid-train/sample-000014.mp3   \n4          19  cv-valid-train/sample-000019.mp3   \n...       ...                               ...   \n74356  195766  cv-valid-train/sample-195766.mp3   \n74357  195767  cv-valid-train/sample-195767.mp3   \n74358  195770  cv-valid-train/sample-195770.mp3   \n74359  195771  cv-valid-train/sample-195771.mp3   \n74360  195774  cv-valid-train/sample-195774.mp3   \n\n                                                    text  up_votes  \\\n0      a shepherd may like to travel but he should ne...         1   \n1                          put jackie right on the staff         3   \n2      but he had found a guide and didn't want to mi...         1   \n3      as they began to decorate the hallway a silhou...         1   \n4       then they got ahold of some dough and went goofy         1   \n...                                                  ...       ...   \n74356  but before i go i want to tell you a little story         1   \n74357  down below in the darkness were hundreds of pe...         3   \n74358  he heard a muffled grating sound and saw the b...         4   \n74359                        the englishman said nothing         1   \n74360                 the phone rang while she was awake         2   \n\n       down_votes        age  gender     accent  duration  \n0               0   twenties  female         us       NaN  \n1               0  seventies    male         us       NaN  \n2               0   thirties  female         us       NaN  \n3               0    sixties    male    england       NaN  \n4               0    fifties    male  australia       NaN  \n...           ...        ...     ...        ...       ...  \n74356           0   fourties    male    england       NaN  \n74357           0   thirties  female         us       NaN  \n74358           0   twenties    male    england       NaN  \n74359           0   thirties    male    england       NaN  \n74360           0   twenties    male         us       NaN  \n\n[74361 rows x 9 columns]",
      "text/html": "<div>\n<style scoped>\n    .dataframe tbody tr th:only-of-type {\n        vertical-align: middle;\n    }\n\n    .dataframe tbody tr th {\n        vertical-align: top;\n    }\n\n    .dataframe thead th {\n        text-align: right;\n    }\n</style>\n<table border=\"1\" class=\"dataframe\">\n  <thead>\n    <tr style=\"text-align: right;\">\n      <th></th>\n      <th>index</th>\n      <th>filename</th>\n      <th>text</th>\n      <th>up_votes</th>\n      <th>down_votes</th>\n      <th>age</th>\n      <th>gender</th>\n      <th>accent</th>\n      <th>duration</th>\n    </tr>\n  </thead>\n  <tbody>\n    <tr>\n      <th>0</th>\n      <td>5</td>\n      <td>cv-valid-train/sample-000005.mp3</td>\n      <td>a shepherd may like to travel but he should ne...</td>\n      <td>1</td>\n      <td>0</td>\n      <td>twenties</td>\n      <td>female</td>\n      <td>us</td>\n      <td>NaN</td>\n    </tr>\n    <tr>\n      <th>1</th>\n      <td>8</td>\n      <td>cv-valid-train/sample-000008.mp3</td>\n      <td>put jackie right on the staff</td>\n      <td>3</td>\n      <td>0</td>\n      <td>seventies</td>\n      <td>male</td>\n      <td>us</td>\n      <td>NaN</td>\n    </tr>\n    <tr>\n      <th>2</th>\n      <td>13</td>\n      <td>cv-valid-train/sample-000013.mp3</td>\n      <td>but he had found a guide and didn't want to mi...</td>\n      <td>1</td>\n      <td>0</td>\n      <td>thirties</td>\n      <td>female</td>\n      <td>us</td>\n      <td>NaN</td>\n    </tr>\n    <tr>\n      <th>3</th>\n      <td>14</td>\n      <td>cv-valid-train/sample-000014.mp3</td>\n      <td>as they began to decorate the hallway a silhou...</td>\n      <td>1</td>\n      <td>0</td>\n      <td>sixties</td>\n      <td>male</td>\n      <td>england</td>\n      <td>NaN</td>\n    </tr>\n    <tr>\n      <th>4</th>\n      <td>19</td>\n      <td>cv-valid-train/sample-000019.mp3</td>\n      <td>then they got ahold of some dough and went goofy</td>\n      <td>1</td>\n      <td>0</td>\n      <td>fifties</td>\n      <td>male</td>\n      <td>australia</td>\n      <td>NaN</td>\n    </tr>\n    <tr>\n      <th>...</th>\n      <td>...</td>\n      <td>...</td>\n      <td>...</td>\n      <td>...</td>\n      <td>...</td>\n      <td>...</td>\n      <td>...</td>\n      <td>...</td>\n      <td>...</td>\n    </tr>\n    <tr>\n      <th>74356</th>\n      <td>195766</td>\n      <td>cv-valid-train/sample-195766.mp3</td>\n      <td>but before i go i want to tell you a little story</td>\n      <td>1</td>\n      <td>0</td>\n      <td>fourties</td>\n      <td>male</td>\n      <td>england</td>\n      <td>NaN</td>\n    </tr>\n    <tr>\n      <th>74357</th>\n      <td>195767</td>\n      <td>cv-valid-train/sample-195767.mp3</td>\n      <td>down below in the darkness were hundreds of pe...</td>\n      <td>3</td>\n      <td>0</td>\n      <td>thirties</td>\n      <td>female</td>\n      <td>us</td>\n      <td>NaN</td>\n    </tr>\n    <tr>\n      <th>74358</th>\n      <td>195770</td>\n      <td>cv-valid-train/sample-195770.mp3</td>\n      <td>he heard a muffled grating sound and saw the b...</td>\n      <td>4</td>\n      <td>0</td>\n      <td>twenties</td>\n      <td>male</td>\n      <td>england</td>\n      <td>NaN</td>\n    </tr>\n    <tr>\n      <th>74359</th>\n      <td>195771</td>\n      <td>cv-valid-train/sample-195771.mp3</td>\n      <td>the englishman said nothing</td>\n      <td>1</td>\n      <td>0</td>\n      <td>thirties</td>\n      <td>male</td>\n      <td>england</td>\n      <td>NaN</td>\n    </tr>\n    <tr>\n      <th>74360</th>\n      <td>195774</td>\n      <td>cv-valid-train/sample-195774.mp3</td>\n      <td>the phone rang while she was awake</td>\n      <td>2</td>\n      <td>0</td>\n      <td>twenties</td>\n      <td>male</td>\n      <td>us</td>\n      <td>NaN</td>\n    </tr>\n  </tbody>\n</table>\n<p>74361 rows × 9 columns</p>\n</div>"
     },
     "execution_count": 3,
     "metadata": {},
     "output_type": "execute_result"
    }
   ],
   "source": [
    "#Identify where gender and age are missing\n",
    "print(f'This is the length of the dataframe {len(df)}')\n",
    "null_num = len(df.loc[(pd.isnull(df.gender) & pd.isnull(df.age))])\n",
    "not_null = len(df.loc[~(pd.isnull(df.gender) & pd.isnull(df.age))])\n",
    "print(f'This is the length of of rows where both columns are null {not_null}')\n",
    "print(f'This is the sum of the two should be the length of the df {not_null+null_num}')\n",
    "# this is just to make sure we negated the the df.gender and df.age not null correctly\n",
    "valid_df = df.loc[~(pd.isnull(df.gender) & pd.isnull(df.age))]\n",
    "valid_df.reset_index(inplace=True)\n",
    "valid_df"
   ],
   "metadata": {
    "collapsed": false,
    "pycharm": {
     "name": "#%%\n"
    }
   }
  },
  {
   "cell_type": "markdown",
   "source": [
    "Now in a variable we stored valid_df which doesn't contain any missing data, now it is time to collect information on\n",
    "the voice dataset"
   ],
   "metadata": {
    "collapsed": false,
    "pycharm": {
     "name": "#%% md\n"
    }
   }
  },
  {
   "cell_type": "markdown",
   "source": [
    "# The voice dataset & Feature extraction\n",
    "Saved in mp3 format we will use a package called librosa to look at the data.\n",
    "There are a number of complex features that we can extract from the data\n",
    "\n",
    "* **Spectral centroid** - this takes samples of the recordings using Fourier Transform\n",
    "the transformation decomposes the waveform of a musical chord into terms of the intensity of its constituent pitches.\n",
    "The easy way to understand this variable is to imagine a weighted average on the audio file depending on the intensity of high\n",
    "vs low pitches. This will play a key role in detecting whether this is a male or female.\n",
    "* **Spectral Bandwidth** is the difference between the upper and lower frequencies in a continuous band of frequencies.\n",
    "As we know the signals oscillate about a point so if the point is the centroid of the signal then the sum of\n",
    "maximum deviation of the signal on both sides of the point can be considered as the bandwidth of the signal\n",
    "at that time frame\n",
    "* **Spectral roll-off** It can be defined as the action of a specific type of\n",
    "filter which is designed to roll off the frequencies outside to a specific range. The reason we call\n",
    "it roll-off is because it is a gradual procedure.\n",
    "There can be two kinds of filters: hi-pass and low pass and both can roll off the frequency from a signal\n",
    "going outside of their range.\n",
    "* **Tonnetz** ?\n",
    "* **MFCC**\n",
    "## TO DO\n",
    "?? let's see if there is more to add to this and also to clarify these\n"
   ],
   "metadata": {
    "collapsed": false,
    "pycharm": {
     "name": "#%% md\n"
    }
   }
  },
  {
   "cell_type": "code",
   "execution_count": 4,
   "outputs": [],
   "source": [
    "# Writing a function its sole purpose will be to read in an audio file and extract the features mentioned above\n",
    "import librosa\n",
    "import os\n",
    "import errno\n",
    "import numpy as np"
   ],
   "metadata": {
    "collapsed": false,
    "pycharm": {
     "name": "#%%\n"
    }
   }
  },
  {
   "cell_type": "code",
   "execution_count": 5,
   "outputs": [],
   "source": [
    "def import_mp3file(path:str, file_name:str, spectral_centroid:bool=True, spectral_bandwidth:bool=True,\n",
    "                   spectral_roll_off:bool=True, MFCC:bool=True) -> dict:\n",
    "    \"\"\"\n",
    "    :param path: path to the file\n",
    "    :param file_name: name of the file\n",
    "    :param spectral_centroid: if true spectral centroid is in the output\n",
    "    :param spectral_bandwidth: if true spectral bandwidth is in the output\n",
    "    :param spectral_roll_off: if true roll_off is in the output\n",
    "    :param MFCC: if true MFCC values are in the output\n",
    "    :return: filename + dictionary with feature set\n",
    "    \"\"\"\n",
    "    if os.path.isfile(os.path.join(path, file_name)):\n",
    "        audio, _ = librosa.load(os.path.join(path, file_name))\n",
    "        output = dict()\n",
    "        output['filename'] = file_name\n",
    "        if spectral_centroid:\n",
    "            spectral_centroid_value = np.mean(librosa.feature.spectral_centroid(y=audio))\n",
    "            output[\"spectral_centroid\"] = spectral_centroid_value\n",
    "        if spectral_bandwidth:\n",
    "            spectral_bandwidth_value = np.mean(librosa.feature.spectral_bandwidth(y=audio))\n",
    "            output[\"spectral_bandwidth\"] = spectral_bandwidth_value\n",
    "        if spectral_roll_off:\n",
    "            spectral_roll_off_value = np.mean(librosa.feature.spectral_rolloff(y=audio))\n",
    "            output[\"spectral_rolloff\"] = spectral_roll_off_value\n",
    "        if MFCC:\n",
    "            MFCC_values = librosa.feature.mfcc(y=audio)\n",
    "            for i, element in enumerate(MFCC_values):\n",
    "                output[f'MFCC_{i}'] = np.mean(element)\n",
    "        return output\n",
    "\n",
    "    else:\n",
    "        raise FileNotFoundError(errno.ENOENT, os.strerror(errno.ENOENT), os.path.join(path,file_name))\n"
   ],
   "metadata": {
    "collapsed": false,
    "pycharm": {
     "name": "#%%\n"
    }
   }
  },
  {
   "cell_type": "code",
   "execution_count": 6,
   "outputs": [
    {
     "name": "stderr",
     "output_type": "stream",
     "text": [
      "c:\\users\\asemjen\\appdata\\local\\programs\\python\\python39\\lib\\site-packages\\librosa\\util\\decorators.py:88: UserWarning: PySoundFile failed. Trying audioread instead.\n",
      "  return f(*args, **kwargs)\n"
     ]
    },
    {
     "name": "stdout",
     "output_type": "stream",
     "text": [
      "{'filename': 'cv-valid-train/sample-000008.mp3', 'spectral_centroid': 2352.7475565141926, 'spectral_bandwidth': 1854.9463106224644, 'spectral_rolloff': 3968.712890625, 'MFCC_0': -415.57288, 'MFCC_1': 99.58028, 'MFCC_2': -27.460777, 'MFCC_3': 10.333393, 'MFCC_4': 7.2848096, 'MFCC_5': 0.9885974, 'MFCC_6': -22.434021, 'MFCC_7': -21.395174, 'MFCC_8': -16.391228, 'MFCC_9': -7.847973, 'MFCC_10': 0.43195435, 'MFCC_11': 5.885935, 'MFCC_12': -7.2544622, 'MFCC_13': -3.529506, 'MFCC_14': -13.423277, 'MFCC_15': -1.1738807, 'MFCC_16': -7.1814423, 'MFCC_17': 5.562098, 'MFCC_18': -6.6943316, 'MFCC_19': -1.178298}\n"
     ]
    }
   ],
   "source": [
    "#Testing the function - for the errors there is no test for now\n",
    "path = \"./cv-valid-train/\"\n",
    "file_name = valid_df.filename.iloc[1]\n",
    "test_dict = import_mp3file(path, file_name)\n",
    "print(test_dict)\n"
   ],
   "metadata": {
    "collapsed": false,
    "pycharm": {
     "name": "#%%\n"
    }
   }
  },
  {
   "cell_type": "code",
   "execution_count": 7,
   "outputs": [
    {
     "name": "stderr",
     "output_type": "stream",
     "text": [
      "c:\\users\\asemjen\\appdata\\local\\programs\\python\\python39\\lib\\site-packages\\librosa\\util\\decorators.py:88: UserWarning: PySoundFile failed. Trying audioread instead.\n",
      "  return f(*args, **kwargs)\n"
     ]
    },
    {
     "data": {
      "text/plain": "array([[4460.22175571, 4175.59117068, 3884.60612779, 3374.71829314,\n        1144.64655545, 1092.94004371, 1225.65807209, 1266.59594119,\n        1232.85026572, 2744.17641222, 4105.00095856, 3749.85456925,\n        2332.4429962 , 1651.9227578 , 1553.81723776, 1566.04631018,\n        1544.57575462, 1525.91524213, 1576.66014615, 1929.20321356,\n        2672.19538181, 2476.3592423 , 1755.23655177, 1611.70976292,\n        1461.32540332, 1352.79000052, 1454.62261381, 1340.39012086,\n         992.77723306, 1032.26490225, 1148.66817526, 1296.14941814,\n        1427.50061457, 1517.80837736, 1472.37735089, 1393.89724893,\n        1313.14088119, 1256.17061522, 1163.08342939, 1063.48420999,\n         999.93926298, 1031.49493118, 1117.12346428, 1254.74466627,\n        1398.78795777, 1528.87036282, 1578.40015717, 1771.66304659,\n        3543.62932697, 4743.56534655, 5102.61070267, 5170.89100393,\n        5356.37322273, 5557.71014968, 5510.2354996 , 2655.50800088,\n        1599.98330424, 1449.93721998, 1466.37987571, 1411.23755945,\n        1422.19414607, 1619.24419851, 1762.79126197, 1785.24080205,\n        1896.21624887, 2082.06457133, 2359.19393764, 3520.59995465,\n        4449.38758826, 4668.31527028, 4622.35648383, 4263.58318073,\n        4158.0293405 , 4173.74573228, 4084.62360269]])"
     },
     "execution_count": 7,
     "metadata": {},
     "output_type": "execute_result"
    },
    {
     "data": {
      "text/plain": "<Figure size 1600x1120 with 0 Axes>"
     },
     "metadata": {},
     "output_type": "display_data"
    },
    {
     "data": {
      "text/plain": "<Figure size 432x288 with 1 Axes>",
      "image/png": "[encoded data removed]"
     },
     "metadata": {
      "needs_background": "light"
     },
     "output_type": "display_data"
    }
   ],
   "source": [
    "# This is just here to play around with the central spectroid data, see the frequency bins and the averages over time\n",
    "import matplotlib.pyplot as plt\n",
    "import librosa.display\n",
    "\n",
    "\n",
    "audio, _ = librosa.load(os.path.join(path, file_name))\n",
    "x = librosa.feature.spectral_centroid(y=audio, win_length=2048*1, n_fft=2048*1)\n",
    "S, phase = librosa.magphase(librosa.stft(y=audio))\n",
    "plt.figure(figsize=(20, 14), dpi=80)\n",
    "times = librosa.times_like(x)\n",
    "fig, ax = plt.subplots()\n",
    "librosa.display.specshow(librosa.amplitude_to_db(S, ref=np.max),\n",
    "                         y_axis='log', x_axis='time', ax=ax)\n",
    "ax.plot(times, x.T, label='Spectral centroid', color='w')\n",
    "ax.legend(loc='upper right')\n",
    "ax.set(title='log Power spectrogram')\n",
    "\n",
    "librosa.feature.spectral_centroid(S=S)\n"
   ],
   "metadata": {
    "collapsed": false,
    "pycharm": {
     "name": "#%%\n"
    }
   }
  },
  {
   "cell_type": "markdown",
   "source": [
    "## Finally let's build a dataset with the extracted features\n",
    "\n"
   ],
   "metadata": {
    "collapsed": false,
    "pycharm": {
     "name": "#%% md\n"
    }
   }
  },
  {
   "cell_type": "code",
   "execution_count": 88,
   "outputs": [
    {
     "name": "stdout",
     "output_type": "stream",
     "text": [
      "           index  filename  text  up_votes  down_votes  gender  accent  \\\n",
      "age                                                                      \n",
      "eighties      18        18    18        18          18      18      18   \n",
      "fifties     4467      4467  4467      4467        4467    4467    4019   \n",
      "fourties    2187      2187  2187      2187        2187    2187    2031   \n",
      "seventies    130       130   130       130         130     130     129   \n",
      "sixties     1722      1722  1722      1722        1722    1722    1691   \n",
      "teens       1060      1060  1060      1060        1060    1060     938   \n",
      "thirties    4560      4560  4560      4560        4560    4560    4318   \n",
      "twenties    3955      3955  3955      3955        3955    3955    3275   \n",
      "\n",
      "           duration  \n",
      "age                  \n",
      "eighties          0  \n",
      "fifties           0  \n",
      "fourties          0  \n",
      "seventies         0  \n",
      "sixties           0  \n",
      "teens             0  \n",
      "thirties          0  \n",
      "twenties          0  \n",
      "unique ages: ['twenties', 'seventies', 'thirties', 'sixties', 'fifties', 'fourties', 'teens', 'eighties']\n"
     ]
    },
    {
     "name": "stderr",
     "output_type": "stream",
     "text": [
      "C:\\Users\\ASemjen\\AppData\\Local\\Temp\\ipykernel_26652\\226188933.py:15: FutureWarning: The frame.append method is deprecated and will be removed from pandas in a future version. Use pandas.concat instead.\n",
      "  sampled_df = sampled_df.append(temp_df[:400])\n",
      "C:\\Users\\ASemjen\\AppData\\Local\\Temp\\ipykernel_26652\\226188933.py:15: FutureWarning: The frame.append method is deprecated and will be removed from pandas in a future version. Use pandas.concat instead.\n",
      "  sampled_df = sampled_df.append(temp_df[:400])\n",
      "C:\\Users\\ASemjen\\AppData\\Local\\Temp\\ipykernel_26652\\226188933.py:15: FutureWarning: The frame.append method is deprecated and will be removed from pandas in a future version. Use pandas.concat instead.\n",
      "  sampled_df = sampled_df.append(temp_df[:400])\n",
      "C:\\Users\\ASemjen\\AppData\\Local\\Temp\\ipykernel_26652\\226188933.py:15: FutureWarning: The frame.append method is deprecated and will be removed from pandas in a future version. Use pandas.concat instead.\n",
      "  sampled_df = sampled_df.append(temp_df[:400])\n",
      "C:\\Users\\ASemjen\\AppData\\Local\\Temp\\ipykernel_26652\\226188933.py:15: FutureWarning: The frame.append method is deprecated and will be removed from pandas in a future version. Use pandas.concat instead.\n",
      "  sampled_df = sampled_df.append(temp_df[:400])\n",
      "C:\\Users\\ASemjen\\AppData\\Local\\Temp\\ipykernel_26652\\226188933.py:15: FutureWarning: The frame.append method is deprecated and will be removed from pandas in a future version. Use pandas.concat instead.\n",
      "  sampled_df = sampled_df.append(temp_df[:400])\n",
      "C:\\Users\\ASemjen\\AppData\\Local\\Temp\\ipykernel_26652\\226188933.py:15: FutureWarning: The frame.append method is deprecated and will be removed from pandas in a future version. Use pandas.concat instead.\n",
      "  sampled_df = sampled_df.append(temp_df[:400])\n",
      "C:\\Users\\ASemjen\\AppData\\Local\\Temp\\ipykernel_26652\\226188933.py:15: FutureWarning: The frame.append method is deprecated and will be removed from pandas in a future version. Use pandas.concat instead.\n",
      "  sampled_df = sampled_df.append(temp_df[:400])\n",
      "C:\\Users\\ASemjen\\AppData\\Local\\Temp\\ipykernel_26652\\226188933.py:20: FutureWarning: The frame.append method is deprecated and will be removed from pandas in a future version. Use pandas.concat instead.\n",
      "  sampled_df = sampled_df.append(temp_df[:400])\n",
      "C:\\Users\\ASemjen\\AppData\\Local\\Temp\\ipykernel_26652\\226188933.py:20: FutureWarning: The frame.append method is deprecated and will be removed from pandas in a future version. Use pandas.concat instead.\n",
      "  sampled_df = sampled_df.append(temp_df[:400])\n",
      "C:\\Users\\ASemjen\\AppData\\Local\\Temp\\ipykernel_26652\\226188933.py:20: FutureWarning: The frame.append method is deprecated and will be removed from pandas in a future version. Use pandas.concat instead.\n",
      "  sampled_df = sampled_df.append(temp_df[:400])\n",
      "C:\\Users\\ASemjen\\AppData\\Local\\Temp\\ipykernel_26652\\226188933.py:20: FutureWarning: The frame.append method is deprecated and will be removed from pandas in a future version. Use pandas.concat instead.\n",
      "  sampled_df = sampled_df.append(temp_df[:400])\n",
      "C:\\Users\\ASemjen\\AppData\\Local\\Temp\\ipykernel_26652\\226188933.py:20: FutureWarning: The frame.append method is deprecated and will be removed from pandas in a future version. Use pandas.concat instead.\n",
      "  sampled_df = sampled_df.append(temp_df[:400])\n",
      "C:\\Users\\ASemjen\\AppData\\Local\\Temp\\ipykernel_26652\\226188933.py:20: FutureWarning: The frame.append method is deprecated and will be removed from pandas in a future version. Use pandas.concat instead.\n",
      "  sampled_df = sampled_df.append(temp_df[:400])\n",
      "C:\\Users\\ASemjen\\AppData\\Local\\Temp\\ipykernel_26652\\226188933.py:20: FutureWarning: The frame.append method is deprecated and will be removed from pandas in a future version. Use pandas.concat instead.\n",
      "  sampled_df = sampled_df.append(temp_df[:400])\n",
      "C:\\Users\\ASemjen\\AppData\\Local\\Temp\\ipykernel_26652\\226188933.py:20: FutureWarning: The frame.append method is deprecated and will be removed from pandas in a future version. Use pandas.concat instead.\n",
      "  sampled_df = sampled_df.append(temp_df[:400])\n"
     ]
    }
   ],
   "source": [
    "# Unfortunately it takes sime to extract these values therefore instead of running it for the whole dataset let's export\n",
    "# a few records - and to make sure it is a balanced dataset\n",
    "# if the file has already been extracted\n",
    "if not os.path.isfile(\"./cleaned_training_data.csv\"):\n",
    "    print(valid_df.loc[valid_df.gender==\"female\"].groupby(\"age\").count())\n",
    "    # There is very few data from eighties and a lot more from younger ppl, let's try to grab 200 records from each category\n",
    "    unique_ages = list(valid_df.age.unique())\n",
    "    unique_ages.remove(np.nan)\n",
    "    print(f'unique ages: {unique_ages}')\n",
    "\n",
    "    sampled_df = pd.DataFrame()\n",
    "    for age_group in unique_ages:\n",
    "       temp_df = pd.DataFrame()\n",
    "       temp_df = valid_df.loc[(valid_df.gender==\"female\") & (valid_df.age==age_group)].copy()\n",
    "       sampled_df = sampled_df.append(temp_df[:400])\n",
    "\n",
    "    for age_group in unique_ages:\n",
    "       temp_df = pd.DataFrame()\n",
    "       temp_df = valid_df.loc[(valid_df.gender==\"male\") & (valid_df.age==age_group)].copy()\n",
    "       sampled_df = sampled_df.append(temp_df[:400])\n",
    "\n",
    "    sampled_df.to_csv(\"cleaned_training_data.csv\", index=False)\n",
    "\n",
    "else:\n",
    "    sampled_df = pd.read_csv(\"./cleaned_training_data.csv\")"
   ],
   "metadata": {
    "collapsed": false,
    "pycharm": {
     "name": "#%%\n"
    }
   }
  },
  {
   "cell_type": "code",
   "execution_count": 89,
   "outputs": [
    {
     "data": {
      "text/plain": "        index                          filename  \\\n0           5  cv-valid-train/sample-000005.mp3   \n7          26  cv-valid-train/sample-000026.mp3   \n23         59  cv-valid-train/sample-000059.mp3   \n36        101  cv-valid-train/sample-000101.mp3   \n53        155  cv-valid-train/sample-000155.mp3   \n...       ...                               ...   \n72799  191708  cv-valid-train/sample-191708.mp3   \n72826  191778  cv-valid-train/sample-191778.mp3   \n73016  192279  cv-valid-train/sample-192279.mp3   \n73323  193063  cv-valid-train/sample-193063.mp3   \n74242  195455  cv-valid-train/sample-195455.mp3   \n\n                                                    text  up_votes  \\\n0      a shepherd may like to travel but he should ne...         1   \n7      two years ago right here on this spot i had a ...         4   \n23     finally a young woman approached who was not d...         3   \n36             the fumes from the traffic was unbearable         2   \n53                      let him have everything he wants         1   \n...                                                  ...       ...   \n72799                  wait till martha hears about this         2   \n72826                           you know where she lives         1   \n73016  picking up where he left off she finished the ...         1   \n73323       the congestion was heavy throughout the city         1   \n74242      this box of markers has many different colors         1   \n\n       down_votes       age  gender     accent  duration  \n0               0  twenties  female         us       NaN  \n7               0  twenties  female  australia       NaN  \n23              0  twenties  female         us       NaN  \n36              0  twenties  female        NaN       NaN  \n53              0  twenties  female    england       NaN  \n...           ...       ...     ...        ...       ...  \n72799           0  eighties    male  australia       NaN  \n72826           0  eighties    male  australia       NaN  \n73016           0  eighties    male  australia       NaN  \n73323           0  eighties    male         us       NaN  \n74242           0  eighties    male         us       NaN  \n\n[5569 rows x 9 columns]",
      "text/html": "<div>\n<style scoped>\n    .dataframe tbody tr th:only-of-type {\n        vertical-align: middle;\n    }\n\n    .dataframe tbody tr th {\n        vertical-align: top;\n    }\n\n    .dataframe thead th {\n        text-align: right;\n    }\n</style>\n<table border=\"1\" class=\"dataframe\">\n  <thead>\n    <tr style=\"text-align: right;\">\n      <th></th>\n      <th>index</th>\n      <th>filename</th>\n      <th>text</th>\n      <th>up_votes</th>\n      <th>down_votes</th>\n      <th>age</th>\n      <th>gender</th>\n      <th>accent</th>\n      <th>duration</th>\n    </tr>\n  </thead>\n  <tbody>\n    <tr>\n      <th>0</th>\n      <td>5</td>\n      <td>cv-valid-train/sample-000005.mp3</td>\n      <td>a shepherd may like to travel but he should ne...</td>\n      <td>1</td>\n      <td>0</td>\n      <td>twenties</td>\n      <td>female</td>\n      <td>us</td>\n      <td>NaN</td>\n    </tr>\n    <tr>\n      <th>7</th>\n      <td>26</td>\n      <td>cv-valid-train/sample-000026.mp3</td>\n      <td>two years ago right here on this spot i had a ...</td>\n      <td>4</td>\n      <td>0</td>\n      <td>twenties</td>\n      <td>female</td>\n      <td>australia</td>\n      <td>NaN</td>\n    </tr>\n    <tr>\n      <th>23</th>\n      <td>59</td>\n      <td>cv-valid-train/sample-000059.mp3</td>\n      <td>finally a young woman approached who was not d...</td>\n      <td>3</td>\n      <td>0</td>\n      <td>twenties</td>\n      <td>female</td>\n      <td>us</td>\n      <td>NaN</td>\n    </tr>\n    <tr>\n      <th>36</th>\n      <td>101</td>\n      <td>cv-valid-train/sample-000101.mp3</td>\n      <td>the fumes from the traffic was unbearable</td>\n      <td>2</td>\n      <td>0</td>\n      <td>twenties</td>\n      <td>female</td>\n      <td>NaN</td>\n      <td>NaN</td>\n    </tr>\n    <tr>\n      <th>53</th>\n      <td>155</td>\n      <td>cv-valid-train/sample-000155.mp3</td>\n      <td>let him have everything he wants</td>\n      <td>1</td>\n      <td>0</td>\n      <td>twenties</td>\n      <td>female</td>\n      <td>england</td>\n      <td>NaN</td>\n    </tr>\n    <tr>\n      <th>...</th>\n      <td>...</td>\n      <td>...</td>\n      <td>...</td>\n      <td>...</td>\n      <td>...</td>\n      <td>...</td>\n      <td>...</td>\n      <td>...</td>\n      <td>...</td>\n    </tr>\n    <tr>\n      <th>72799</th>\n      <td>191708</td>\n      <td>cv-valid-train/sample-191708.mp3</td>\n      <td>wait till martha hears about this</td>\n      <td>2</td>\n      <td>0</td>\n      <td>eighties</td>\n      <td>male</td>\n      <td>australia</td>\n      <td>NaN</td>\n    </tr>\n    <tr>\n      <th>72826</th>\n      <td>191778</td>\n      <td>cv-valid-train/sample-191778.mp3</td>\n      <td>you know where she lives</td>\n      <td>1</td>\n      <td>0</td>\n      <td>eighties</td>\n      <td>male</td>\n      <td>australia</td>\n      <td>NaN</td>\n    </tr>\n    <tr>\n      <th>73016</th>\n      <td>192279</td>\n      <td>cv-valid-train/sample-192279.mp3</td>\n      <td>picking up where he left off she finished the ...</td>\n      <td>1</td>\n      <td>0</td>\n      <td>eighties</td>\n      <td>male</td>\n      <td>australia</td>\n      <td>NaN</td>\n    </tr>\n    <tr>\n      <th>73323</th>\n      <td>193063</td>\n      <td>cv-valid-train/sample-193063.mp3</td>\n      <td>the congestion was heavy throughout the city</td>\n      <td>1</td>\n      <td>0</td>\n      <td>eighties</td>\n      <td>male</td>\n      <td>us</td>\n      <td>NaN</td>\n    </tr>\n    <tr>\n      <th>74242</th>\n      <td>195455</td>\n      <td>cv-valid-train/sample-195455.mp3</td>\n      <td>this box of markers has many different colors</td>\n      <td>1</td>\n      <td>0</td>\n      <td>eighties</td>\n      <td>male</td>\n      <td>us</td>\n      <td>NaN</td>\n    </tr>\n  </tbody>\n</table>\n<p>5569 rows × 9 columns</p>\n</div>"
     },
     "execution_count": 89,
     "metadata": {},
     "output_type": "execute_result"
    }
   ],
   "source": [
    "sampled_df"
   ],
   "metadata": {
    "collapsed": false,
    "pycharm": {
     "name": "#%%\n"
    }
   }
  },
  {
   "cell_type": "code",
   "execution_count": 90,
   "outputs": [
    {
     "name": "stderr",
     "output_type": "stream",
     "text": [
      "c:\\users\\asemjen\\appdata\\local\\programs\\python\\python39\\lib\\site-packages\\librosa\\util\\decorators.py:88: UserWarning: PySoundFile failed. Trying audioread instead.\n",
      "  return f(*args, **kwargs)\n"
     ]
    },
    {
     "name": "stdout",
     "output_type": "stream",
     "text": [
      "Processed 0 records\n",
      "Processed 100 records\n",
      "Processed 200 records\n",
      "Processed 300 records\n",
      "Processed 400 records\n",
      "Processed 500 records\n",
      "Processed 600 records\n",
      "Processed 700 records\n",
      "Processed 800 records\n",
      "Processed 900 records\n",
      "Processed 1000 records\n",
      "Processed 1100 records\n",
      "Processed 1200 records\n",
      "Processed 1300 records\n",
      "Processed 1400 records\n",
      "Processed 1500 records\n",
      "Processed 1600 records\n",
      "Processed 1700 records\n",
      "Processed 1800 records\n",
      "Processed 1900 records\n",
      "Processed 2000 records\n",
      "Processed 2100 records\n",
      "Processed 2200 records\n",
      "Processed 2300 records\n",
      "Processed 2400 records\n",
      "Processed 2500 records\n",
      "Processed 2600 records\n",
      "Processed 2700 records\n",
      "Processed 2800 records\n",
      "Processed 2900 records\n",
      "Processed 3000 records\n",
      "Processed 3100 records\n",
      "Processed 3200 records\n",
      "Processed 3300 records\n",
      "Processed 3400 records\n",
      "Processed 3500 records\n",
      "Processed 3600 records\n",
      "Processed 3700 records\n",
      "Processed 3800 records\n",
      "Processed 3900 records\n",
      "Processed 4000 records\n",
      "Processed 4100 records\n",
      "Processed 4200 records\n",
      "Processed 4300 records\n",
      "Processed 4400 records\n",
      "Processed 4500 records\n",
      "Processed 4600 records\n",
      "Processed 4700 records\n",
      "Processed 4800 records\n",
      "Processed 4900 records\n",
      "Processed 5000 records\n",
      "Processed 5100 records\n",
      "Processed 5200 records\n",
      "Processed 5300 records\n",
      "Processed 5400 records\n",
      "Processed 5500 records\n"
     ]
    }
   ],
   "source": [
    "# if the training set has already been generated don't run this again - anyways this takes a pretty long time to extract\n",
    "if not os.path.isfile(\"./recording_features.csv\"):\n",
    "    files = sampled_df.filename.to_list()\n",
    "    features = []\n",
    "    for i, filename in enumerate(files):\n",
    "        recording_feature = import_mp3file(path, filename)\n",
    "        features.append(recording_feature)\n",
    "        if i % 100 == 0:\n",
    "            print(f'Processed {i} records')\n",
    "\n",
    "    final = pd.DataFrame(features)\n",
    "    final.to_csv(\"recording_features.csv\")\n",
    "else:\n",
    "    final = pd.read_csv(\"recording_features.csv\")"
   ],
   "metadata": {
    "collapsed": false,
    "pycharm": {
     "name": "#%%\n"
    }
   }
  },
  {
   "cell_type": "markdown",
   "source": [
    "## Joining the two dataframes and standardizing the data\n"
   ],
   "metadata": {
    "collapsed": false,
    "pycharm": {
     "name": "#%% md\n"
    }
   }
  },
  {
   "cell_type": "code",
   "execution_count": 91,
   "outputs": [],
   "source": [
    "#time to remove columns we don't need\n",
    "sampled_df = sampled_df.drop(columns=[\"up_votes\", \"down_votes\", \"duration\", \"accent\", \"index\",\"text\"])"
   ],
   "metadata": {
    "collapsed": false,
    "pycharm": {
     "name": "#%%\n"
    }
   }
  },
  {
   "cell_type": "code",
   "execution_count": 145,
   "outputs": [
    {
     "data": {
      "text/plain": "                              filename       age  gender  spectral_centroid  \\\n0     cv-valid-train/sample-000005.mp3  twenties  female        1826.676487   \n1     cv-valid-train/sample-000026.mp3  twenties  female        2616.617405   \n2     cv-valid-train/sample-000059.mp3  twenties  female        2631.967942   \n3     cv-valid-train/sample-000101.mp3  twenties  female        2102.693066   \n4     cv-valid-train/sample-000155.mp3  twenties  female        2238.837714   \n...                                ...       ...     ...                ...   \n5564  cv-valid-train/sample-191708.mp3  eighties    male        2803.638060   \n5565  cv-valid-train/sample-191778.mp3  eighties    male        3061.619889   \n5566  cv-valid-train/sample-192279.mp3  eighties    male        2557.236116   \n5567  cv-valid-train/sample-193063.mp3  eighties    male        2926.217222   \n5568  cv-valid-train/sample-195455.mp3  eighties    male        2231.943116   \n\n      spectral_bandwidth  spectral_rolloff      MFCC_0      MFCC_1     MFCC_2  \\\n0            1881.513079       3860.168457 -576.315369   86.375450  11.824992   \n1            2179.803059       4761.842524 -228.240372   82.801941  -8.383657   \n2            2044.362034       4626.430442 -356.876740   68.245125 -10.347807   \n3            1761.210243       3696.558838 -620.414307   95.137268  -1.270926   \n4            2250.816026       4440.932155 -383.868896  111.190483   9.153431   \n...                  ...               ...         ...         ...        ...   \n5564         2400.511082       5323.456971 -269.259979   82.796638  12.752720   \n5565         2465.107380       5817.553711 -282.468384   66.788048   6.144638   \n5566         2303.468228       4938.077337 -249.214844   84.716560  12.915024   \n5567         1967.799889       5121.836600 -410.204376   45.573013 -13.197499   \n5568         1555.420706       3850.383821 -252.501602   90.113686 -27.081675   \n\n         MFCC_3  ...    MFCC_10    MFCC_11   MFCC_12    MFCC_13    MFCC_14  \\\n0     49.361706  ... -14.482080 -13.578614 -6.720922  -6.186287  -4.839533   \n1     30.143246  ...  -4.622561  -2.331251 -6.204039   3.251125 -17.747442   \n2     12.065706  ...  -7.054412  -6.034971 -8.058039 -13.018083 -11.938354   \n3     22.470818  ... -14.900973 -17.381929 -8.984969  -7.450493  -7.771703   \n4     14.111599  ... -11.278584  -4.409180 -8.951644  -4.352331 -16.304008   \n...         ...  ...        ...        ...       ...        ...        ...   \n5564  27.175756  ...  -6.123298   1.858352 -5.315768   1.561501  -6.472857   \n5565  32.600498  ...  -7.412391  -2.310144 -4.216847   1.398168  -3.506517   \n5566  37.721024  ...  -6.736383   1.836847 -7.842829   3.800439  -4.652071   \n5567  31.024557  ...  -8.259255  -8.094961 -0.630357  -6.007699  -1.901966   \n5568  44.927082  ... -11.529501  -9.987272 -4.312279  -9.227780  -0.344003   \n\n        MFCC_15    MFCC_16    MFCC_17    MFCC_18    MFCC_19  \n0     -9.007957  -3.113982  -1.743871  -9.447196  -8.065145  \n1     -0.515065 -10.605970  -8.131491  -8.427092   3.234301  \n2      3.690609  -8.656282   2.081685  -1.077340 -10.969205  \n3     -7.896185  -9.588766 -11.281025  -8.105808  -1.190835  \n4     -1.139749  -7.554811  -5.609372 -11.100672   0.755369  \n...         ...        ...        ...        ...        ...  \n5564   6.164400  -7.462326   4.084486  -4.659536  -1.608125  \n5565   3.998086  -7.521873   3.641059  -1.560491  -2.203190  \n5566   3.492043  -6.001388   2.983396  -6.588633  -3.076507  \n5567  -5.949671  -1.648061  -4.496528  -3.694201  -0.237607  \n5568 -10.605398  -3.310086  -7.854195  -0.910406  -1.824544  \n\n[5569 rows x 26 columns]",
      "text/html": "<div>\n<style scoped>\n    .dataframe tbody tr th:only-of-type {\n        vertical-align: middle;\n    }\n\n    .dataframe tbody tr th {\n        vertical-align: top;\n    }\n\n    .dataframe thead th {\n        text-align: right;\n    }\n</style>\n<table border=\"1\" class=\"dataframe\">\n  <thead>\n    <tr style=\"text-align: right;\">\n      <th></th>\n      <th>filename</th>\n      <th>age</th>\n      <th>gender</th>\n      <th>spectral_centroid</th>\n      <th>spectral_bandwidth</th>\n      <th>spectral_rolloff</th>\n      <th>MFCC_0</th>\n      <th>MFCC_1</th>\n      <th>MFCC_2</th>\n      <th>MFCC_3</th>\n      <th>...</th>\n      <th>MFCC_10</th>\n      <th>MFCC_11</th>\n      <th>MFCC_12</th>\n      <th>MFCC_13</th>\n      <th>MFCC_14</th>\n      <th>MFCC_15</th>\n      <th>MFCC_16</th>\n      <th>MFCC_17</th>\n      <th>MFCC_18</th>\n      <th>MFCC_19</th>\n    </tr>\n  </thead>\n  <tbody>\n    <tr>\n      <th>0</th>\n      <td>cv-valid-train/sample-000005.mp3</td>\n      <td>twenties</td>\n      <td>female</td>\n      <td>1826.676487</td>\n      <td>1881.513079</td>\n      <td>3860.168457</td>\n      <td>-576.315369</td>\n      <td>86.375450</td>\n      <td>11.824992</td>\n      <td>49.361706</td>\n      <td>...</td>\n      <td>-14.482080</td>\n      <td>-13.578614</td>\n      <td>-6.720922</td>\n      <td>-6.186287</td>\n      <td>-4.839533</td>\n      <td>-9.007957</td>\n      <td>-3.113982</td>\n      <td>-1.743871</td>\n      <td>-9.447196</td>\n      <td>-8.065145</td>\n    </tr>\n    <tr>\n      <th>1</th>\n      <td>cv-valid-train/sample-000026.mp3</td>\n      <td>twenties</td>\n      <td>female</td>\n      <td>2616.617405</td>\n      <td>2179.803059</td>\n      <td>4761.842524</td>\n      <td>-228.240372</td>\n      <td>82.801941</td>\n      <td>-8.383657</td>\n      <td>30.143246</td>\n      <td>...</td>\n      <td>-4.622561</td>\n      <td>-2.331251</td>\n      <td>-6.204039</td>\n      <td>3.251125</td>\n      <td>-17.747442</td>\n      <td>-0.515065</td>\n      <td>-10.605970</td>\n      <td>-8.131491</td>\n      <td>-8.427092</td>\n      <td>3.234301</td>\n    </tr>\n    <tr>\n      <th>2</th>\n      <td>cv-valid-train/sample-000059.mp3</td>\n      <td>twenties</td>\n      <td>female</td>\n      <td>2631.967942</td>\n      <td>2044.362034</td>\n      <td>4626.430442</td>\n      <td>-356.876740</td>\n      <td>68.245125</td>\n      <td>-10.347807</td>\n      <td>12.065706</td>\n      <td>...</td>\n      <td>-7.054412</td>\n      <td>-6.034971</td>\n      <td>-8.058039</td>\n      <td>-13.018083</td>\n      <td>-11.938354</td>\n      <td>3.690609</td>\n      <td>-8.656282</td>\n      <td>2.081685</td>\n      <td>-1.077340</td>\n      <td>-10.969205</td>\n    </tr>\n    <tr>\n      <th>3</th>\n      <td>cv-valid-train/sample-000101.mp3</td>\n      <td>twenties</td>\n      <td>female</td>\n      <td>2102.693066</td>\n      <td>1761.210243</td>\n      <td>3696.558838</td>\n      <td>-620.414307</td>\n      <td>95.137268</td>\n      <td>-1.270926</td>\n      <td>22.470818</td>\n      <td>...</td>\n      <td>-14.900973</td>\n      <td>-17.381929</td>\n      <td>-8.984969</td>\n      <td>-7.450493</td>\n      <td>-7.771703</td>\n      <td>-7.896185</td>\n      <td>-9.588766</td>\n      <td>-11.281025</td>\n      <td>-8.105808</td>\n      <td>-1.190835</td>\n    </tr>\n    <tr>\n      <th>4</th>\n      <td>cv-valid-train/sample-000155.mp3</td>\n      <td>twenties</td>\n      <td>female</td>\n      <td>2238.837714</td>\n      <td>2250.816026</td>\n      <td>4440.932155</td>\n      <td>-383.868896</td>\n      <td>111.190483</td>\n      <td>9.153431</td>\n      <td>14.111599</td>\n      <td>...</td>\n      <td>-11.278584</td>\n      <td>-4.409180</td>\n      <td>-8.951644</td>\n      <td>-4.352331</td>\n      <td>-16.304008</td>\n      <td>-1.139749</td>\n      <td>-7.554811</td>\n      <td>-5.609372</td>\n      <td>-11.100672</td>\n      <td>0.755369</td>\n    </tr>\n    <tr>\n      <th>...</th>\n      <td>...</td>\n      <td>...</td>\n      <td>...</td>\n      <td>...</td>\n      <td>...</td>\n      <td>...</td>\n      <td>...</td>\n      <td>...</td>\n      <td>...</td>\n      <td>...</td>\n      <td>...</td>\n      <td>...</td>\n      <td>...</td>\n      <td>...</td>\n      <td>...</td>\n      <td>...</td>\n      <td>...</td>\n      <td>...</td>\n      <td>...</td>\n      <td>...</td>\n      <td>...</td>\n    </tr>\n    <tr>\n      <th>5564</th>\n      <td>cv-valid-train/sample-191708.mp3</td>\n      <td>eighties</td>\n      <td>male</td>\n      <td>2803.638060</td>\n      <td>2400.511082</td>\n      <td>5323.456971</td>\n      <td>-269.259979</td>\n      <td>82.796638</td>\n      <td>12.752720</td>\n      <td>27.175756</td>\n      <td>...</td>\n      <td>-6.123298</td>\n      <td>1.858352</td>\n      <td>-5.315768</td>\n      <td>1.561501</td>\n      <td>-6.472857</td>\n      <td>6.164400</td>\n      <td>-7.462326</td>\n      <td>4.084486</td>\n      <td>-4.659536</td>\n      <td>-1.608125</td>\n    </tr>\n    <tr>\n      <th>5565</th>\n      <td>cv-valid-train/sample-191778.mp3</td>\n      <td>eighties</td>\n      <td>male</td>\n      <td>3061.619889</td>\n      <td>2465.107380</td>\n      <td>5817.553711</td>\n      <td>-282.468384</td>\n      <td>66.788048</td>\n      <td>6.144638</td>\n      <td>32.600498</td>\n      <td>...</td>\n      <td>-7.412391</td>\n      <td>-2.310144</td>\n      <td>-4.216847</td>\n      <td>1.398168</td>\n      <td>-3.506517</td>\n      <td>3.998086</td>\n      <td>-7.521873</td>\n      <td>3.641059</td>\n      <td>-1.560491</td>\n      <td>-2.203190</td>\n    </tr>\n    <tr>\n      <th>5566</th>\n      <td>cv-valid-train/sample-192279.mp3</td>\n      <td>eighties</td>\n      <td>male</td>\n      <td>2557.236116</td>\n      <td>2303.468228</td>\n      <td>4938.077337</td>\n      <td>-249.214844</td>\n      <td>84.716560</td>\n      <td>12.915024</td>\n      <td>37.721024</td>\n      <td>...</td>\n      <td>-6.736383</td>\n      <td>1.836847</td>\n      <td>-7.842829</td>\n      <td>3.800439</td>\n      <td>-4.652071</td>\n      <td>3.492043</td>\n      <td>-6.001388</td>\n      <td>2.983396</td>\n      <td>-6.588633</td>\n      <td>-3.076507</td>\n    </tr>\n    <tr>\n      <th>5567</th>\n      <td>cv-valid-train/sample-193063.mp3</td>\n      <td>eighties</td>\n      <td>male</td>\n      <td>2926.217222</td>\n      <td>1967.799889</td>\n      <td>5121.836600</td>\n      <td>-410.204376</td>\n      <td>45.573013</td>\n      <td>-13.197499</td>\n      <td>31.024557</td>\n      <td>...</td>\n      <td>-8.259255</td>\n      <td>-8.094961</td>\n      <td>-0.630357</td>\n      <td>-6.007699</td>\n      <td>-1.901966</td>\n      <td>-5.949671</td>\n      <td>-1.648061</td>\n      <td>-4.496528</td>\n      <td>-3.694201</td>\n      <td>-0.237607</td>\n    </tr>\n    <tr>\n      <th>5568</th>\n      <td>cv-valid-train/sample-195455.mp3</td>\n      <td>eighties</td>\n      <td>male</td>\n      <td>2231.943116</td>\n      <td>1555.420706</td>\n      <td>3850.383821</td>\n      <td>-252.501602</td>\n      <td>90.113686</td>\n      <td>-27.081675</td>\n      <td>44.927082</td>\n      <td>...</td>\n      <td>-11.529501</td>\n      <td>-9.987272</td>\n      <td>-4.312279</td>\n      <td>-9.227780</td>\n      <td>-0.344003</td>\n      <td>-10.605398</td>\n      <td>-3.310086</td>\n      <td>-7.854195</td>\n      <td>-0.910406</td>\n      <td>-1.824544</td>\n    </tr>\n  </tbody>\n</table>\n<p>5569 rows × 26 columns</p>\n</div>"
     },
     "execution_count": 145,
     "metadata": {},
     "output_type": "execute_result"
    }
   ],
   "source": [
    "# merge the two dataframes so we have the outcomes labels with the data\n",
    "merged = pd.merge(sampled_df, final, on=\"filename\")\n",
    "merged"
   ],
   "metadata": {
    "collapsed": false,
    "pycharm": {
     "name": "#%%\n"
    }
   }
  },
  {
   "cell_type": "code",
   "execution_count": 147,
   "outputs": [],
   "source": [
    "# switching female and male into 0 and 1\n",
    "merged['gender_num'] = merged.gender.apply(lambda a : 1 if a==\"male\" else 0)"
   ],
   "metadata": {
    "collapsed": false,
    "pycharm": {
     "name": "#%%\n"
    }
   }
  },
  {
   "cell_type": "code",
   "execution_count": 95,
   "outputs": [],
   "source": [
    "from sklearn.preprocessing import MinMaxScaler\n",
    "X = merged.loc[:, 'spectral_centroid':'MFCC_19']\n",
    "scaler = MinMaxScaler()\n",
    "X_scale = scaler.fit_transform(X)\n",
    "y = merged.gender_num"
   ],
   "metadata": {
    "collapsed": false,
    "pycharm": {
     "name": "#%%\n"
    }
   }
  },
  {
   "cell_type": "markdown",
   "source": [
    "## Building models\n",
    "### Logistic regression"
   ],
   "metadata": {
    "collapsed": false,
    "pycharm": {
     "name": "#%% md\n"
    }
   },
   "execution_count": 81
  },
  {
   "cell_type": "code",
   "execution_count": 119,
   "outputs": [],
   "source": [
    "from sklearn.linear_model import LogisticRegression\n",
    "\n",
    "model = LogisticRegression()\n",
    "model.fit(X_scale,y)\n",
    "y_pred = model.predict(X_scale)\n"
   ],
   "metadata": {
    "collapsed": false,
    "pycharm": {
     "name": "#%%\n"
    }
   }
  },
  {
   "cell_type": "code",
   "execution_count": 100,
   "outputs": [
    {
     "name": "stdout",
     "output_type": "stream",
     "text": [
      "[[2087  461]\n",
      " [ 426 2595]]\n"
     ]
    },
    {
     "name": "stderr",
     "output_type": "stream",
     "text": [
      "c:\\users\\asemjen\\appdata\\local\\programs\\python\\python39\\lib\\site-packages\\sklearn\\utils\\deprecation.py:87: FutureWarning: Function plot_confusion_matrix is deprecated; Function `plot_confusion_matrix` is deprecated in 1.0 and will be removed in 1.2. Use one of the class methods: ConfusionMatrixDisplay.from_predictions or ConfusionMatrixDisplay.from_estimator.\n",
      "  warnings.warn(msg, category=FutureWarning)\n"
     ]
    },
    {
     "data": {
      "text/plain": "<sklearn.metrics._plot.confusion_matrix.ConfusionMatrixDisplay at 0x2708cdaa5e0>"
     },
     "execution_count": 100,
     "metadata": {},
     "output_type": "execute_result"
    },
    {
     "data": {
      "text/plain": "<Figure size 432x288 with 2 Axes>",
      "image/png": "[encoded data removed]"
     },
     "metadata": {
      "needs_background": "light"
     },
     "output_type": "display_data"
    }
   ],
   "source": [
    "from sklearn import metrics\n",
    "print(metrics.confusion_matrix(y, y_pred))\n",
    "metrics.plot_confusion_matrix(model, X_scale, y, display_labels=['male', 'female'], values_format='d')"
   ],
   "metadata": {
    "collapsed": false,
    "pycharm": {
     "name": "#%%\n"
    }
   }
  },
  {
   "cell_type": "code",
   "execution_count": 101,
   "outputs": [
    {
     "name": "stdout",
     "output_type": "stream",
     "text": [
      "0.8407254444244927\n",
      "0.8491492146596858\n",
      "0.858987090367428\n",
      "0.8540398222807307\n"
     ]
    }
   ],
   "source": [
    "print(metrics.accuracy_score(y, y_pred))   # accuracy\n",
    "print(metrics.precision_score(y, y_pred))  # precision\n",
    "print(metrics.recall_score(y, y_pred))     # recall\n",
    "print(metrics.f1_score(y, y_pred))"
   ],
   "metadata": {
    "collapsed": false,
    "pycharm": {
     "name": "#%%\n"
    }
   }
  },
  {
   "cell_type": "code",
   "execution_count": 102,
   "outputs": [
    {
     "name": "stderr",
     "output_type": "stream",
     "text": [
      "c:\\users\\asemjen\\appdata\\local\\programs\\python\\python39\\lib\\site-packages\\sklearn\\utils\\deprecation.py:87: FutureWarning: Function plot_roc_curve is deprecated; Function :func:`plot_roc_curve` is deprecated in 1.0 and will be removed in 1.2. Use one of the class methods: :meth:`sklearn.metric.RocCurveDisplay.from_predictions` or :meth:`sklearn.metric.RocCurveDisplay.from_estimator`.\n",
      "  warnings.warn(msg, category=FutureWarning)\n"
     ]
    },
    {
     "data": {
      "text/plain": "<sklearn.metrics._plot.roc_curve.RocCurveDisplay at 0x2708c56f790>"
     },
     "execution_count": 102,
     "metadata": {},
     "output_type": "execute_result"
    },
    {
     "data": {
      "text/plain": "<Figure size 432x288 with 1 Axes>",
      "image/png": "[encoded data removed]"
     },
     "metadata": {
      "needs_background": "light"
     },
     "output_type": "display_data"
    }
   ],
   "source": [
    "metrics.plot_roc_curve(model, X_scale, y)"
   ],
   "metadata": {
    "collapsed": false,
    "pycharm": {
     "name": "#%%\n"
    }
   }
  },
  {
   "cell_type": "markdown",
   "source": [
    "## K nearest neighbours\n"
   ],
   "metadata": {
    "collapsed": false,
    "pycharm": {
     "name": "#%% md\n"
    }
   }
  },
  {
   "cell_type": "code",
   "execution_count": 112,
   "outputs": [
    {
     "data": {
      "text/plain": "((5012, 23), (557, 23), (5012,), (557,))"
     },
     "execution_count": 112,
     "metadata": {},
     "output_type": "execute_result"
    }
   ],
   "source": [
    "\n",
    "from sklearn.model_selection import train_test_split\n",
    "\n",
    "X_train, X_test, y_train, y_test = train_test_split(X_scale, y, test_size=0.1)\n",
    "\n",
    "(X_train.shape, X_test.shape, y_train.shape, y_test.shape)"
   ],
   "metadata": {
    "collapsed": false,
    "pycharm": {
     "name": "#%%\n"
    }
   }
  },
  {
   "cell_type": "code",
   "execution_count": 113,
   "outputs": [
    {
     "data": {
      "text/plain": "k                       1.000000\nclassification error    0.098562\ndtype: float64"
     },
     "execution_count": 113,
     "metadata": {},
     "output_type": "execute_result"
    }
   ],
   "source": [
    "from sklearn.neighbors import KNeighborsClassifier\n",
    "from sklearn.model_selection import cross_val_score\n",
    "\n",
    "errors = []\n",
    "for k in range(1,80,2):\n",
    "    model = KNeighborsClassifier(n_neighbors=k)\n",
    "    errors.append({\n",
    "        'k': k,\n",
    "        'classification error': 1 - cross_val_score(model, X_train, y_train, cv=5).mean()\n",
    "    })\n",
    "\n",
    "results = pd.DataFrame(errors)\n",
    "results.min()"
   ],
   "metadata": {
    "collapsed": false,
    "pycharm": {
     "name": "#%%\n"
    }
   }
  },
  {
   "cell_type": "code",
   "execution_count": 135,
   "outputs": [
    {
     "data": {
      "text/plain": "     k  classification error\n0    1              0.098562\n1    3              0.101352\n2    5              0.111730\n3    7              0.120110\n4    9              0.122503\n5   11              0.125497\n6   13              0.129288\n7   15              0.132480\n8   17              0.139465\n9   19              0.142057\n10  21              0.144452\n11  23              0.146248\n12  25              0.146846\n13  27              0.149239\n14  29              0.151235\n15  31              0.151834\n17  35              0.152831\n18  37              0.152831\n16  33              0.152831\n20  41              0.153827\n19  39              0.154027\n21  43              0.155024\n22  45              0.155024\n23  47              0.156223\n24  49              0.157619\n26  53              0.159813\n25  51              0.160013\n28  57              0.160412\n29  59              0.160412\n27  55              0.160612\n30  61              0.161608\n32  65              0.161609\n31  63              0.162606\n36  73              0.163604\n33  67              0.163804\n39  79              0.164003\n34  69              0.164004\n37  75              0.164202\n35  71              0.164203\n38  77              0.165400",
      "text/html": "<div>\n<style scoped>\n    .dataframe tbody tr th:only-of-type {\n        vertical-align: middle;\n    }\n\n    .dataframe tbody tr th {\n        vertical-align: top;\n    }\n\n    .dataframe thead th {\n        text-align: right;\n    }\n</style>\n<table border=\"1\" class=\"dataframe\">\n  <thead>\n    <tr style=\"text-align: right;\">\n      <th></th>\n      <th>k</th>\n      <th>classification error</th>\n    </tr>\n  </thead>\n  <tbody>\n    <tr>\n      <th>0</th>\n      <td>1</td>\n      <td>0.098562</td>\n    </tr>\n    <tr>\n      <th>1</th>\n      <td>3</td>\n      <td>0.101352</td>\n    </tr>\n    <tr>\n      <th>2</th>\n      <td>5</td>\n      <td>0.111730</td>\n    </tr>\n    <tr>\n      <th>3</th>\n      <td>7</td>\n      <td>0.120110</td>\n    </tr>\n    <tr>\n      <th>4</th>\n      <td>9</td>\n      <td>0.122503</td>\n    </tr>\n    <tr>\n      <th>5</th>\n      <td>11</td>\n      <td>0.125497</td>\n    </tr>\n    <tr>\n      <th>6</th>\n      <td>13</td>\n      <td>0.129288</td>\n    </tr>\n    <tr>\n      <th>7</th>\n      <td>15</td>\n      <td>0.132480</td>\n    </tr>\n    <tr>\n      <th>8</th>\n      <td>17</td>\n      <td>0.139465</td>\n    </tr>\n    <tr>\n      <th>9</th>\n      <td>19</td>\n      <td>0.142057</td>\n    </tr>\n    <tr>\n      <th>10</th>\n      <td>21</td>\n      <td>0.144452</td>\n    </tr>\n    <tr>\n      <th>11</th>\n      <td>23</td>\n      <td>0.146248</td>\n    </tr>\n    <tr>\n      <th>12</th>\n      <td>25</td>\n      <td>0.146846</td>\n    </tr>\n    <tr>\n      <th>13</th>\n      <td>27</td>\n      <td>0.149239</td>\n    </tr>\n    <tr>\n      <th>14</th>\n      <td>29</td>\n      <td>0.151235</td>\n    </tr>\n    <tr>\n      <th>15</th>\n      <td>31</td>\n      <td>0.151834</td>\n    </tr>\n    <tr>\n      <th>17</th>\n      <td>35</td>\n      <td>0.152831</td>\n    </tr>\n    <tr>\n      <th>18</th>\n      <td>37</td>\n      <td>0.152831</td>\n    </tr>\n    <tr>\n      <th>16</th>\n      <td>33</td>\n      <td>0.152831</td>\n    </tr>\n    <tr>\n      <th>20</th>\n      <td>41</td>\n      <td>0.153827</td>\n    </tr>\n    <tr>\n      <th>19</th>\n      <td>39</td>\n      <td>0.154027</td>\n    </tr>\n    <tr>\n      <th>21</th>\n      <td>43</td>\n      <td>0.155024</td>\n    </tr>\n    <tr>\n      <th>22</th>\n      <td>45</td>\n      <td>0.155024</td>\n    </tr>\n    <tr>\n      <th>23</th>\n      <td>47</td>\n      <td>0.156223</td>\n    </tr>\n    <tr>\n      <th>24</th>\n      <td>49</td>\n      <td>0.157619</td>\n    </tr>\n    <tr>\n      <th>26</th>\n      <td>53</td>\n      <td>0.159813</td>\n    </tr>\n    <tr>\n      <th>25</th>\n      <td>51</td>\n      <td>0.160013</td>\n    </tr>\n    <tr>\n      <th>28</th>\n      <td>57</td>\n      <td>0.160412</td>\n    </tr>\n    <tr>\n      <th>29</th>\n      <td>59</td>\n      <td>0.160412</td>\n    </tr>\n    <tr>\n      <th>27</th>\n      <td>55</td>\n      <td>0.160612</td>\n    </tr>\n    <tr>\n      <th>30</th>\n      <td>61</td>\n      <td>0.161608</td>\n    </tr>\n    <tr>\n      <th>32</th>\n      <td>65</td>\n      <td>0.161609</td>\n    </tr>\n    <tr>\n      <th>31</th>\n      <td>63</td>\n      <td>0.162606</td>\n    </tr>\n    <tr>\n      <th>36</th>\n      <td>73</td>\n      <td>0.163604</td>\n    </tr>\n    <tr>\n      <th>33</th>\n      <td>67</td>\n      <td>0.163804</td>\n    </tr>\n    <tr>\n      <th>39</th>\n      <td>79</td>\n      <td>0.164003</td>\n    </tr>\n    <tr>\n      <th>34</th>\n      <td>69</td>\n      <td>0.164004</td>\n    </tr>\n    <tr>\n      <th>37</th>\n      <td>75</td>\n      <td>0.164202</td>\n    </tr>\n    <tr>\n      <th>35</th>\n      <td>71</td>\n      <td>0.164203</td>\n    </tr>\n    <tr>\n      <th>38</th>\n      <td>77</td>\n      <td>0.165400</td>\n    </tr>\n  </tbody>\n</table>\n</div>"
     },
     "execution_count": 135,
     "metadata": {},
     "output_type": "execute_result"
    }
   ],
   "source": [
    "#results\n",
    "results.sort_values(by=['classification error'])"
   ],
   "metadata": {
    "collapsed": false,
    "pycharm": {
     "name": "#%%\n"
    }
   }
  },
  {
   "cell_type": "code",
   "execution_count": 114,
   "outputs": [
    {
     "data": {
      "text/plain": "<AxesSubplot:xlabel='k', ylabel='classification error'>"
     },
     "execution_count": 114,
     "metadata": {},
     "output_type": "execute_result"
    },
    {
     "data": {
      "text/plain": "<Figure size 432x288 with 1 Axes>",
      "image/png": "[encoded data removed]"
     },
     "metadata": {
      "needs_background": "light"
     },
     "output_type": "display_data"
    }
   ],
   "source": [
    "import seaborn as sns\n",
    "sns.scatterplot(x='k', y='classification error', data=results)"
   ],
   "metadata": {
    "collapsed": false,
    "pycharm": {
     "name": "#%%\n"
    }
   }
  },
  {
   "cell_type": "code",
   "execution_count": 115,
   "outputs": [
    {
     "data": {
      "text/plain": "0.08797127468581689"
     },
     "execution_count": 115,
     "metadata": {},
     "output_type": "execute_result"
    }
   ],
   "source": [
    "kn_model = KNeighborsClassifier(n_neighbors=1)\n",
    "kn_model.fit(X_train, y_train)\n",
    "1 - kn_model.score(X_test,y_test)\n"
   ],
   "metadata": {
    "collapsed": false,
    "pycharm": {
     "name": "#%%\n"
    }
   }
  },
  {
   "cell_type": "markdown",
   "source": [
    "#### Good idea to use decision trees for age detection\n",
    "#### Regression tree for age detection but do mapping as well 10 20 30 instead of using only classifers"
   ],
   "metadata": {
    "collapsed": false,
    "pycharm": {
     "name": "#%% md\n"
    }
   }
  },
  {
   "cell_type": "markdown",
   "source": [
    "# Decision trees\n"
   ],
   "metadata": {
    "collapsed": false,
    "pycharm": {
     "name": "#%% md\n"
    }
   }
  },
  {
   "cell_type": "code",
   "execution_count": 151,
   "outputs": [],
   "source": [
    "from sklearn.model_selection import train_test_split\n",
    "from sklearn import tree\n",
    "from sklearn.tree import DecisionTreeClassifier, plot_tree\n",
    "from sklearn.preprocessing import MinMaxScaler\n",
    "X = merged.loc[:, 'spectral_centroid':'MFCC_19']\n",
    "scaler = MinMaxScaler()\n",
    "X = scaler.fit_transform(X)\n",
    "y = merged.gender_num\n",
    "\n",
    "X_train, X_test, y_train, y_test = train_test_split(X, y, test_size=0.4)"
   ],
   "metadata": {
    "collapsed": false,
    "pycharm": {
     "name": "#%%\n"
    }
   }
  },
  {
   "cell_type": "code",
   "execution_count": 152,
   "outputs": [
    {
     "name": "stdout",
     "output_type": "stream",
     "text": [
      "0.7596506538492521\n",
      "{'max_depth': 20, 'min_impurity_decrease': 0.001, 'min_samples_split': 20}\n"
     ]
    }
   ],
   "source": [
    "# Trying to find which tree may be the best to build\n",
    "from sklearn.model_selection import GridSearchCV\n",
    "\n",
    "# initial attempt\n",
    "param_grid = {\n",
    "    'max_depth': [10, 20, 30, 40],\n",
    "    'min_samples_split': [20, 40, 60, 80, 100],\n",
    "    'min_impurity_decrease': [0, 0.0005, 0.001, 0.005, 0.01]\n",
    "}\n",
    "\n",
    "model = DecisionTreeClassifier(random_state=1)\n",
    "\n",
    "gridSearch = GridSearchCV(model, param_grid, cv=5)\n",
    "gridSearch.fit(X_train, y_train)\n",
    "\n",
    "print(gridSearch.best_score_)\n",
    "print(gridSearch.best_params_)"
   ],
   "metadata": {
    "collapsed": false,
    "pycharm": {
     "name": "#%%\n"
    }
   }
  },
  {
   "cell_type": "code",
   "execution_count": 162,
   "outputs": [
    {
     "name": "stdout",
     "output_type": "stream",
     "text": [
      "Confusion Matrix (Accuracy 0.8636)\n",
      "\n",
      "       Prediction\n",
      "Actual    0    1\n",
      "     0  853  148\n",
      "     1  156 1071\n"
     ]
    }
   ],
   "source": [
    "import dmba\n",
    "from sklearn.ensemble import GradientBoostingClassifier\n",
    "\n",
    "model_boost = GradientBoostingClassifier(n_estimators=200, learning_rate=0.12)\n",
    "model_boost.fit(X_train, y_train)\n",
    "\n",
    "dmba.classificationSummary(y_test, model_boost.predict(X_test))\n"
   ],
   "metadata": {
    "collapsed": false,
    "pycharm": {
     "name": "#%%\n"
    }
   }
  },
  {
   "cell_type": "code",
   "execution_count": 154,
   "outputs": [
    {
     "name": "stdout",
     "output_type": "stream",
     "text": [
      "Confusion Matrix (Accuracy 0.9419)\n",
      "\n",
      "       Prediction\n",
      "Actual    0    1\n",
      "     0 1443  104\n",
      "     1   90 1704\n",
      "Confusion Matrix (Accuracy 0.8613)\n",
      "\n",
      "       Prediction\n",
      "Actual    0    1\n",
      "     0  847  154\n",
      "     1  155 1072\n"
     ]
    }
   ],
   "source": [
    "# Testing the outcome\n",
    "\n",
    "dmba.classificationSummary(y_train, model.predict(X_train))\n",
    "dmba.classificationSummary(y_test, model.predict(X_test))"
   ],
   "metadata": {
    "collapsed": false,
    "pycharm": {
     "name": "#%%\n"
    }
   }
  },
  {
   "cell_type": "code",
   "execution_count": 166,
   "outputs": [
    {
     "data": {
      "text/plain": "               Feature  Importance\n18             MFCC_15    0.267434\n21             MFCC_18    0.137412\n11              MFCC_8    0.082078\n17             MFCC_14    0.063874\n6               MFCC_3    0.063338\n4               MFCC_1    0.049986\n7               MFCC_4    0.046564\n19             MFCC_16    0.036114\n13             MFCC_10    0.028465\n20             MFCC_17    0.027845\n16             MFCC_13    0.027766\n14             MFCC_11    0.026147\n8               MFCC_5    0.023324\n3               MFCC_0    0.022691\n22             MFCC_19    0.015844\n12              MFCC_9    0.014063\n15             MFCC_12    0.013315\n5               MFCC_2    0.012468\n9               MFCC_6    0.012141\n1   spectral_bandwidth    0.009900\n10              MFCC_7    0.007923\n2     spectral_rolloff    0.006698\n0    spectral_centroid    0.004609",
      "text/html": "<div>\n<style scoped>\n    .dataframe tbody tr th:only-of-type {\n        vertical-align: middle;\n    }\n\n    .dataframe tbody tr th {\n        vertical-align: top;\n    }\n\n    .dataframe thead th {\n        text-align: right;\n    }\n</style>\n<table border=\"1\" class=\"dataframe\">\n  <thead>\n    <tr style=\"text-align: right;\">\n      <th></th>\n      <th>Feature</th>\n      <th>Importance</th>\n    </tr>\n  </thead>\n  <tbody>\n    <tr>\n      <th>18</th>\n      <td>MFCC_15</td>\n      <td>0.267434</td>\n    </tr>\n    <tr>\n      <th>21</th>\n      <td>MFCC_18</td>\n      <td>0.137412</td>\n    </tr>\n    <tr>\n      <th>11</th>\n      <td>MFCC_8</td>\n      <td>0.082078</td>\n    </tr>\n    <tr>\n      <th>17</th>\n      <td>MFCC_14</td>\n      <td>0.063874</td>\n    </tr>\n    <tr>\n      <th>6</th>\n      <td>MFCC_3</td>\n      <td>0.063338</td>\n    </tr>\n    <tr>\n      <th>4</th>\n      <td>MFCC_1</td>\n      <td>0.049986</td>\n    </tr>\n    <tr>\n      <th>7</th>\n      <td>MFCC_4</td>\n      <td>0.046564</td>\n    </tr>\n    <tr>\n      <th>19</th>\n      <td>MFCC_16</td>\n      <td>0.036114</td>\n    </tr>\n    <tr>\n      <th>13</th>\n      <td>MFCC_10</td>\n      <td>0.028465</td>\n    </tr>\n    <tr>\n      <th>20</th>\n      <td>MFCC_17</td>\n      <td>0.027845</td>\n    </tr>\n    <tr>\n      <th>16</th>\n      <td>MFCC_13</td>\n      <td>0.027766</td>\n    </tr>\n    <tr>\n      <th>14</th>\n      <td>MFCC_11</td>\n      <td>0.026147</td>\n    </tr>\n    <tr>\n      <th>8</th>\n      <td>MFCC_5</td>\n      <td>0.023324</td>\n    </tr>\n    <tr>\n      <th>3</th>\n      <td>MFCC_0</td>\n      <td>0.022691</td>\n    </tr>\n    <tr>\n      <th>22</th>\n      <td>MFCC_19</td>\n      <td>0.015844</td>\n    </tr>\n    <tr>\n      <th>12</th>\n      <td>MFCC_9</td>\n      <td>0.014063</td>\n    </tr>\n    <tr>\n      <th>15</th>\n      <td>MFCC_12</td>\n      <td>0.013315</td>\n    </tr>\n    <tr>\n      <th>5</th>\n      <td>MFCC_2</td>\n      <td>0.012468</td>\n    </tr>\n    <tr>\n      <th>9</th>\n      <td>MFCC_6</td>\n      <td>0.012141</td>\n    </tr>\n    <tr>\n      <th>1</th>\n      <td>spectral_bandwidth</td>\n      <td>0.009900</td>\n    </tr>\n    <tr>\n      <th>10</th>\n      <td>MFCC_7</td>\n      <td>0.007923</td>\n    </tr>\n    <tr>\n      <th>2</th>\n      <td>spectral_rolloff</td>\n      <td>0.006698</td>\n    </tr>\n    <tr>\n      <th>0</th>\n      <td>spectral_centroid</td>\n      <td>0.004609</td>\n    </tr>\n  </tbody>\n</table>\n</div>"
     },
     "execution_count": 166,
     "metadata": {},
     "output_type": "execute_result"
    }
   ],
   "source": [
    "importances = model_boost.feature_importances_\n",
    "\n",
    "result = pd.DataFrame({\n",
    "    'Feature': X.columns,\n",
    "    'Importance': importances\n",
    "})\n",
    "result.sort_values('Importance', ascending=False)"
   ],
   "metadata": {
    "collapsed": false,
    "pycharm": {
     "name": "#%%\n"
    }
   }
  },
  {
   "cell_type": "code",
   "execution_count": null,
   "outputs": [],
   "source": [
    "import pickle\n",
    "pickle.dump(model, open(\"LogisticRegression.model\", \"wb\"))\n",
    "pickle.dump(kn_model, open(\"KNeighborsClassifier.model\", \"wb\"))"
   ],
   "metadata": {
    "collapsed": false,
    "pycharm": {
     "name": "#%%\n"
    }
   }
  },
  {
   "cell_type": "markdown",
   "source": [
    "## Testing on locally recorded files - this should be built into a React dashboard"
   ],
   "metadata": {
    "collapsed": false
   }
  },
  {
   "cell_type": "code",
   "execution_count": 165,
   "outputs": [
    {
     "name": "stderr",
     "output_type": "stream",
     "text": [
      "c:\\users\\asemjen\\appdata\\local\\programs\\python\\python39\\lib\\site-packages\\librosa\\util\\decorators.py:88: UserWarning: PySoundFile failed. Trying audioread instead.\n",
      "  return f(*args, **kwargs)\n"
     ]
    },
    {
     "name": "stdout",
     "output_type": "stream",
     "text": [
      "Predicted for logistic regression: [1]\n",
      "Predicted for K-nearest neigbours: [0]\n",
      "Predicted for boosted tree: [0]\n"
     ]
    }
   ],
   "source": [
    "# Testing on new files\n",
    "test_file = import_mp3file(\"./\", \"Recording_Anna_again.m4a\")\n",
    "test_frame = pd.DataFrame(test_file, index=[0])\n",
    "X = test_frame.loc[:, 'spectral_centroid':'MFCC_19']\n",
    "TEST = scaler.transform(X)\n",
    "\n",
    "predicted_logistic = kn_model.predict(TEST)\n",
    "print(f'Predicted for logistic regression: {predicted_logistic}')\n",
    "\n",
    "k_predicted = model.predict(TEST)\n",
    "print( (f'Predicted for K-nearest neigbours: {k_predicted}'))\n",
    "\n",
    "boosted_tree = model_boost.predict(TEST)\n",
    "print(f'Predicted for boosted tree: {boosted_tree}')"
   ],
   "metadata": {
    "collapsed": false,
    "pycharm": {
     "name": "#%%\n"
    }
   }
  }
 ],
 "metadata": {
  "kernelspec": {
   "display_name": "Python 3",
   "language": "python",
   "name": "python3"
  },
  "language_info": {
   "codemirror_mode": {
    "name": "ipython",
    "version": 2
   },
   "file_extension": ".py",
   "mimetype": "text/x-python",
   "name": "python",
   "nbconvert_exporter": "python",
   "pygments_lexer": "ipython2",
   "version": "2.7.6"
  }
 },
 "nbformat": 4,
 "nbformat_minor": 0
}