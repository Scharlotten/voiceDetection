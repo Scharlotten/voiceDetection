{
 "cells": [
  {
   "cell_type": "markdown",
   "metadata": {},
   "source": [
    "# Gender and age recognition from files"
   ]
  },
  {
   "cell_type": "markdown",
   "metadata": {
    "pycharm": {
     "name": "#%% md\n"
    }
   },
   "source": [
    "## Data\n",
    "The data we work with is called \"common voice data\", first we will look at the CSV file containing information about\n",
    "the voice files + some basic attributes, upvotes downvotes (we will not need this) gender and age."
   ]
  },
  {
   "cell_type": "markdown",
   "metadata": {
    "pycharm": {
     "name": "#%% md\n"
    }
   },
   "source": [
    "## Importing the data"
   ]
  },
  {
   "cell_type": "code",
   "execution_count": 1,
   "metadata": {
    "pycharm": {
     "name": "#%%\n"
    }
   },
   "outputs": [],
   "source": [
    "# import the required packages\n",
    "import pandas as pd\n",
    "df = pd.read_csv(\"cv-valid-train.csv\")\n",
    "pd.set_option('display.max_columns', 500)"
   ]
  },
  {
   "cell_type": "markdown",
   "metadata": {
    "pycharm": {
     "name": "#%% md\n"
    }
   },
   "source": [
    "## Preprocessing data\n",
    "As we can see there are a number of empty columns, we won't be able to detect the gender without the source information\n",
    "therefore where the gender column is missing the data will be dropped."
   ]
  },
  {
   "cell_type": "code",
   "execution_count": 2,
   "metadata": {
    "pycharm": {
     "name": "#%%\n"
    }
   },
   "outputs": [
    {
     "name": "stdout",
     "output_type": "stream",
     "text": [
      "This is the length of the dataframe 195776\n",
      "This is the length of of rows where both columns are null 74361\n",
      "This is the sum of the two should be the length of the df 195776\n"
     ]
    },
    {
     "data": {
      "text/html": [
       "<div>\n",
       "<style scoped>\n",
       "    .dataframe tbody tr th:only-of-type {\n",
       "        vertical-align: middle;\n",
       "    }\n",
       "\n",
       "    .dataframe tbody tr th {\n",
       "        vertical-align: top;\n",
       "    }\n",
       "\n",
       "    .dataframe thead th {\n",
       "        text-align: right;\n",
       "    }\n",
       "</style>\n",
       "<table border=\"1\" class=\"dataframe\">\n",
       "  <thead>\n",
       "    <tr style=\"text-align: right;\">\n",
       "      <th></th>\n",
       "      <th>index</th>\n",
       "      <th>filename</th>\n",
       "      <th>text</th>\n",
       "      <th>up_votes</th>\n",
       "      <th>down_votes</th>\n",
       "      <th>age</th>\n",
       "      <th>gender</th>\n",
       "      <th>accent</th>\n",
       "      <th>duration</th>\n",
       "    </tr>\n",
       "  </thead>\n",
       "  <tbody>\n",
       "    <tr>\n",
       "      <th>0</th>\n",
       "      <td>5</td>\n",
       "      <td>cv-valid-train/sample-000005.mp3</td>\n",
       "      <td>a shepherd may like to travel but he should ne...</td>\n",
       "      <td>1</td>\n",
       "      <td>0</td>\n",
       "      <td>twenties</td>\n",
       "      <td>female</td>\n",
       "      <td>us</td>\n",
       "      <td>NaN</td>\n",
       "    </tr>\n",
       "    <tr>\n",
       "      <th>1</th>\n",
       "      <td>8</td>\n",
       "      <td>cv-valid-train/sample-000008.mp3</td>\n",
       "      <td>put jackie right on the staff</td>\n",
       "      <td>3</td>\n",
       "      <td>0</td>\n",
       "      <td>seventies</td>\n",
       "      <td>male</td>\n",
       "      <td>us</td>\n",
       "      <td>NaN</td>\n",
       "    </tr>\n",
       "    <tr>\n",
       "      <th>2</th>\n",
       "      <td>13</td>\n",
       "      <td>cv-valid-train/sample-000013.mp3</td>\n",
       "      <td>but he had found a guide and didn't want to mi...</td>\n",
       "      <td>1</td>\n",
       "      <td>0</td>\n",
       "      <td>thirties</td>\n",
       "      <td>female</td>\n",
       "      <td>us</td>\n",
       "      <td>NaN</td>\n",
       "    </tr>\n",
       "    <tr>\n",
       "      <th>3</th>\n",
       "      <td>14</td>\n",
       "      <td>cv-valid-train/sample-000014.mp3</td>\n",
       "      <td>as they began to decorate the hallway a silhou...</td>\n",
       "      <td>1</td>\n",
       "      <td>0</td>\n",
       "      <td>sixties</td>\n",
       "      <td>male</td>\n",
       "      <td>england</td>\n",
       "      <td>NaN</td>\n",
       "    </tr>\n",
       "    <tr>\n",
       "      <th>4</th>\n",
       "      <td>19</td>\n",
       "      <td>cv-valid-train/sample-000019.mp3</td>\n",
       "      <td>then they got ahold of some dough and went goofy</td>\n",
       "      <td>1</td>\n",
       "      <td>0</td>\n",
       "      <td>fifties</td>\n",
       "      <td>male</td>\n",
       "      <td>australia</td>\n",
       "      <td>NaN</td>\n",
       "    </tr>\n",
       "    <tr>\n",
       "      <th>...</th>\n",
       "      <td>...</td>\n",
       "      <td>...</td>\n",
       "      <td>...</td>\n",
       "      <td>...</td>\n",
       "      <td>...</td>\n",
       "      <td>...</td>\n",
       "      <td>...</td>\n",
       "      <td>...</td>\n",
       "      <td>...</td>\n",
       "    </tr>\n",
       "    <tr>\n",
       "      <th>74356</th>\n",
       "      <td>195766</td>\n",
       "      <td>cv-valid-train/sample-195766.mp3</td>\n",
       "      <td>but before i go i want to tell you a little story</td>\n",
       "      <td>1</td>\n",
       "      <td>0</td>\n",
       "      <td>fourties</td>\n",
       "      <td>male</td>\n",
       "      <td>england</td>\n",
       "      <td>NaN</td>\n",
       "    </tr>\n",
       "    <tr>\n",
       "      <th>74357</th>\n",
       "      <td>195767</td>\n",
       "      <td>cv-valid-train/sample-195767.mp3</td>\n",
       "      <td>down below in the darkness were hundreds of pe...</td>\n",
       "      <td>3</td>\n",
       "      <td>0</td>\n",
       "      <td>thirties</td>\n",
       "      <td>female</td>\n",
       "      <td>us</td>\n",
       "      <td>NaN</td>\n",
       "    </tr>\n",
       "    <tr>\n",
       "      <th>74358</th>\n",
       "      <td>195770</td>\n",
       "      <td>cv-valid-train/sample-195770.mp3</td>\n",
       "      <td>he heard a muffled grating sound and saw the b...</td>\n",
       "      <td>4</td>\n",
       "      <td>0</td>\n",
       "      <td>twenties</td>\n",
       "      <td>male</td>\n",
       "      <td>england</td>\n",
       "      <td>NaN</td>\n",
       "    </tr>\n",
       "    <tr>\n",
       "      <th>74359</th>\n",
       "      <td>195771</td>\n",
       "      <td>cv-valid-train/sample-195771.mp3</td>\n",
       "      <td>the englishman said nothing</td>\n",
       "      <td>1</td>\n",
       "      <td>0</td>\n",
       "      <td>thirties</td>\n",
       "      <td>male</td>\n",
       "      <td>england</td>\n",
       "      <td>NaN</td>\n",
       "    </tr>\n",
       "    <tr>\n",
       "      <th>74360</th>\n",
       "      <td>195774</td>\n",
       "      <td>cv-valid-train/sample-195774.mp3</td>\n",
       "      <td>the phone rang while she was awake</td>\n",
       "      <td>2</td>\n",
       "      <td>0</td>\n",
       "      <td>twenties</td>\n",
       "      <td>male</td>\n",
       "      <td>us</td>\n",
       "      <td>NaN</td>\n",
       "    </tr>\n",
       "  </tbody>\n",
       "</table>\n",
       "<p>74361 rows × 9 columns</p>\n",
       "</div>"
      ],
      "text/plain": [
       "        index                          filename  \\\n",
       "0           5  cv-valid-train/sample-000005.mp3   \n",
       "1           8  cv-valid-train/sample-000008.mp3   \n",
       "2          13  cv-valid-train/sample-000013.mp3   \n",
       "3          14  cv-valid-train/sample-000014.mp3   \n",
       "4          19  cv-valid-train/sample-000019.mp3   \n",
       "...       ...                               ...   \n",
       "74356  195766  cv-valid-train/sample-195766.mp3   \n",
       "74357  195767  cv-valid-train/sample-195767.mp3   \n",
       "74358  195770  cv-valid-train/sample-195770.mp3   \n",
       "74359  195771  cv-valid-train/sample-195771.mp3   \n",
       "74360  195774  cv-valid-train/sample-195774.mp3   \n",
       "\n",
       "                                                    text  up_votes  \\\n",
       "0      a shepherd may like to travel but he should ne...         1   \n",
       "1                          put jackie right on the staff         3   \n",
       "2      but he had found a guide and didn't want to mi...         1   \n",
       "3      as they began to decorate the hallway a silhou...         1   \n",
       "4       then they got ahold of some dough and went goofy         1   \n",
       "...                                                  ...       ...   \n",
       "74356  but before i go i want to tell you a little story         1   \n",
       "74357  down below in the darkness were hundreds of pe...         3   \n",
       "74358  he heard a muffled grating sound and saw the b...         4   \n",
       "74359                        the englishman said nothing         1   \n",
       "74360                 the phone rang while she was awake         2   \n",
       "\n",
       "       down_votes        age  gender     accent  duration  \n",
       "0               0   twenties  female         us       NaN  \n",
       "1               0  seventies    male         us       NaN  \n",
       "2               0   thirties  female         us       NaN  \n",
       "3               0    sixties    male    england       NaN  \n",
       "4               0    fifties    male  australia       NaN  \n",
       "...           ...        ...     ...        ...       ...  \n",
       "74356           0   fourties    male    england       NaN  \n",
       "74357           0   thirties  female         us       NaN  \n",
       "74358           0   twenties    male    england       NaN  \n",
       "74359           0   thirties    male    england       NaN  \n",
       "74360           0   twenties    male         us       NaN  \n",
       "\n",
       "[74361 rows x 9 columns]"
      ]
     },
     "execution_count": 2,
     "metadata": {},
     "output_type": "execute_result"
    }
   ],
   "source": [
    "#Identify where gender and age are missing\n",
    "print(f'This is the length of the dataframe {len(df)}')\n",
    "null_num = len(df.loc[(pd.isnull(df.gender) & pd.isnull(df.age))])\n",
    "not_null = len(df.loc[~(pd.isnull(df.gender) & pd.isnull(df.age))])\n",
    "print(f'This is the length of of rows where both columns are null {not_null}')\n",
    "print(f'This is the sum of the two should be the length of the df {not_null+null_num}')\n",
    "# this is just to make sure we negated the the df.gender and df.age not null correctly\n",
    "valid_df = df.loc[~(pd.isnull(df.gender) & pd.isnull(df.age))]\n",
    "valid_df.reset_index(inplace=True)\n",
    "valid_df"
   ]
  },
  {
   "cell_type": "code",
   "execution_count": 3,
   "metadata": {},
   "outputs": [
    {
     "data": {
      "text/plain": [
       "<AxesSubplot:>"
      ]
     },
     "execution_count": 3,
     "metadata": {},
     "output_type": "execute_result"
    },
    {
     "data": {
      "image/png": "[encoded data removed]",
      "text/plain": [
       "<Figure size 720x720 with 1 Axes>"
      ]
     },
     "metadata": {
      "needs_background": "light"
     },
     "output_type": "display_data"
    }
   ],
   "source": [
    "pd.DataFrame(valid_df.gender.value_counts()).plot.bar(figsize=(10,10))"
   ]
  },
  {
   "cell_type": "code",
   "execution_count": 4,
   "metadata": {},
   "outputs": [
    {
     "data": {
      "text/plain": [
       "<AxesSubplot:>"
      ]
     },
     "execution_count": 4,
     "metadata": {},
     "output_type": "execute_result"
    },
    {
     "data": {
      "image/png": "[encoded data removed]",
      "text/plain": [
       "<Figure size 720x720 with 1 Axes>"
      ]
     },
     "metadata": {
      "needs_background": "light"
     },
     "output_type": "display_data"
    }
   ],
   "source": [
    "pd.DataFrame(valid_df.age.value_counts()).plot.bar(figsize=(10,10))"
   ]
  },
  {
   "cell_type": "markdown",
   "metadata": {
    "pycharm": {
     "name": "#%% md\n"
    }
   },
   "source": [
    "Now in a variable we stored valid_df which doesn't contain any missing data, now it is time to collect information on\n",
    "the voice dataset"
   ]
  },
  {
   "cell_type": "markdown",
   "metadata": {
    "pycharm": {
     "name": "#%% md\n"
    }
   },
   "source": [
    "# The voice dataset & Feature extraction\n",
    "Saved in mp3 format we will use a package called librosa to look at the data.\n",
    "There are a number of complex features that we can extract from the data\n",
    "\n",
    "* **Spectral centroid** - this takes samples of the recordings using Fourier Transform\n",
    "the transformation decomposes the waveform of a musical chord into terms of the intensity of its constituent pitches.\n",
    "The easy way to understand this variable is to imagine a weighted average on the audio file depending on the intensity of high\n",
    "vs low pitches. This will play a key role in detecting whether this is a male or female.\n",
    "* **Spectral Bandwidth** is the difference between the upper and lower frequencies in a continuous band of frequencies.\n",
    "As we know the signals oscillate about a point so if the point is the centroid of the signal then the sum of\n",
    "maximum deviation of the signal on both sides of the point can be considered as the bandwidth of the signal\n",
    "at that time frame\n",
    "* **Spectral roll-off** It can be defined as the action of a specific type of\n",
    "filter which is designed to roll off the frequencies outside to a specific range. The reason we call\n",
    "it roll-off is because it is a gradual procedure.\n",
    "There can be two kinds of filters: hi-pass and low pass and both can roll off the frequency from a signal\n",
    "going outside of their range.\n",
    "* **Tonnetz** ?\n",
    "* **MFCC**\n",
    "## TO DO\n",
    "?? let's see if there is more to add to this and also to clarify these\n"
   ]
  },
  {
   "cell_type": "code",
   "execution_count": 5,
   "metadata": {
    "pycharm": {
     "name": "#%%\n"
    }
   },
   "outputs": [],
   "source": [
    "# Writing a function its sole purpose will be to read in an audio file and extract the features mentioned above\n",
    "import librosa\n",
    "import os\n",
    "import errno\n",
    "import numpy as np"
   ]
  },
  {
   "cell_type": "code",
   "execution_count": 6,
   "metadata": {
    "pycharm": {
     "name": "#%%\n"
    }
   },
   "outputs": [],
   "source": [
    "def import_mp3file(path:str, file_name:str, spectral_centroid:bool=True, spectral_bandwidth:bool=True,\n",
    "                   spectral_roll_off:bool=True, MFCC:bool=True) -> dict:\n",
    "    \"\"\"\n",
    "    :param path: path to the file\n",
    "    :param file_name: name of the file\n",
    "    :param spectral_centroid: if true spectral centroid is in the output\n",
    "    :param spectral_bandwidth: if true spectral bandwidth is in the output\n",
    "    :param spectral_roll_off: if true roll_off is in the output\n",
    "    :param MFCC: if true MFCC values are in the output\n",
    "    :return: filename + dictionary with feature set\n",
    "    \"\"\"\n",
    "    if os.path.isfile(os.path.join(path, file_name)):\n",
    "        audio, _ = librosa.load(os.path.join(path, file_name))\n",
    "        output = dict()\n",
    "        output['filename'] = file_name\n",
    "        if spectral_centroid:\n",
    "            spectral_centroid_value = np.mean(librosa.feature.spectral_centroid(y=audio))\n",
    "            output[\"spectral_centroid\"] = spectral_centroid_value\n",
    "        if spectral_bandwidth:\n",
    "            spectral_bandwidth_value = np.mean(librosa.feature.spectral_bandwidth(y=audio))\n",
    "            output[\"spectral_bandwidth\"] = spectral_bandwidth_value\n",
    "        if spectral_roll_off:\n",
    "            spectral_roll_off_value = np.mean(librosa.feature.spectral_rolloff(y=audio))\n",
    "            output[\"spectral_rolloff\"] = spectral_roll_off_value\n",
    "        if MFCC:\n",
    "            MFCC_values = librosa.feature.mfcc(y=audio)\n",
    "            for i, element in enumerate(MFCC_values):\n",
    "                output[f'MFCC_{i}'] = np.mean(element)\n",
    "        return output\n",
    "\n",
    "    else:\n",
    "        raise FileNotFoundError(errno.ENOENT, os.strerror(errno.ENOENT), os.path.join(path,file_name))\n"
   ]
  },
  {
   "cell_type": "code",
   "execution_count": 44,
   "metadata": {
    "pycharm": {
     "name": "#%%\n"
    }
   },
   "outputs": [
    {
     "name": "stdout",
     "output_type": "stream",
     "text": [
      "{'filename': 'cv-valid-train/sample-000008.mp3', 'spectral_centroid': 2352.7475565141926, 'spectral_bandwidth': 1854.9463106224644, 'spectral_rolloff': 3968.712890625, 'MFCC_0': -415.57288, 'MFCC_1': 99.58028, 'MFCC_2': -27.460777, 'MFCC_3': 10.333393, 'MFCC_4': 7.2848096, 'MFCC_5': 0.9885974, 'MFCC_6': -22.434021, 'MFCC_7': -21.395174, 'MFCC_8': -16.391228, 'MFCC_9': -7.847973, 'MFCC_10': 0.43195435, 'MFCC_11': 5.885935, 'MFCC_12': -7.2544622, 'MFCC_13': -3.529506, 'MFCC_14': -13.423277, 'MFCC_15': -1.1738807, 'MFCC_16': -7.1814423, 'MFCC_17': 5.562098, 'MFCC_18': -6.6943316, 'MFCC_19': -1.178298}\n"
     ]
    },
    {
     "data": {
      "text/plain": [
       "array([[4460.22175571, 4175.59117068, 3884.60612779, 3374.71829314,\n",
       "        1144.64655545, 1092.94004371, 1225.65807209, 1266.59594119,\n",
       "        1232.85026572, 2744.17641222, 4105.00095856, 3749.85456925,\n",
       "        2332.4429962 , 1651.9227578 , 1553.81723776, 1566.04631018,\n",
       "        1544.57575462, 1525.91524213, 1576.66014615, 1929.20321356,\n",
       "        2672.19538181, 2476.3592423 , 1755.23655177, 1611.70976292,\n",
       "        1461.32540332, 1352.79000052, 1454.62261381, 1340.39012086,\n",
       "         992.77723306, 1032.26490225, 1148.66817526, 1296.14941814,\n",
       "        1427.50061457, 1517.80837736, 1472.37735089, 1393.89724893,\n",
       "        1313.14088119, 1256.17061522, 1163.08342939, 1063.48420999,\n",
       "         999.93926298, 1031.49493118, 1117.12346428, 1254.74466627,\n",
       "        1398.78795777, 1528.87036282, 1578.40015717, 1771.66304659,\n",
       "        3543.62932697, 4743.56534655, 5102.61070267, 5170.89100393,\n",
       "        5356.37322273, 5557.71014968, 5510.2354996 , 2655.50800088,\n",
       "        1599.98330424, 1449.93721998, 1466.37987571, 1411.23755945,\n",
       "        1422.19414607, 1619.24419851, 1762.79126197, 1785.24080205,\n",
       "        1896.21624887, 2082.06457133, 2359.19393764, 3520.59995465,\n",
       "        4449.38758826, 4668.31527028, 4622.35648383, 4263.58318073,\n",
       "        4158.0293405 , 4173.74573228, 4084.62360269]])"
      ]
     },
     "execution_count": 44,
     "metadata": {},
     "output_type": "execute_result"
    },
    {
     "data": {
      "text/plain": [
       "<Figure size 1600x1120 with 0 Axes>"
      ]
     },
     "metadata": {},
     "output_type": "display_data"
    },
    {
     "data": {
      "image/png": "[encoded data removed]",
      "text/plain": [
       "<Figure size 432x288 with 1 Axes>"
      ]
     },
     "metadata": {
      "needs_background": "light"
     },
     "output_type": "display_data"
    },
    {
     "data": {
      "text/plain": [
       "<Figure size 1440x1440 with 0 Axes>"
      ]
     },
     "metadata": {},
     "output_type": "display_data"
    }
   ],
   "source": [
    "# This is just here to play around with the central spectroid data, see the frequency bins and the averages over time\n",
    "import matplotlib.pyplot as plt\n",
    "import librosa.display\n",
    "#Testing the function - for the errors there is no test for now\n",
    "path = \"./cv-valid-train/\"\n",
    "file_name = valid_df.filename.iloc[1]\n",
    "test_dict = import_mp3file(path, file_name)\n",
    "print(test_dict)\n",
    "\n",
    "audio, _ = librosa.load(os.path.join(path, file_name))\n",
    "x = librosa.feature.spectral_centroid(y=audio, win_length=2048*1, n_fft=2048*1)\n",
    "S, phase = librosa.magphase(librosa.stft(y=audio))\n",
    "plt.figure(figsize=(20, 14), dpi=80)\n",
    "times = librosa.times_like(x)\n",
    "fig, ax = plt.subplots()\n",
    "librosa.display.specshow(librosa.amplitude_to_db(S, ref=np.max),\n",
    "                         y_axis='log', x_axis='time', ax=ax)\n",
    "ax.plot(times, x.T, label='Spectral centroid', color='w')\n",
    "ax.legend(loc='upper right')\n",
    "ax.set(title='log Power spectrogram')\n",
    "plt.figure(figsize=(20,20))\n",
    "librosa.feature.spectral_centroid(S=S)\n",
    "\n"
   ]
  },
  {
   "cell_type": "markdown",
   "metadata": {
    "pycharm": {
     "name": "#%% md\n"
    }
   },
   "source": [
    "## Finally let's build a dataset with the extracted features\n",
    "\n"
   ]
  },
  {
   "cell_type": "code",
   "execution_count": 9,
   "metadata": {
    "pycharm": {
     "name": "#%%\n"
    }
   },
   "outputs": [],
   "source": [
    "# Unfortunately it takes sime to extract these values therefore instead of running it for the whole dataset let's export\n",
    "# a few records - and to make sure it is a balanced dataset\n",
    "# if the file has already been extracted\n",
    "if not os.path.isfile(\"./cleaned_training_data.csv\"):\n",
    "    print(valid_df.loc[valid_df.gender==\"female\"].groupby(\"age\").count())\n",
    "    # There is very few data from eighties and a lot more from younger ppl, let's try to grab 200 records from each category\n",
    "    unique_ages = list(valid_df.age.unique())\n",
    "    unique_ages.remove(np.nan)\n",
    "    print(f'unique ages: {unique_ages}')\n",
    "\n",
    "    sampled_df = pd.DataFrame()\n",
    "    for age_group in unique_ages:\n",
    "       temp_df = pd.DataFrame()\n",
    "       temp_df = valid_df.loc[(valid_df.gender==\"female\") & (valid_df.age==age_group)].copy()\n",
    "       sampled_df = sampled_df.append(temp_df[:400])\n",
    "\n",
    "    for age_group in unique_ages:\n",
    "       temp_df = pd.DataFrame()\n",
    "       temp_df = valid_df.loc[(valid_df.gender==\"male\") & (valid_df.age==age_group)].copy()\n",
    "       sampled_df = sampled_df.append(temp_df[:400])\n",
    "\n",
    "    sampled_df.to_csv(\"cleaned_training_data.csv\", index=False)\n",
    "\n",
    "else:\n",
    "    sampled_df = pd.read_csv(\"./cleaned_training_data.csv\")"
   ]
  },
  {
   "cell_type": "code",
   "execution_count": 10,
   "metadata": {
    "pycharm": {
     "name": "#%%\n"
    }
   },
   "outputs": [
    {
     "data": {
      "text/plain": [
       "<AxesSubplot:>"
      ]
     },
     "execution_count": 10,
     "metadata": {},
     "output_type": "execute_result"
    },
    {
     "data": {
      "image/png": "[encoded data removed]",
      "text/plain": [
       "<Figure size 720x720 with 1 Axes>"
      ]
     },
     "metadata": {
      "needs_background": "light"
     },
     "output_type": "display_data"
    }
   ],
   "source": [
    "pd.DataFrame(sampled_df.gender.value_counts()).plot.bar(figsize=(10,10))"
   ]
  },
  {
   "cell_type": "code",
   "execution_count": 11,
   "metadata": {
    "pycharm": {
     "name": "#%%\n"
    }
   },
   "outputs": [],
   "source": [
    "# if the training set has already been generated don't run this again - anyways this takes a pretty long time to extract\n",
    "if not os.path.isfile(\"./recording_features.csv\"):\n",
    "    files = sampled_df.filename.to_list()\n",
    "    features = []\n",
    "    for i, filename in enumerate(files):\n",
    "        recording_feature = import_mp3file(path, filename)\n",
    "        features.append(recording_feature)\n",
    "        if i % 100 == 0:\n",
    "            print(f'Processed {i} records')\n",
    "\n",
    "    final = pd.DataFrame(features)\n",
    "    final.to_csv(\"recording_features.csv\")\n",
    "else:\n",
    "    final = pd.read_csv(\"recording_features.csv\", index_col=[0])"
   ]
  },
  {
   "cell_type": "markdown",
   "metadata": {
    "pycharm": {
     "name": "#%% md\n"
    }
   },
   "source": [
    "## Joining the two dataframes and standardizing the data\n"
   ]
  },
  {
   "cell_type": "code",
   "execution_count": 12,
   "metadata": {
    "pycharm": {
     "name": "#%%\n"
    }
   },
   "outputs": [],
   "source": [
    "#time to remove columns we don't need\n",
    "sampled_df = sampled_df.drop(columns=[\"up_votes\", \"down_votes\", \"duration\", \"accent\", \"index\",\"text\"])"
   ]
  },
  {
   "cell_type": "code",
   "execution_count": 13,
   "metadata": {
    "pycharm": {
     "name": "#%%\n"
    }
   },
   "outputs": [
    {
     "data": {
      "text/html": [
       "<div>\n",
       "<style scoped>\n",
       "    .dataframe tbody tr th:only-of-type {\n",
       "        vertical-align: middle;\n",
       "    }\n",
       "\n",
       "    .dataframe tbody tr th {\n",
       "        vertical-align: top;\n",
       "    }\n",
       "\n",
       "    .dataframe thead th {\n",
       "        text-align: right;\n",
       "    }\n",
       "</style>\n",
       "<table border=\"1\" class=\"dataframe\">\n",
       "  <thead>\n",
       "    <tr style=\"text-align: right;\">\n",
       "      <th></th>\n",
       "      <th>filename</th>\n",
       "      <th>age</th>\n",
       "      <th>gender</th>\n",
       "      <th>spectral_centroid</th>\n",
       "      <th>spectral_bandwidth</th>\n",
       "      <th>spectral_rolloff</th>\n",
       "      <th>MFCC_0</th>\n",
       "      <th>MFCC_1</th>\n",
       "      <th>MFCC_2</th>\n",
       "      <th>MFCC_3</th>\n",
       "      <th>MFCC_4</th>\n",
       "      <th>MFCC_5</th>\n",
       "      <th>MFCC_6</th>\n",
       "      <th>MFCC_7</th>\n",
       "      <th>MFCC_8</th>\n",
       "      <th>MFCC_9</th>\n",
       "      <th>MFCC_10</th>\n",
       "      <th>MFCC_11</th>\n",
       "      <th>MFCC_12</th>\n",
       "      <th>MFCC_13</th>\n",
       "      <th>MFCC_14</th>\n",
       "      <th>MFCC_15</th>\n",
       "      <th>MFCC_16</th>\n",
       "      <th>MFCC_17</th>\n",
       "      <th>MFCC_18</th>\n",
       "      <th>MFCC_19</th>\n",
       "    </tr>\n",
       "  </thead>\n",
       "  <tbody>\n",
       "    <tr>\n",
       "      <th>0</th>\n",
       "      <td>cv-valid-train/sample-000005.mp3</td>\n",
       "      <td>twenties</td>\n",
       "      <td>female</td>\n",
       "      <td>1826.676487</td>\n",
       "      <td>1881.513079</td>\n",
       "      <td>3860.168457</td>\n",
       "      <td>-576.315370</td>\n",
       "      <td>86.375450</td>\n",
       "      <td>11.824992</td>\n",
       "      <td>49.361706</td>\n",
       "      <td>-5.830145</td>\n",
       "      <td>-0.714808</td>\n",
       "      <td>-14.106957</td>\n",
       "      <td>-8.645005</td>\n",
       "      <td>-2.919130</td>\n",
       "      <td>-14.076127</td>\n",
       "      <td>-14.482080</td>\n",
       "      <td>-13.578614</td>\n",
       "      <td>-6.720922</td>\n",
       "      <td>-6.186287</td>\n",
       "      <td>-4.839533</td>\n",
       "      <td>-9.007957</td>\n",
       "      <td>-3.113982</td>\n",
       "      <td>-1.743871</td>\n",
       "      <td>-9.447196</td>\n",
       "      <td>-8.065145</td>\n",
       "    </tr>\n",
       "    <tr>\n",
       "      <th>1</th>\n",
       "      <td>cv-valid-train/sample-000026.mp3</td>\n",
       "      <td>twenties</td>\n",
       "      <td>female</td>\n",
       "      <td>2616.617405</td>\n",
       "      <td>2179.803059</td>\n",
       "      <td>4761.842524</td>\n",
       "      <td>-228.240370</td>\n",
       "      <td>82.801940</td>\n",
       "      <td>-8.383657</td>\n",
       "      <td>30.143246</td>\n",
       "      <td>17.329943</td>\n",
       "      <td>2.232260</td>\n",
       "      <td>-19.801155</td>\n",
       "      <td>-6.005246</td>\n",
       "      <td>-7.787113</td>\n",
       "      <td>5.187589</td>\n",
       "      <td>-4.622561</td>\n",
       "      <td>-2.331251</td>\n",
       "      <td>-6.204039</td>\n",
       "      <td>3.251125</td>\n",
       "      <td>-17.747442</td>\n",
       "      <td>-0.515065</td>\n",
       "      <td>-10.605970</td>\n",
       "      <td>-8.131491</td>\n",
       "      <td>-8.427092</td>\n",
       "      <td>3.234301</td>\n",
       "    </tr>\n",
       "    <tr>\n",
       "      <th>2</th>\n",
       "      <td>cv-valid-train/sample-000059.mp3</td>\n",
       "      <td>twenties</td>\n",
       "      <td>female</td>\n",
       "      <td>2631.967942</td>\n",
       "      <td>2044.362034</td>\n",
       "      <td>4626.430442</td>\n",
       "      <td>-356.876740</td>\n",
       "      <td>68.245125</td>\n",
       "      <td>-10.347807</td>\n",
       "      <td>12.065706</td>\n",
       "      <td>-8.409592</td>\n",
       "      <td>-3.196407</td>\n",
       "      <td>-35.147610</td>\n",
       "      <td>-9.903251</td>\n",
       "      <td>-19.211166</td>\n",
       "      <td>-5.227669</td>\n",
       "      <td>-7.054412</td>\n",
       "      <td>-6.034971</td>\n",
       "      <td>-8.058039</td>\n",
       "      <td>-13.018083</td>\n",
       "      <td>-11.938355</td>\n",
       "      <td>3.690609</td>\n",
       "      <td>-8.656282</td>\n",
       "      <td>2.081685</td>\n",
       "      <td>-1.077340</td>\n",
       "      <td>-10.969205</td>\n",
       "    </tr>\n",
       "    <tr>\n",
       "      <th>3</th>\n",
       "      <td>cv-valid-train/sample-000101.mp3</td>\n",
       "      <td>twenties</td>\n",
       "      <td>female</td>\n",
       "      <td>2102.693066</td>\n",
       "      <td>1761.210243</td>\n",
       "      <td>3696.558838</td>\n",
       "      <td>-620.414300</td>\n",
       "      <td>95.137270</td>\n",
       "      <td>-1.270926</td>\n",
       "      <td>22.470818</td>\n",
       "      <td>-12.410017</td>\n",
       "      <td>-14.128232</td>\n",
       "      <td>-0.719716</td>\n",
       "      <td>-17.090850</td>\n",
       "      <td>-5.145642</td>\n",
       "      <td>0.527888</td>\n",
       "      <td>-14.900973</td>\n",
       "      <td>-17.381930</td>\n",
       "      <td>-8.984969</td>\n",
       "      <td>-7.450493</td>\n",
       "      <td>-7.771703</td>\n",
       "      <td>-7.896185</td>\n",
       "      <td>-9.588766</td>\n",
       "      <td>-11.281025</td>\n",
       "      <td>-8.105808</td>\n",
       "      <td>-1.190835</td>\n",
       "    </tr>\n",
       "    <tr>\n",
       "      <th>4</th>\n",
       "      <td>cv-valid-train/sample-000155.mp3</td>\n",
       "      <td>twenties</td>\n",
       "      <td>female</td>\n",
       "      <td>2238.837714</td>\n",
       "      <td>2250.816026</td>\n",
       "      <td>4440.932155</td>\n",
       "      <td>-383.868900</td>\n",
       "      <td>111.190480</td>\n",
       "      <td>9.153431</td>\n",
       "      <td>14.111599</td>\n",
       "      <td>11.028377</td>\n",
       "      <td>-8.014797</td>\n",
       "      <td>-10.864956</td>\n",
       "      <td>7.488869</td>\n",
       "      <td>8.158554</td>\n",
       "      <td>5.739348</td>\n",
       "      <td>-11.278584</td>\n",
       "      <td>-4.409180</td>\n",
       "      <td>-8.951644</td>\n",
       "      <td>-4.352331</td>\n",
       "      <td>-16.304008</td>\n",
       "      <td>-1.139749</td>\n",
       "      <td>-7.554811</td>\n",
       "      <td>-5.609372</td>\n",
       "      <td>-11.100672</td>\n",
       "      <td>0.755369</td>\n",
       "    </tr>\n",
       "    <tr>\n",
       "      <th>...</th>\n",
       "      <td>...</td>\n",
       "      <td>...</td>\n",
       "      <td>...</td>\n",
       "      <td>...</td>\n",
       "      <td>...</td>\n",
       "      <td>...</td>\n",
       "      <td>...</td>\n",
       "      <td>...</td>\n",
       "      <td>...</td>\n",
       "      <td>...</td>\n",
       "      <td>...</td>\n",
       "      <td>...</td>\n",
       "      <td>...</td>\n",
       "      <td>...</td>\n",
       "      <td>...</td>\n",
       "      <td>...</td>\n",
       "      <td>...</td>\n",
       "      <td>...</td>\n",
       "      <td>...</td>\n",
       "      <td>...</td>\n",
       "      <td>...</td>\n",
       "      <td>...</td>\n",
       "      <td>...</td>\n",
       "      <td>...</td>\n",
       "      <td>...</td>\n",
       "      <td>...</td>\n",
       "    </tr>\n",
       "    <tr>\n",
       "      <th>6037</th>\n",
       "      <td>cv-valid-train/sample-025095.mp3</td>\n",
       "      <td>fifties</td>\n",
       "      <td>female</td>\n",
       "      <td>2051.460400</td>\n",
       "      <td>1667.452561</td>\n",
       "      <td>3577.528733</td>\n",
       "      <td>-301.355438</td>\n",
       "      <td>79.975288</td>\n",
       "      <td>0.190885</td>\n",
       "      <td>34.674324</td>\n",
       "      <td>-20.913906</td>\n",
       "      <td>-0.836824</td>\n",
       "      <td>-27.546144</td>\n",
       "      <td>-12.159000</td>\n",
       "      <td>-17.359703</td>\n",
       "      <td>-6.070444</td>\n",
       "      <td>-7.549454</td>\n",
       "      <td>-14.079438</td>\n",
       "      <td>0.466185</td>\n",
       "      <td>-13.753979</td>\n",
       "      <td>-2.930482</td>\n",
       "      <td>-8.839911</td>\n",
       "      <td>6.860250</td>\n",
       "      <td>0.385507</td>\n",
       "      <td>-10.657043</td>\n",
       "      <td>-0.017750</td>\n",
       "    </tr>\n",
       "    <tr>\n",
       "      <th>6038</th>\n",
       "      <td>cv-valid-train/sample-025099.mp3</td>\n",
       "      <td>thirties</td>\n",
       "      <td>female</td>\n",
       "      <td>2069.099063</td>\n",
       "      <td>1779.094032</td>\n",
       "      <td>4045.764160</td>\n",
       "      <td>-444.592499</td>\n",
       "      <td>95.965050</td>\n",
       "      <td>-40.011948</td>\n",
       "      <td>34.227654</td>\n",
       "      <td>-19.243908</td>\n",
       "      <td>10.517472</td>\n",
       "      <td>-15.161172</td>\n",
       "      <td>-5.681414</td>\n",
       "      <td>-11.222052</td>\n",
       "      <td>-15.105099</td>\n",
       "      <td>-10.323715</td>\n",
       "      <td>-6.334144</td>\n",
       "      <td>-10.255620</td>\n",
       "      <td>-9.411448</td>\n",
       "      <td>1.272721</td>\n",
       "      <td>-14.257730</td>\n",
       "      <td>-1.601910</td>\n",
       "      <td>-6.940482</td>\n",
       "      <td>-2.772258</td>\n",
       "      <td>-5.349389</td>\n",
       "    </tr>\n",
       "    <tr>\n",
       "      <th>6039</th>\n",
       "      <td>cv-valid-train/sample-025101.mp3</td>\n",
       "      <td>fifties</td>\n",
       "      <td>female</td>\n",
       "      <td>1139.532627</td>\n",
       "      <td>1015.634039</td>\n",
       "      <td>2070.086200</td>\n",
       "      <td>-332.691833</td>\n",
       "      <td>162.807846</td>\n",
       "      <td>-15.643970</td>\n",
       "      <td>-6.910396</td>\n",
       "      <td>10.141964</td>\n",
       "      <td>-19.071936</td>\n",
       "      <td>-8.032710</td>\n",
       "      <td>-2.640061</td>\n",
       "      <td>-13.640615</td>\n",
       "      <td>-1.338096</td>\n",
       "      <td>-6.170706</td>\n",
       "      <td>-6.273840</td>\n",
       "      <td>-10.160578</td>\n",
       "      <td>-4.132409</td>\n",
       "      <td>-7.258778</td>\n",
       "      <td>-13.402951</td>\n",
       "      <td>-3.906369</td>\n",
       "      <td>-2.138798</td>\n",
       "      <td>-12.781569</td>\n",
       "      <td>-5.953580</td>\n",
       "    </tr>\n",
       "    <tr>\n",
       "      <th>6040</th>\n",
       "      <td>cv-valid-train/sample-025121.mp3</td>\n",
       "      <td>twenties</td>\n",
       "      <td>female</td>\n",
       "      <td>1977.609534</td>\n",
       "      <td>1537.759136</td>\n",
       "      <td>3541.956327</td>\n",
       "      <td>-393.188293</td>\n",
       "      <td>83.873909</td>\n",
       "      <td>-9.200700</td>\n",
       "      <td>22.312500</td>\n",
       "      <td>-6.095089</td>\n",
       "      <td>-14.024649</td>\n",
       "      <td>-13.559467</td>\n",
       "      <td>-3.634256</td>\n",
       "      <td>-10.940536</td>\n",
       "      <td>-6.731897</td>\n",
       "      <td>-3.180496</td>\n",
       "      <td>-5.419436</td>\n",
       "      <td>-3.416234</td>\n",
       "      <td>-6.169975</td>\n",
       "      <td>-0.814313</td>\n",
       "      <td>-5.441545</td>\n",
       "      <td>-2.891387</td>\n",
       "      <td>-4.688446</td>\n",
       "      <td>-7.295575</td>\n",
       "      <td>-3.764901</td>\n",
       "    </tr>\n",
       "    <tr>\n",
       "      <th>6041</th>\n",
       "      <td>cv-valid-train/sample-025143.mp3</td>\n",
       "      <td>twenties</td>\n",
       "      <td>female</td>\n",
       "      <td>2163.532594</td>\n",
       "      <td>2132.730324</td>\n",
       "      <td>4118.359201</td>\n",
       "      <td>-494.404907</td>\n",
       "      <td>98.942978</td>\n",
       "      <td>16.128349</td>\n",
       "      <td>15.101313</td>\n",
       "      <td>-8.071634</td>\n",
       "      <td>3.220567</td>\n",
       "      <td>1.150350</td>\n",
       "      <td>3.887430</td>\n",
       "      <td>-14.065849</td>\n",
       "      <td>-0.468321</td>\n",
       "      <td>-10.019979</td>\n",
       "      <td>-1.353086</td>\n",
       "      <td>-8.310203</td>\n",
       "      <td>-1.857864</td>\n",
       "      <td>-6.517623</td>\n",
       "      <td>-2.427248</td>\n",
       "      <td>-6.496480</td>\n",
       "      <td>-2.857313</td>\n",
       "      <td>-10.470281</td>\n",
       "      <td>-0.850216</td>\n",
       "    </tr>\n",
       "  </tbody>\n",
       "</table>\n",
       "<p>6042 rows × 26 columns</p>\n",
       "</div>"
      ],
      "text/plain": [
       "                              filename       age  gender  spectral_centroid  \\\n",
       "0     cv-valid-train/sample-000005.mp3  twenties  female        1826.676487   \n",
       "1     cv-valid-train/sample-000026.mp3  twenties  female        2616.617405   \n",
       "2     cv-valid-train/sample-000059.mp3  twenties  female        2631.967942   \n",
       "3     cv-valid-train/sample-000101.mp3  twenties  female        2102.693066   \n",
       "4     cv-valid-train/sample-000155.mp3  twenties  female        2238.837714   \n",
       "...                                ...       ...     ...                ...   \n",
       "6037  cv-valid-train/sample-025095.mp3   fifties  female        2051.460400   \n",
       "6038  cv-valid-train/sample-025099.mp3  thirties  female        2069.099063   \n",
       "6039  cv-valid-train/sample-025101.mp3   fifties  female        1139.532627   \n",
       "6040  cv-valid-train/sample-025121.mp3  twenties  female        1977.609534   \n",
       "6041  cv-valid-train/sample-025143.mp3  twenties  female        2163.532594   \n",
       "\n",
       "      spectral_bandwidth  spectral_rolloff      MFCC_0      MFCC_1     MFCC_2  \\\n",
       "0            1881.513079       3860.168457 -576.315370   86.375450  11.824992   \n",
       "1            2179.803059       4761.842524 -228.240370   82.801940  -8.383657   \n",
       "2            2044.362034       4626.430442 -356.876740   68.245125 -10.347807   \n",
       "3            1761.210243       3696.558838 -620.414300   95.137270  -1.270926   \n",
       "4            2250.816026       4440.932155 -383.868900  111.190480   9.153431   \n",
       "...                  ...               ...         ...         ...        ...   \n",
       "6037         1667.452561       3577.528733 -301.355438   79.975288   0.190885   \n",
       "6038         1779.094032       4045.764160 -444.592499   95.965050 -40.011948   \n",
       "6039         1015.634039       2070.086200 -332.691833  162.807846 -15.643970   \n",
       "6040         1537.759136       3541.956327 -393.188293   83.873909  -9.200700   \n",
       "6041         2132.730324       4118.359201 -494.404907   98.942978  16.128349   \n",
       "\n",
       "         MFCC_3     MFCC_4     MFCC_5     MFCC_6     MFCC_7     MFCC_8  \\\n",
       "0     49.361706  -5.830145  -0.714808 -14.106957  -8.645005  -2.919130   \n",
       "1     30.143246  17.329943   2.232260 -19.801155  -6.005246  -7.787113   \n",
       "2     12.065706  -8.409592  -3.196407 -35.147610  -9.903251 -19.211166   \n",
       "3     22.470818 -12.410017 -14.128232  -0.719716 -17.090850  -5.145642   \n",
       "4     14.111599  11.028377  -8.014797 -10.864956   7.488869   8.158554   \n",
       "...         ...        ...        ...        ...        ...        ...   \n",
       "6037  34.674324 -20.913906  -0.836824 -27.546144 -12.159000 -17.359703   \n",
       "6038  34.227654 -19.243908  10.517472 -15.161172  -5.681414 -11.222052   \n",
       "6039  -6.910396  10.141964 -19.071936  -8.032710  -2.640061 -13.640615   \n",
       "6040  22.312500  -6.095089 -14.024649 -13.559467  -3.634256 -10.940536   \n",
       "6041  15.101313  -8.071634   3.220567   1.150350   3.887430 -14.065849   \n",
       "\n",
       "         MFCC_9    MFCC_10    MFCC_11    MFCC_12    MFCC_13    MFCC_14  \\\n",
       "0    -14.076127 -14.482080 -13.578614  -6.720922  -6.186287  -4.839533   \n",
       "1      5.187589  -4.622561  -2.331251  -6.204039   3.251125 -17.747442   \n",
       "2     -5.227669  -7.054412  -6.034971  -8.058039 -13.018083 -11.938355   \n",
       "3      0.527888 -14.900973 -17.381930  -8.984969  -7.450493  -7.771703   \n",
       "4      5.739348 -11.278584  -4.409180  -8.951644  -4.352331 -16.304008   \n",
       "...         ...        ...        ...        ...        ...        ...   \n",
       "6037  -6.070444  -7.549454 -14.079438   0.466185 -13.753979  -2.930482   \n",
       "6038 -15.105099 -10.323715  -6.334144 -10.255620  -9.411448   1.272721   \n",
       "6039  -1.338096  -6.170706  -6.273840 -10.160578  -4.132409  -7.258778   \n",
       "6040  -6.731897  -3.180496  -5.419436  -3.416234  -6.169975  -0.814313   \n",
       "6041  -0.468321 -10.019979  -1.353086  -8.310203  -1.857864  -6.517623   \n",
       "\n",
       "        MFCC_15    MFCC_16    MFCC_17    MFCC_18    MFCC_19  \n",
       "0     -9.007957  -3.113982  -1.743871  -9.447196  -8.065145  \n",
       "1     -0.515065 -10.605970  -8.131491  -8.427092   3.234301  \n",
       "2      3.690609  -8.656282   2.081685  -1.077340 -10.969205  \n",
       "3     -7.896185  -9.588766 -11.281025  -8.105808  -1.190835  \n",
       "4     -1.139749  -7.554811  -5.609372 -11.100672   0.755369  \n",
       "...         ...        ...        ...        ...        ...  \n",
       "6037  -8.839911   6.860250   0.385507 -10.657043  -0.017750  \n",
       "6038 -14.257730  -1.601910  -6.940482  -2.772258  -5.349389  \n",
       "6039 -13.402951  -3.906369  -2.138798 -12.781569  -5.953580  \n",
       "6040  -5.441545  -2.891387  -4.688446  -7.295575  -3.764901  \n",
       "6041  -2.427248  -6.496480  -2.857313 -10.470281  -0.850216  \n",
       "\n",
       "[6042 rows x 26 columns]"
      ]
     },
     "execution_count": 13,
     "metadata": {},
     "output_type": "execute_result"
    }
   ],
   "source": [
    "# merge the two dataframes so we have the outcomes labels with the data\n",
    "merged = pd.merge(sampled_df, final, on=\"filename\")\n",
    "merged"
   ]
  },
  {
   "cell_type": "code",
   "execution_count": 14,
   "metadata": {
    "pycharm": {
     "name": "#%%\n"
    }
   },
   "outputs": [],
   "source": [
    "# switching female and male into 0 and 1\n",
    "merged['gender_num'] = merged.gender.apply(lambda a : 1 if a==\"male\" else 0)"
   ]
  },
  {
   "cell_type": "code",
   "execution_count": 47,
   "metadata": {
    "pycharm": {
     "name": "#%%\n"
    }
   },
   "outputs": [],
   "source": [
    "from sklearn.preprocessing import MinMaxScaler\n",
    "X = merged.loc[:, 'spectral_centroid':'MFCC_19']\n",
    "scaler = MinMaxScaler()\n",
    "X_scale = scaler.fit_transform(X)\n",
    "y = merged.gender_num"
   ]
  },
  {
   "cell_type": "markdown",
   "metadata": {
    "pycharm": {
     "name": "#%% md\n"
    }
   },
   "source": [
    "## Building models\n",
    "### Logistic regression"
   ]
  },
  {
   "cell_type": "code",
   "execution_count": 48,
   "metadata": {
    "pycharm": {
     "name": "#%%\n"
    }
   },
   "outputs": [],
   "source": [
    "from sklearn.linear_model import LogisticRegression\n",
    "\n",
    "log_model = LogisticRegression()\n",
    "log_model.fit(X_scale,y)\n",
    "y_pred = log_model.predict(X_scale)\n"
   ]
  },
  {
   "cell_type": "code",
   "execution_count": 55,
   "metadata": {
    "pycharm": {
     "name": "#%%\n"
    }
   },
   "outputs": [
    {
     "name": "stdout",
     "output_type": "stream",
     "text": [
      "[[2524  497]\n",
      " [ 509 2512]]\n",
      "accuracy is 0.8334988414432307\n"
     ]
    },
    {
     "name": "stderr",
     "output_type": "stream",
     "text": [
      "c:\\users\\asemjen\\appdata\\local\\programs\\python\\python39\\lib\\site-packages\\sklearn\\utils\\deprecation.py:87: FutureWarning: Function plot_confusion_matrix is deprecated; Function `plot_confusion_matrix` is deprecated in 1.0 and will be removed in 1.2. Use one of the class methods: ConfusionMatrixDisplay.from_predictions or ConfusionMatrixDisplay.from_estimator.\n",
      "  warnings.warn(msg, category=FutureWarning)\n"
     ]
    },
    {
     "data": {
      "image/png": "[encoded data removed]",
      "text/plain": [
       "<Figure size 720x720 with 2 Axes>"
      ]
     },
     "metadata": {
      "needs_background": "light"
     },
     "output_type": "display_data"
    }
   ],
   "source": [
    "from sklearn import metrics\n",
    "print(metrics.confusion_matrix(y, y_pred))\n",
    "fig, ax = plt.subplots(figsize=(10, 10))\n",
    "metrics.plot_confusion_matrix(log_model, X_scale, y, display_labels=['male', 'female'], values_format='d', ax=ax)\n",
    "print(f'accuracy is {metrics.accuracy_score(y, y_pred)}')   # accuracy"
   ]
  },
  {
   "cell_type": "code",
   "execution_count": 18,
   "metadata": {
    "pycharm": {
     "name": "#%%\n"
    }
   },
   "outputs": [
    {
     "name": "stdout",
     "output_type": "stream",
     "text": [
      "0.8334988414432307\n",
      "0.8348288467929544\n",
      "0.8315127441244621\n",
      "0.833167495854063\n"
     ]
    }
   ],
   "source": [
    "logistic_accuracy = metrics.accuracy_score(y, y_pred)\n",
    "print(metrics.accuracy_score(y, y_pred))   # accuracy\n",
    "print(metrics.precision_score(y, y_pred))  # precision\n",
    "print(metrics.recall_score(y, y_pred))     # recall\n",
    "print(metrics.f1_score(y, y_pred))"
   ]
  },
  {
   "cell_type": "code",
   "execution_count": 56,
   "metadata": {
    "pycharm": {
     "name": "#%%\n"
    }
   },
   "outputs": [
    {
     "name": "stderr",
     "output_type": "stream",
     "text": [
      "c:\\users\\asemjen\\appdata\\local\\programs\\python\\python39\\lib\\site-packages\\sklearn\\utils\\deprecation.py:87: FutureWarning: Function plot_roc_curve is deprecated; Function :func:`plot_roc_curve` is deprecated in 1.0 and will be removed in 1.2. Use one of the class methods: :meth:`sklearn.metric.RocCurveDisplay.from_predictions` or :meth:`sklearn.metric.RocCurveDisplay.from_estimator`.\n",
      "  warnings.warn(msg, category=FutureWarning)\n"
     ]
    },
    {
     "data": {
      "text/plain": [
       "<sklearn.metrics._plot.roc_curve.RocCurveDisplay at 0x2092f91f5e0>"
      ]
     },
     "execution_count": 56,
     "metadata": {},
     "output_type": "execute_result"
    },
    {
     "data": {
      "image/png": "[encoded data removed]",
      "text/plain": [
       "<Figure size 720x720 with 1 Axes>"
      ]
     },
     "metadata": {
      "needs_background": "light"
     },
     "output_type": "display_data"
    }
   ],
   "source": [
    "fig, ax = plt.subplots(figsize=(10, 10))\n",
    "metrics.plot_roc_curve(log_model, X_scale, y, ax=ax)"
   ]
  },
  {
   "cell_type": "markdown",
   "metadata": {
    "pycharm": {
     "name": "#%% md\n"
    }
   },
   "source": [
    "## K nearest neighbours"
   ]
  },
  {
   "cell_type": "code",
   "execution_count": 20,
   "metadata": {
    "pycharm": {
     "name": "#%%\n"
    }
   },
   "outputs": [
    {
     "data": {
      "text/plain": [
       "((5437, 23), (605, 23), (5437,), (605,))"
      ]
     },
     "execution_count": 20,
     "metadata": {},
     "output_type": "execute_result"
    }
   ],
   "source": [
    "\n",
    "from sklearn.model_selection import train_test_split\n",
    "\n",
    "X_train, X_test, y_train, y_test = train_test_split(X_scale, y, test_size=0.1)\n",
    "\n",
    "(X_train.shape, X_test.shape, y_train.shape, y_test.shape)"
   ]
  },
  {
   "cell_type": "code",
   "execution_count": 21,
   "metadata": {
    "pycharm": {
     "name": "#%%\n"
    }
   },
   "outputs": [
    {
     "data": {
      "text/plain": [
       "k                       1.000000\n",
       "classification error    0.099872\n",
       "dtype: float64"
      ]
     },
     "execution_count": 21,
     "metadata": {},
     "output_type": "execute_result"
    }
   ],
   "source": [
    "from sklearn.neighbors import KNeighborsClassifier\n",
    "from sklearn.model_selection import cross_val_score\n",
    "\n",
    "errors = []\n",
    "for k in range(1,80,2):\n",
    "    model = KNeighborsClassifier(n_neighbors=k)\n",
    "    errors.append({\n",
    "        'k': k,\n",
    "        'classification error': 1 - cross_val_score(model, X_train, y_train, cv=5).mean()\n",
    "    })\n",
    "\n",
    "results = pd.DataFrame(errors)\n",
    "results.min()"
   ]
  },
  {
   "cell_type": "code",
   "execution_count": 22,
   "metadata": {
    "pycharm": {
     "name": "#%%\n"
    }
   },
   "outputs": [
    {
     "data": {
      "text/html": [
       "<div>\n",
       "<style scoped>\n",
       "    .dataframe tbody tr th:only-of-type {\n",
       "        vertical-align: middle;\n",
       "    }\n",
       "\n",
       "    .dataframe tbody tr th {\n",
       "        vertical-align: top;\n",
       "    }\n",
       "\n",
       "    .dataframe thead th {\n",
       "        text-align: right;\n",
       "    }\n",
       "</style>\n",
       "<table border=\"1\" class=\"dataframe\">\n",
       "  <thead>\n",
       "    <tr style=\"text-align: right;\">\n",
       "      <th></th>\n",
       "      <th>k</th>\n",
       "      <th>classification error</th>\n",
       "    </tr>\n",
       "  </thead>\n",
       "  <tbody>\n",
       "    <tr>\n",
       "      <th>0</th>\n",
       "      <td>1</td>\n",
       "      <td>0.099872</td>\n",
       "    </tr>\n",
       "    <tr>\n",
       "      <th>1</th>\n",
       "      <td>3</td>\n",
       "      <td>0.101159</td>\n",
       "    </tr>\n",
       "    <tr>\n",
       "      <th>2</th>\n",
       "      <td>5</td>\n",
       "      <td>0.104286</td>\n",
       "    </tr>\n",
       "    <tr>\n",
       "      <th>3</th>\n",
       "      <td>7</td>\n",
       "      <td>0.109619</td>\n",
       "    </tr>\n",
       "    <tr>\n",
       "      <th>4</th>\n",
       "      <td>9</td>\n",
       "      <td>0.110173</td>\n",
       "    </tr>\n",
       "  </tbody>\n",
       "</table>\n",
       "</div>"
      ],
      "text/plain": [
       "   k  classification error\n",
       "0  1              0.099872\n",
       "1  3              0.101159\n",
       "2  5              0.104286\n",
       "3  7              0.109619\n",
       "4  9              0.110173"
      ]
     },
     "execution_count": 22,
     "metadata": {},
     "output_type": "execute_result"
    }
   ],
   "source": [
    "#results\n",
    "results.sort_values(by=['classification error']).head()"
   ]
  },
  {
   "cell_type": "code",
   "execution_count": 23,
   "metadata": {
    "pycharm": {
     "name": "#%%\n"
    }
   },
   "outputs": [
    {
     "data": {
      "text/plain": [
       "<AxesSubplot:xlabel='k', ylabel='classification error'>"
      ]
     },
     "execution_count": 23,
     "metadata": {},
     "output_type": "execute_result"
    },
    {
     "data": {
      "image/png": "[encoded data removed]",
      "text/plain": [
       "<Figure size 432x288 with 1 Axes>"
      ]
     },
     "metadata": {
      "needs_background": "light"
     },
     "output_type": "display_data"
    }
   ],
   "source": [
    "import seaborn as sns\n",
    "sns.scatterplot(x='k', y='classification error', data=results)"
   ]
  },
  {
   "cell_type": "code",
   "execution_count": 24,
   "metadata": {
    "pycharm": {
     "name": "#%%\n"
    }
   },
   "outputs": [
    {
     "name": "stdout",
     "output_type": "stream",
     "text": [
      "0.912396694214876\n"
     ]
    }
   ],
   "source": [
    "kn_model = KNeighborsClassifier(n_neighbors=3)\n",
    "kn_model.fit(X_train, y_train)\n",
    "y_pred = kn_model.predict(X_test)\n",
    "1 - kn_model.score(X_test,y_test)\n",
    "kn_accuracy = metrics.accuracy_score(y_test, y_pred)\n",
    "print(kn_accuracy)"
   ]
  },
  {
   "cell_type": "markdown",
   "metadata": {
    "pycharm": {
     "name": "#%% md\n"
    }
   },
   "source": [
    "# Decision trees\n",
    "We start with scaling again although it wouldn't be necessary for the decision trees"
   ]
  },
  {
   "cell_type": "code",
   "execution_count": 58,
   "metadata": {
    "pycharm": {
     "name": "#%%\n"
    }
   },
   "outputs": [],
   "source": [
    "from sklearn.model_selection import train_test_split\n",
    "from sklearn import tree\n",
    "from sklearn.tree import DecisionTreeClassifier, plot_tree\n",
    "from sklearn.preprocessing import MinMaxScaler\n",
    "X = merged.loc[:, 'spectral_centroid':'MFCC_19']\n",
    "scaler = MinMaxScaler()\n",
    "X = scaler.fit_transform(X)\n",
    "y = merged.gender_num\n",
    "\n",
    "X_train, X_test, y_train, y_test = train_test_split(X, y, test_size=0.4)"
   ]
  },
  {
   "cell_type": "code",
   "execution_count": 59,
   "metadata": {
    "pycharm": {
     "name": "#%%\n"
    }
   },
   "outputs": [],
   "source": [
    "# Trying to find which tree may be the best to build\n",
    "from sklearn.model_selection import GridSearchCV\n",
    "#\n",
    "# # initial attempt\n",
    "# param_grid = {\n",
    "#     'max_depth': [10, 20, 30, 40],\n",
    "#     'min_samples_split': [20, 40, 60, 80, 100],\n",
    "#     'min_impurity_decrease': [0, 0.0005, 0.001, 0.005, 0.01]\n",
    "# }\n",
    "#\n",
    "# model = DecisionTreeClassifier(random_state=1)\n",
    "#\n",
    "# gridSearch = GridSearchCV(model, param_grid, cv=5)\n",
    "# gridSearch.fit(X_train, y_train)\n",
    "#\n",
    "# print(gridSearch.best_score_)\n",
    "# print(gridSearch.best_params_)"
   ]
  },
  {
   "cell_type": "code",
   "execution_count": 62,
   "metadata": {
    "pycharm": {
     "name": "#%%\n"
    }
   },
   "outputs": [
    {
     "name": "stdout",
     "output_type": "stream",
     "text": [
      "Confusion Matrix (Accuracy 0.8482)\n",
      "\n",
      "       Prediction\n",
      "Actual    0    1\n",
      "     0 1001  166\n",
      "     1  201 1049\n",
      "accuracy is 0.8334988414432307\n"
     ]
    },
    {
     "name": "stderr",
     "output_type": "stream",
     "text": [
      "c:\\users\\asemjen\\appdata\\local\\programs\\python\\python39\\lib\\site-packages\\sklearn\\utils\\deprecation.py:87: FutureWarning: Function plot_confusion_matrix is deprecated; Function `plot_confusion_matrix` is deprecated in 1.0 and will be removed in 1.2. Use one of the class methods: ConfusionMatrixDisplay.from_predictions or ConfusionMatrixDisplay.from_estimator.\n",
      "  warnings.warn(msg, category=FutureWarning)\n"
     ]
    }
   ],
   "source": [
    "import dmba\n",
    "from sklearn.ensemble import GradientBoostingClassifier\n",
    "\n",
    "model_boost = GradientBoostingClassifier(n_estimators=200, learning_rate=0.12)\n",
    "model_boost.fit(X_train, y_train)\n",
    "\n",
    "dmba.classificationSummary(y_test, model_boost.predict(X_test))\n",
    "metrics.plot_confusion_matrix(model_boost, X_test, y_test, display_labels=['male', 'female'], values_format='d', ax=ax)\n",
    "print(f'accuracy is {metrics.accuracy_score(y, y_pred)}')   # accuracy"
   ]
  },
  {
   "cell_type": "code",
   "execution_count": 66,
   "metadata": {},
   "outputs": [
    {
     "data": {
      "text/plain": [
       "[Text(0.5, 0.875, 'X[4] <= 0.386\\nfriedman_mse = 0.102\\nsamples = 3625\\nvalue = -0.0'),\n",
       " Text(0.25, 0.625, 'X[6] <= 0.563\\nfriedman_mse = 0.105\\nsamples = 852\\nvalue = -0.046'),\n",
       " Text(0.125, 0.375, 'X[14] <= 0.44\\nfriedman_mse = 0.102\\nsamples = 815\\nvalue = -0.054'),\n",
       " Text(0.0625, 0.125, 'friedman_mse = 0.059\\nsamples = 173\\nvalue = -0.866'),\n",
       " Text(0.1875, 0.125, 'friedman_mse = 0.111\\nsamples = 642\\nvalue = -0.198'),\n",
       " Text(0.375, 0.375, 'X[15] <= 0.538\\nfriedman_mse = 0.151\\nsamples = 37\\nvalue = 0.14'),\n",
       " Text(0.3125, 0.125, 'friedman_mse = 0.119\\nsamples = 16\\nvalue = 1.875'),\n",
       " Text(0.4375, 0.125, 'friedman_mse = 0.106\\nsamples = 21\\nvalue = -0.206'),\n",
       " Text(0.75, 0.625, 'X[6] <= 0.439\\nfriedman_mse = 0.1\\nsamples = 2773\\nvalue = 0.014'),\n",
       " Text(0.625, 0.375, 'X[7] <= 0.763\\nfriedman_mse = 0.102\\nsamples = 1924\\nvalue = -0.005'),\n",
       " Text(0.5625, 0.125, 'friedman_mse = 0.103\\nsamples = 1859\\nvalue = -0.074'),\n",
       " Text(0.6875, 0.125, 'friedman_mse = 0.035\\nsamples = 65\\nvalue = 1.141'),\n",
       " Text(0.875, 0.375, 'X[10] <= 0.377\\nfriedman_mse = 0.092\\nsamples = 849\\nvalue = 0.057'),\n",
       " Text(0.8125, 0.125, 'friedman_mse = 0.061\\nsamples = 125\\nvalue = -0.364'),\n",
       " Text(0.9375, 0.125, 'friedman_mse = 0.095\\nsamples = 724\\nvalue = 0.496')]"
      ]
     },
     "execution_count": 66,
     "metadata": {},
     "output_type": "execute_result"
    },
    {
     "data": {
      "image/png": "[encoded data removed]",
      "text/plain": [
       "<Figure size 1440x1008 with 1 Axes>"
      ]
     },
     "metadata": {
      "needs_background": "light"
     },
     "output_type": "display_data"
    }
   ],
   "source": [
    "atree = model_boost.estimators_[42,0]\n",
    "plt.figure(figsize=(20,14)) \n",
    "plot_tree(atree)"
   ]
  },
  {
   "cell_type": "code",
   "execution_count": 28,
   "metadata": {
    "pycharm": {
     "name": "#%%\n"
    }
   },
   "outputs": [
    {
     "name": "stdout",
     "output_type": "stream",
     "text": [
      "Confusion Matrix (Accuracy 0.9484)\n",
      "\n",
      "       Prediction\n",
      "Actual    0    1\n",
      "     0 1731   97\n",
      "     1   90 1707\n",
      "Confusion Matrix (Accuracy 0.8506)\n",
      "\n",
      "       Prediction\n",
      "Actual    0    1\n",
      "     0 1018  175\n",
      "     1  186 1038\n"
     ]
    }
   ],
   "source": [
    "# Testing the outcome\n",
    "\n",
    "dmba.classificationSummary(y_train, model_boost.predict(X_train))\n",
    "dmba.classificationSummary(y_test, model_boost.predict(X_test))\n",
    "boosted_tree_accuracy = metrics.accuracy_score(y_test, model_boost.predict(X_test))"
   ]
  },
  {
   "cell_type": "markdown",
   "metadata": {
    "pycharm": {
     "name": "#%% md\n"
    }
   },
   "source": [
    "## Just for curiosity a neural network as the tip of the iceberg"
   ]
  },
  {
   "cell_type": "code",
   "execution_count": 29,
   "metadata": {
    "pycharm": {
     "name": "#%%\n"
    }
   },
   "outputs": [],
   "source": [
    "from sklearn.neural_network import MLPClassifier\n",
    "\n",
    "X = merged.loc[:, 'spectral_centroid':'MFCC_19']\n",
    "scaler = MinMaxScaler()\n",
    "X = scaler.fit_transform(X)\n",
    "y = merged.gender_num\n",
    "\n",
    "X_train, X_test, y_train, y_test = train_test_split(X, y, test_size=0.2)"
   ]
  },
  {
   "cell_type": "code",
   "execution_count": 75,
   "metadata": {
    "pycharm": {
     "name": "#%%\n"
    }
   },
   "outputs": [
    {
     "name": "stderr",
     "output_type": "stream",
     "text": [
      "c:\\users\\asemjen\\appdata\\local\\programs\\python\\python39\\lib\\site-packages\\sklearn\\neural_network\\_multilayer_perceptron.py:702: ConvergenceWarning: Stochastic Optimizer: Maximum iterations (200) reached and the optimization hasn't converged yet.\n",
      "  warnings.warn(\n"
     ]
    },
    {
     "data": {
      "text/plain": "MLPClassifier(alpha=1e-05, hidden_layer_sizes=(5, 2, 2))",
      "text/html": "<style>#sk-container-id-2 {color: black;background-color: white;}#sk-container-id-2 pre{padding: 0;}#sk-container-id-2 div.sk-toggleable {background-color: white;}#sk-container-id-2 label.sk-toggleable__label {cursor: pointer;display: block;width: 100%;margin-bottom: 0;padding: 0.3em;box-sizing: border-box;text-align: center;}#sk-container-id-2 label.sk-toggleable__label-arrow:before {content: \"▸\";float: left;margin-right: 0.25em;color: #696969;}#sk-container-id-2 label.sk-toggleable__label-arrow:hover:before {color: black;}#sk-container-id-2 div.sk-estimator:hover label.sk-toggleable__label-arrow:before {color: black;}#sk-container-id-2 div.sk-toggleable__content {max-height: 0;max-width: 0;overflow: hidden;text-align: left;background-color: #f0f8ff;}#sk-container-id-2 div.sk-toggleable__content pre {margin: 0.2em;color: black;border-radius: 0.25em;background-color: #f0f8ff;}#sk-container-id-2 input.sk-toggleable__control:checked~div.sk-toggleable__content {max-height: 200px;max-width: 100%;overflow: auto;}#sk-container-id-2 input.sk-toggleable__control:checked~label.sk-toggleable__label-arrow:before {content: \"▾\";}#sk-container-id-2 div.sk-estimator input.sk-toggleable__control:checked~label.sk-toggleable__label {background-color: #d4ebff;}#sk-container-id-2 div.sk-label input.sk-toggleable__control:checked~label.sk-toggleable__label {background-color: #d4ebff;}#sk-container-id-2 input.sk-hidden--visually {border: 0;clip: rect(1px 1px 1px 1px);clip: rect(1px, 1px, 1px, 1px);height: 1px;margin: -1px;overflow: hidden;padding: 0;position: absolute;width: 1px;}#sk-container-id-2 div.sk-estimator {font-family: monospace;background-color: #f0f8ff;border: 1px dotted black;border-radius: 0.25em;box-sizing: border-box;margin-bottom: 0.5em;}#sk-container-id-2 div.sk-estimator:hover {background-color: #d4ebff;}#sk-container-id-2 div.sk-parallel-item::after {content: \"\";width: 100%;border-bottom: 1px solid gray;flex-grow: 1;}#sk-container-id-2 div.sk-label:hover label.sk-toggleable__label {background-color: #d4ebff;}#sk-container-id-2 div.sk-serial::before {content: \"\";position: absolute;border-left: 1px solid gray;box-sizing: border-box;top: 0;bottom: 0;left: 50%;z-index: 0;}#sk-container-id-2 div.sk-serial {display: flex;flex-direction: column;align-items: center;background-color: white;padding-right: 0.2em;padding-left: 0.2em;position: relative;}#sk-container-id-2 div.sk-item {position: relative;z-index: 1;}#sk-container-id-2 div.sk-parallel {display: flex;align-items: stretch;justify-content: center;background-color: white;position: relative;}#sk-container-id-2 div.sk-item::before, #sk-container-id-2 div.sk-parallel-item::before {content: \"\";position: absolute;border-left: 1px solid gray;box-sizing: border-box;top: 0;bottom: 0;left: 50%;z-index: -1;}#sk-container-id-2 div.sk-parallel-item {display: flex;flex-direction: column;z-index: 1;position: relative;background-color: white;}#sk-container-id-2 div.sk-parallel-item:first-child::after {align-self: flex-end;width: 50%;}#sk-container-id-2 div.sk-parallel-item:last-child::after {align-self: flex-start;width: 50%;}#sk-container-id-2 div.sk-parallel-item:only-child::after {width: 0;}#sk-container-id-2 div.sk-dashed-wrapped {border: 1px dashed gray;margin: 0 0.4em 0.5em 0.4em;box-sizing: border-box;padding-bottom: 0.4em;background-color: white;}#sk-container-id-2 div.sk-label label {font-family: monospace;font-weight: bold;display: inline-block;line-height: 1.2em;}#sk-container-id-2 div.sk-label-container {text-align: center;}#sk-container-id-2 div.sk-container {/* jupyter's `normalize.less` sets `[hidden] { display: none; }` but bootstrap.min.css set `[hidden] { display: none !important; }` so we also need the `!important` here to be able to override the default hidden behavior on the sphinx rendered scikit-learn.org. See: https://github.com/scikit-learn/scikit-learn/issues/21755 */display: inline-block !important;position: relative;}#sk-container-id-2 div.sk-text-repr-fallback {display: none;}</style><div id=\"sk-container-id-2\" class=\"sk-top-container\"><div class=\"sk-text-repr-fallback\"><pre>MLPClassifier(alpha=1e-05, hidden_layer_sizes=(5, 2, 2))</pre><b>In a Jupyter environment, please rerun this cell to show the HTML representation or trust the notebook. <br />On GitHub, the HTML representation is unable to render, please try loading this page with nbviewer.org.</b></div><div class=\"sk-container\" hidden><div class=\"sk-item\"><div class=\"sk-estimator sk-toggleable\"><input class=\"sk-toggleable__control sk-hidden--visually\" id=\"sk-estimator-id-2\" type=\"checkbox\" checked><label for=\"sk-estimator-id-2\" class=\"sk-toggleable__label sk-toggleable__label-arrow\">MLPClassifier</label><div class=\"sk-toggleable__content\"><pre>MLPClassifier(alpha=1e-05, hidden_layer_sizes=(5, 2, 2))</pre></div></div></div></div></div>"
     },
     "execution_count": 75,
     "metadata": {},
     "output_type": "execute_result"
    }
   ],
   "source": [
    "clf = MLPClassifier(solver='adam', alpha=1e-5,\n",
    "                 hidden_layer_sizes=(5, 2, 2))\n",
    "clf.fit(X_train, y_train)"
   ]
  },
  {
   "cell_type": "code",
   "execution_count": 76,
   "metadata": {
    "pycharm": {
     "name": "#%%\n"
    }
   },
   "outputs": [
    {
     "name": "stdout",
     "output_type": "stream",
     "text": [
      "0.8225072403806372\n"
     ]
    }
   ],
   "source": [
    "from sklearn.metrics import accuracy_score\n",
    "predicted_values = clf.predict(X_test)\n",
    "neural_accuracy = accuracy_score(y_test,predicted_values)\n",
    "print(neural_accuracy)"
   ]
  },
  {
   "cell_type": "code",
   "execution_count": 32,
   "metadata": {
    "pycharm": {
     "name": "#%%\n"
    }
   },
   "outputs": [],
   "source": [
    "from sklearn.model_selection import GridSearchCV\n",
    "my_bool = False\n",
    "if my_bool:\n",
    "\n",
    "    X_train, X_test, y_train, y_test = train_test_split(X, y, test_size=0.2)\n",
    "\n",
    "\n",
    "    clf = MLPClassifier(solver='adam',hidden_layer_sizes=(7,7,7))\n",
    "\n",
    "    params = {\n",
    "        'hidden_layer_sizes' : [(5,2,3), (5,2,4)] # Every combination you want to try\n",
    "    }\n",
    "\n",
    "    gscv = GridSearchCV(clf, params, verbose=1)\n",
    "\n",
    "    gscv.fit(np.array(X_train), np.array(y_train))\n",
    "    print(gscv.best_params_)\n",
    "\n",
    "    predicted_values = gscv.predict(X_test)\n",
    "\n",
    "    from sklearn.metrics import accuracy_score\n",
    "    score = accuracy_score(y_test,predicted_values)\n",
    "\n",
    "    print(score)"
   ]
  },
  {
   "cell_type": "code",
   "execution_count": 33,
   "metadata": {
    "pycharm": {
     "name": "#%%\n"
    }
   },
   "outputs": [],
   "source": [
    "import pickle\n",
    "pickle.dump(log_model, open(\"LogisticRegression.model\", \"wb\"))\n",
    "pickle.dump(kn_model, open(\"KNeighborsClassifier.model\", \"wb\"))\n",
    "pickle.dump(model_boost, open(\"GradientBoostingClassifier.model\", \"wb\" ))\n",
    "pickle.dump(scaler, open(\"MinMaxScaler.scaler\", \"wb\"))"
   ]
  },
  {
   "cell_type": "markdown",
   "metadata": {},
   "source": [
    "## Testing on locally recorded files - this should be built into a React dashboard"
   ]
  },
  {
   "cell_type": "code",
   "execution_count": 34,
   "metadata": {
    "pycharm": {
     "name": "#%%\n"
    }
   },
   "outputs": [
    {
     "name": "stderr",
     "output_type": "stream",
     "text": [
      "c:\\users\\asemjen\\appdata\\local\\programs\\python\\python39\\lib\\site-packages\\librosa\\util\\decorators.py:88: UserWarning: PySoundFile failed. Trying audioread instead.\n",
      "  return f(*args, **kwargs)\n"
     ]
    },
    {
     "name": "stdout",
     "output_type": "stream",
     "text": [
      "Predicted for logistic regression: [1]\n",
      "Predicted for K-nearest neigbours: [1]\n",
      "Predicted for boosted tree: [1]\n",
      "Neural network predicts [1]\n"
     ]
    }
   ],
   "source": [
    "# Testing on new files\n",
    "test_file = import_mp3file(\"./\", \"Recording_2.m4a\")\n",
    "test_frame = pd.DataFrame(test_file, index=[0])\n",
    "X = test_frame.loc[:, 'spectral_centroid':'MFCC_19']\n",
    "TEST = scaler.transform(X)\n",
    "\n",
    "predicted_logistic = log_model.predict(TEST)\n",
    "print(f'Predicted for logistic regression: {predicted_logistic}')\n",
    "\n",
    "k_predicted = kn_model.predict(TEST)\n",
    "print( (f'Predicted for K-nearest neigbours: {k_predicted}'))\n",
    "\n",
    "boosted_tree = model_boost.predict(TEST)\n",
    "print(f'Predicted for boosted tree: {boosted_tree}')\n",
    "\n",
    "neural_network = clf.predict(TEST)\n",
    "print(f'Neural network predicts {neural_network}')\n"
   ]
  },
  {
   "cell_type": "markdown",
   "metadata": {
    "pycharm": {
     "name": "#%% md\n"
    }
   },
   "source": [
    "# Ensemble final model"
   ]
  },
  {
   "cell_type": "code",
   "execution_count": 36,
   "metadata": {
    "pycharm": {
     "name": "#%%\n"
    }
   },
   "outputs": [],
   "source": [
    "# from sklearn.ensemble import VotingClassifier\n",
    "\n",
    "# models = [(\"log_model\", log_model), (\"k_nearest\", kn_model), (\"GradientBoostingClassifier\", boosted_tree),\n",
    "#           (\"neural_network\", neural_network)]\n",
    "# weights = [logistic_accuracy, kn_accuracy, boosted_tree_accuracy, neural_accuracy]\n",
    "\n",
    "\n",
    "# X_train, X_test, y_train, y_test = train_test_split(X, y, test_size=0.2)\n",
    "# #ensemble = VotingClassifier(estimators=models, weights=weights, voting='soft')\n",
    "# #ensemble.fit(X_train, y_train)\n",
    "\n"
   ]
  },
  {
   "cell_type": "code",
   "execution_count": 74,
   "metadata": {},
   "outputs": [
    {
     "name": "stderr",
     "output_type": "stream",
     "text": [
      "c:\\users\\asemjen\\appdata\\local\\programs\\python\\python39\\lib\\site-packages\\librosa\\util\\decorators.py:88: UserWarning: PySoundFile failed. Trying audioread instead.\n",
      "  return f(*args, **kwargs)\n"
     ]
    },
    {
     "name": "stdout",
     "output_type": "stream",
     "text": [
      "Predicted for logistic regression: [1]\n",
      "logistic accuracy is 0.8334988414432307\n",
      "Predicted for K-nearest neigbours: [1]\n",
      "K nearest accuracy is 0.912396694214876\n",
      "Predicted for boosted tree: [1]\n",
      "Gradient boosted tree accuracy is 0.8506412908564336\n",
      "Neural network predicts [1]\n",
      "Neural accuracy 0.8304383788254756\n"
     ]
    }
   ],
   "source": [
    "test_file = import_mp3file(\"C:\\\\Users\\\\ASemjen\\\\OneDrive - Confluent\\\\Documents\\\\Sound recordings\", \"Recording (21).m4a\")\n",
    "#test_file = import_mp3file(\"./\", \"Recording_Anna_again.m4a\")\n",
    "\n",
    "test_frame = pd.DataFrame(test_file, index=[0])\n",
    "X = test_frame.loc[:, 'spectral_centroid':'MFCC_19']\n",
    "TEST = scaler.transform(X)\n",
    "\n",
    "\n",
    "predicted_logistic = log_model.predict(TEST)\n",
    "print(f'Predicted for logistic regression: {predicted_logistic}')\n",
    "print(f'logistic accuracy is {logistic_accuracy}')\n",
    "\n",
    "k_predicted = kn_model.predict(TEST)\n",
    "print( (f'Predicted for K-nearest neigbours: {k_predicted}'))\n",
    "print(f'K nearest accuracy is {kn_accuracy}')\n",
    "\n",
    "boosted_tree = model_boost.predict(TEST)\n",
    "print(f'Predicted for boosted tree: {boosted_tree}')\n",
    "print(f'Gradient boosted tree accuracy is {boosted_tree_accuracy}')\n",
    "\n",
    "\n",
    "neural_network = clf.predict(TEST)\n",
    "print(f'Neural network predicts {neural_network}')\n",
    "print(f'Neural accuracy {neural_accuracy}')\n"
   ]
  }
 ],
 "metadata": {
  "kernelspec": {
   "display_name": "Python 3 (ipykernel)",
   "language": "python",
   "name": "python3"
  },
  "language_info": {
   "codemirror_mode": {
    "name": "ipython",
    "version": 3
   },
   "file_extension": ".py",
   "mimetype": "text/x-python",
   "name": "python",
   "nbconvert_exporter": "python",
   "pygments_lexer": "ipython3",
   "version": "3.9.5"
  }
 },
 "nbformat": 4,
 "nbformat_minor": 1
}