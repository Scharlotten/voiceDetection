{
 "cells": [
  {
   "cell_type": "markdown",
   "source": [
    "# Gender and age recognition from files"
   ],
   "metadata": {
    "collapsed": false
   }
  },
  {
   "cell_type": "markdown",
   "source": [
    "## Data\n",
    "The data we work with is called \"common voice data\", first we will look at the CSV file containing information about\n",
    "the voice files + some basic attributes, upvotes downvotes (we will not need this) gender and age."
   ],
   "metadata": {
    "collapsed": false,
    "pycharm": {
     "name": "#%% md\n"
    }
   }
  },
  {
   "cell_type": "markdown",
   "source": [
    "## Importing the data"
   ],
   "metadata": {
    "collapsed": false,
    "pycharm": {
     "name": "#%% md\n"
    }
   }
  },
  {
   "cell_type": "code",
   "execution_count": null,
   "outputs": [],
   "source": [
    "# import the required packages\n",
    "import pandas as pd\n",
    "df = pd.read_csv(\"cv-valid-train.csv\")"
   ],
   "metadata": {
    "collapsed": false,
    "pycharm": {
     "name": "#%%\n",
     "is_executing": true
    }
   }
  },
  {
   "cell_type": "markdown",
   "source": [
    "## Preprocessing data\n",
    "As we can see there are a number of empty columns, we won't be able to detect the gender without the source information\n",
    "therefore where the gender column is missing the data will be dropped."
   ],
   "metadata": {
    "collapsed": false,
    "pycharm": {
     "name": "#%% md\n"
    }
   }
  },
  {
   "cell_type": "code",
   "execution_count": 168,
   "outputs": [
    {
     "name": "stdout",
     "output_type": "stream",
     "text": [
      "This is the length of the dataframe 195776\n",
      "This is the length of of rows where both columns are null 74361\n",
      "This is the sum of the two should be the length of the df 195776\n"
     ]
    },
    {
     "data": {
      "text/plain": "        index                          filename  \\\n0           5  cv-valid-train/sample-000005.mp3   \n1           8  cv-valid-train/sample-000008.mp3   \n2          13  cv-valid-train/sample-000013.mp3   \n3          14  cv-valid-train/sample-000014.mp3   \n4          19  cv-valid-train/sample-000019.mp3   \n...       ...                               ...   \n74356  195766  cv-valid-train/sample-195766.mp3   \n74357  195767  cv-valid-train/sample-195767.mp3   \n74358  195770  cv-valid-train/sample-195770.mp3   \n74359  195771  cv-valid-train/sample-195771.mp3   \n74360  195774  cv-valid-train/sample-195774.mp3   \n\n                                                    text  up_votes  \\\n0      a shepherd may like to travel but he should ne...         1   \n1                          put jackie right on the staff         3   \n2      but he had found a guide and didn't want to mi...         1   \n3      as they began to decorate the hallway a silhou...         1   \n4       then they got ahold of some dough and went goofy         1   \n...                                                  ...       ...   \n74356  but before i go i want to tell you a little story         1   \n74357  down below in the darkness were hundreds of pe...         3   \n74358  he heard a muffled grating sound and saw the b...         4   \n74359                        the englishman said nothing         1   \n74360                 the phone rang while she was awake         2   \n\n       down_votes        age  gender     accent  duration  \n0               0   twenties  female         us       NaN  \n1               0  seventies    male         us       NaN  \n2               0   thirties  female         us       NaN  \n3               0    sixties    male    england       NaN  \n4               0    fifties    male  australia       NaN  \n...           ...        ...     ...        ...       ...  \n74356           0   fourties    male    england       NaN  \n74357           0   thirties  female         us       NaN  \n74358           0   twenties    male    england       NaN  \n74359           0   thirties    male    england       NaN  \n74360           0   twenties    male         us       NaN  \n\n[74361 rows x 9 columns]",
      "text/html": "<div>\n<style scoped>\n    .dataframe tbody tr th:only-of-type {\n        vertical-align: middle;\n    }\n\n    .dataframe tbody tr th {\n        vertical-align: top;\n    }\n\n    .dataframe thead th {\n        text-align: right;\n    }\n</style>\n<table border=\"1\" class=\"dataframe\">\n  <thead>\n    <tr style=\"text-align: right;\">\n      <th></th>\n      <th>index</th>\n      <th>filename</th>\n      <th>text</th>\n      <th>up_votes</th>\n      <th>down_votes</th>\n      <th>age</th>\n      <th>gender</th>\n      <th>accent</th>\n      <th>duration</th>\n    </tr>\n  </thead>\n  <tbody>\n    <tr>\n      <th>0</th>\n      <td>5</td>\n      <td>cv-valid-train/sample-000005.mp3</td>\n      <td>a shepherd may like to travel but he should ne...</td>\n      <td>1</td>\n      <td>0</td>\n      <td>twenties</td>\n      <td>female</td>\n      <td>us</td>\n      <td>NaN</td>\n    </tr>\n    <tr>\n      <th>1</th>\n      <td>8</td>\n      <td>cv-valid-train/sample-000008.mp3</td>\n      <td>put jackie right on the staff</td>\n      <td>3</td>\n      <td>0</td>\n      <td>seventies</td>\n      <td>male</td>\n      <td>us</td>\n      <td>NaN</td>\n    </tr>\n    <tr>\n      <th>2</th>\n      <td>13</td>\n      <td>cv-valid-train/sample-000013.mp3</td>\n      <td>but he had found a guide and didn't want to mi...</td>\n      <td>1</td>\n      <td>0</td>\n      <td>thirties</td>\n      <td>female</td>\n      <td>us</td>\n      <td>NaN</td>\n    </tr>\n    <tr>\n      <th>3</th>\n      <td>14</td>\n      <td>cv-valid-train/sample-000014.mp3</td>\n      <td>as they began to decorate the hallway a silhou...</td>\n      <td>1</td>\n      <td>0</td>\n      <td>sixties</td>\n      <td>male</td>\n      <td>england</td>\n      <td>NaN</td>\n    </tr>\n    <tr>\n      <th>4</th>\n      <td>19</td>\n      <td>cv-valid-train/sample-000019.mp3</td>\n      <td>then they got ahold of some dough and went goofy</td>\n      <td>1</td>\n      <td>0</td>\n      <td>fifties</td>\n      <td>male</td>\n      <td>australia</td>\n      <td>NaN</td>\n    </tr>\n    <tr>\n      <th>...</th>\n      <td>...</td>\n      <td>...</td>\n      <td>...</td>\n      <td>...</td>\n      <td>...</td>\n      <td>...</td>\n      <td>...</td>\n      <td>...</td>\n      <td>...</td>\n    </tr>\n    <tr>\n      <th>74356</th>\n      <td>195766</td>\n      <td>cv-valid-train/sample-195766.mp3</td>\n      <td>but before i go i want to tell you a little story</td>\n      <td>1</td>\n      <td>0</td>\n      <td>fourties</td>\n      <td>male</td>\n      <td>england</td>\n      <td>NaN</td>\n    </tr>\n    <tr>\n      <th>74357</th>\n      <td>195767</td>\n      <td>cv-valid-train/sample-195767.mp3</td>\n      <td>down below in the darkness were hundreds of pe...</td>\n      <td>3</td>\n      <td>0</td>\n      <td>thirties</td>\n      <td>female</td>\n      <td>us</td>\n      <td>NaN</td>\n    </tr>\n    <tr>\n      <th>74358</th>\n      <td>195770</td>\n      <td>cv-valid-train/sample-195770.mp3</td>\n      <td>he heard a muffled grating sound and saw the b...</td>\n      <td>4</td>\n      <td>0</td>\n      <td>twenties</td>\n      <td>male</td>\n      <td>england</td>\n      <td>NaN</td>\n    </tr>\n    <tr>\n      <th>74359</th>\n      <td>195771</td>\n      <td>cv-valid-train/sample-195771.mp3</td>\n      <td>the englishman said nothing</td>\n      <td>1</td>\n      <td>0</td>\n      <td>thirties</td>\n      <td>male</td>\n      <td>england</td>\n      <td>NaN</td>\n    </tr>\n    <tr>\n      <th>74360</th>\n      <td>195774</td>\n      <td>cv-valid-train/sample-195774.mp3</td>\n      <td>the phone rang while she was awake</td>\n      <td>2</td>\n      <td>0</td>\n      <td>twenties</td>\n      <td>male</td>\n      <td>us</td>\n      <td>NaN</td>\n    </tr>\n  </tbody>\n</table>\n<p>74361 rows × 9 columns</p>\n</div>"
     },
     "execution_count": 168,
     "metadata": {},
     "output_type": "execute_result"
    }
   ],
   "source": [
    "#Identify where gender and age are missing\n",
    "print(f'This is the length of the dataframe {len(df)}')\n",
    "null_num = len(df.loc[(pd.isnull(df.gender) & pd.isnull(df.age))])\n",
    "not_null = len(df.loc[~(pd.isnull(df.gender) & pd.isnull(df.age))])\n",
    "print(f'This is the length of of rows where both columns are null {not_null}')\n",
    "print(f'This is the sum of the two should be the length of the df {not_null+null_num}')\n",
    "# this is just to make sure we negated the the df.gender and df.age not null correctly\n",
    "valid_df = df.loc[~(pd.isnull(df.gender) & pd.isnull(df.age))]\n",
    "valid_df.reset_index(inplace=True)\n",
    "valid_df"
   ],
   "metadata": {
    "collapsed": false,
    "pycharm": {
     "name": "#%%\n"
    }
   }
  },
  {
   "cell_type": "markdown",
   "source": [
    "Now in a variable we stored valid_df which doesn't contain any missing data, now it is time to collect information on\n",
    "the voice dataset"
   ],
   "metadata": {
    "collapsed": false,
    "pycharm": {
     "name": "#%% md\n"
    }
   }
  },
  {
   "cell_type": "markdown",
   "source": [
    "# The voice dataset & Feature extraction\n",
    "Saved in mp3 format we will use a package called librosa to look at the data.\n",
    "There are a number of complex features that we can extract from the data\n",
    "\n",
    "* **Spectral centroid** - this takes samples of the recordings using Fourier Transform\n",
    "the transformation decomposes the waveform of a musical chord into terms of the intensity of its constituent pitches.\n",
    "The easy way to understand this variable is to imagine a weighted average on the audio file depending on the intensity of high\n",
    "vs low pitches. This will play a key role in detecting whether this is a male or female.\n",
    "* **Spectral Bandwidth** is the difference between the upper and lower frequencies in a continuous band of frequencies.\n",
    "As we know the signals oscillate about a point so if the point is the centroid of the signal then the sum of\n",
    "maximum deviation of the signal on both sides of the point can be considered as the bandwidth of the signal\n",
    "at that time frame\n",
    "* **Spectral roll-off** It can be defined as the action of a specific type of\n",
    "filter which is designed to roll off the frequencies outside to a specific range. The reason we call\n",
    "it roll-off is because it is a gradual procedure.\n",
    "There can be two kinds of filters: hi-pass and low pass and both can roll off the frequency from a signal\n",
    "going outside of their range.\n",
    "* **Tonnetz** ?\n",
    "* **MFCC**\n",
    "## TO DO\n",
    "?? let's see if there is more to add to this and also to clarify these\n"
   ],
   "metadata": {
    "collapsed": false,
    "pycharm": {
     "name": "#%% md\n"
    }
   }
  },
  {
   "cell_type": "code",
   "execution_count": 169,
   "outputs": [],
   "source": [
    "# Writing a function its sole purpose will be to read in an audio file and extract the features mentioned above\n",
    "import librosa\n",
    "import os\n",
    "import errno\n",
    "import numpy as np"
   ],
   "metadata": {
    "collapsed": false,
    "pycharm": {
     "name": "#%%\n"
    }
   }
  },
  {
   "cell_type": "code",
   "execution_count": 170,
   "outputs": [],
   "source": [
    "def import_mp3file(path:str, file_name:str, spectral_centroid:bool=True, spectral_bandwidth:bool=True,\n",
    "                   spectral_roll_off:bool=True, MFCC:bool=True) -> dict:\n",
    "    \"\"\"\n",
    "    :param path: path to the file\n",
    "    :param file_name: name of the file\n",
    "    :param spectral_centroid: if true spectral centroid is in the output\n",
    "    :param spectral_bandwidth: if true spectral bandwidth is in the output\n",
    "    :param spectral_roll_off: if true roll_off is in the output\n",
    "    :param MFCC: if true MFCC values are in the output\n",
    "    :return: filename + dictionary with feature set\n",
    "    \"\"\"\n",
    "    if os.path.isfile(os.path.join(path, file_name)):\n",
    "        audio, _ = librosa.load(os.path.join(path, file_name))\n",
    "        output = dict()\n",
    "        output['filename'] = file_name\n",
    "        if spectral_centroid:\n",
    "            spectral_centroid_value = np.mean(librosa.feature.spectral_centroid(y=audio))\n",
    "            output[\"spectral_centroid\"] = spectral_centroid_value\n",
    "        if spectral_bandwidth:\n",
    "            spectral_bandwidth_value = np.mean(librosa.feature.spectral_bandwidth(y=audio))\n",
    "            output[\"spectral_bandwidth\"] = spectral_bandwidth_value\n",
    "        if spectral_roll_off:\n",
    "            spectral_roll_off_value = np.mean(librosa.feature.spectral_rolloff(y=audio))\n",
    "            output[\"spectral_rolloff\"] = spectral_roll_off_value\n",
    "        if MFCC:\n",
    "            MFCC_values = librosa.feature.mfcc(y=audio)\n",
    "            for i, element in enumerate(MFCC_values):\n",
    "                output[f'MFCC_{i}'] = np.mean(element)\n",
    "        return output\n",
    "\n",
    "    else:\n",
    "        raise FileNotFoundError(errno.ENOENT, os.strerror(errno.ENOENT), os.path.join(path,file_name))\n"
   ],
   "metadata": {
    "collapsed": false,
    "pycharm": {
     "name": "#%%\n"
    }
   }
  },
  {
   "cell_type": "code",
   "execution_count": 171,
   "outputs": [
    {
     "name": "stderr",
     "output_type": "stream",
     "text": [
      "c:\\users\\asemjen\\appdata\\local\\programs\\python\\python39\\lib\\site-packages\\librosa\\util\\decorators.py:88: UserWarning: PySoundFile failed. Trying audioread instead.\n",
      "  return f(*args, **kwargs)\n"
     ]
    },
    {
     "name": "stdout",
     "output_type": "stream",
     "text": [
      "{'filename': 'cv-valid-train/sample-000008.mp3', 'spectral_centroid': 2352.7475565141926, 'spectral_bandwidth': 1854.9463106224644, 'spectral_rolloff': 3968.712890625, 'MFCC_0': -415.57288, 'MFCC_1': 99.58028, 'MFCC_2': -27.460777, 'MFCC_3': 10.333393, 'MFCC_4': 7.2848096, 'MFCC_5': 0.9885974, 'MFCC_6': -22.434021, 'MFCC_7': -21.395174, 'MFCC_8': -16.391228, 'MFCC_9': -7.847973, 'MFCC_10': 0.43195435, 'MFCC_11': 5.885935, 'MFCC_12': -7.2544622, 'MFCC_13': -3.529506, 'MFCC_14': -13.423277, 'MFCC_15': -1.1738807, 'MFCC_16': -7.1814423, 'MFCC_17': 5.562098, 'MFCC_18': -6.6943316, 'MFCC_19': -1.178298}\n"
     ]
    }
   ],
   "source": [
    "#Testing the function - for the errors there is no test for now\n",
    "path = \"./cv-valid-train/\"\n",
    "file_name = valid_df.filename.iloc[1]\n",
    "test_dict = import_mp3file(path, file_name)\n",
    "print(test_dict)\n"
   ],
   "metadata": {
    "collapsed": false,
    "pycharm": {
     "name": "#%%\n"
    }
   }
  },
  {
   "cell_type": "code",
   "execution_count": 172,
   "outputs": [
    {
     "data": {
      "text/plain": "array([[4460.22175571, 4175.59117068, 3884.60612779, 3374.71829314,\n        1144.64655545, 1092.94004371, 1225.65807209, 1266.59594119,\n        1232.85026572, 2744.17641222, 4105.00095856, 3749.85456925,\n        2332.4429962 , 1651.9227578 , 1553.81723776, 1566.04631018,\n        1544.57575462, 1525.91524213, 1576.66014615, 1929.20321356,\n        2672.19538181, 2476.3592423 , 1755.23655177, 1611.70976292,\n        1461.32540332, 1352.79000052, 1454.62261381, 1340.39012086,\n         992.77723306, 1032.26490225, 1148.66817526, 1296.14941814,\n        1427.50061457, 1517.80837736, 1472.37735089, 1393.89724893,\n        1313.14088119, 1256.17061522, 1163.08342939, 1063.48420999,\n         999.93926298, 1031.49493118, 1117.12346428, 1254.74466627,\n        1398.78795777, 1528.87036282, 1578.40015717, 1771.66304659,\n        3543.62932697, 4743.56534655, 5102.61070267, 5170.89100393,\n        5356.37322273, 5557.71014968, 5510.2354996 , 2655.50800088,\n        1599.98330424, 1449.93721998, 1466.37987571, 1411.23755945,\n        1422.19414607, 1619.24419851, 1762.79126197, 1785.24080205,\n        1896.21624887, 2082.06457133, 2359.19393764, 3520.59995465,\n        4449.38758826, 4668.31527028, 4622.35648383, 4263.58318073,\n        4158.0293405 , 4173.74573228, 4084.62360269]])"
     },
     "execution_count": 172,
     "metadata": {},
     "output_type": "execute_result"
    },
    {
     "data": {
      "text/plain": "<Figure size 1600x1120 with 0 Axes>"
     },
     "metadata": {},
     "output_type": "display_data"
    },
    {
     "data": {
      "text/plain": "<Figure size 432x288 with 1 Axes>",
      "image/png": "[encoded data removed]"
     },
     "metadata": {
      "needs_background": "light"
     },
     "output_type": "display_data"
    }
   ],
   "source": [
    "# This is just here to play around with the central spectroid data, see the frequency bins and the averages over time\n",
    "import matplotlib.pyplot as plt\n",
    "import librosa.display\n",
    "\n",
    "\n",
    "audio, _ = librosa.load(os.path.join(path, file_name))\n",
    "x = librosa.feature.spectral_centroid(y=audio, win_length=2048*1, n_fft=2048*1)\n",
    "S, phase = librosa.magphase(librosa.stft(y=audio))\n",
    "plt.figure(figsize=(20, 14), dpi=80)\n",
    "times = librosa.times_like(x)\n",
    "fig, ax = plt.subplots()\n",
    "librosa.display.specshow(librosa.amplitude_to_db(S, ref=np.max),\n",
    "                         y_axis='log', x_axis='time', ax=ax)\n",
    "ax.plot(times, x.T, label='Spectral centroid', color='w')\n",
    "ax.legend(loc='upper right')\n",
    "ax.set(title='log Power spectrogram')\n",
    "\n",
    "librosa.feature.spectral_centroid(S=S)\n"
   ],
   "metadata": {
    "collapsed": false,
    "pycharm": {
     "name": "#%%\n"
    }
   }
  },
  {
   "cell_type": "markdown",
   "source": [
    "## Finally let's build a dataset with the extracted features\n",
    "\n"
   ],
   "metadata": {
    "collapsed": false,
    "pycharm": {
     "name": "#%% md\n"
    }
   }
  },
  {
   "cell_type": "code",
   "execution_count": 173,
   "outputs": [],
   "source": [
    "# Unfortunately it takes sime to extract these values therefore instead of running it for the whole dataset let's export\n",
    "# a few records - and to make sure it is a balanced dataset\n",
    "# if the file has already been extracted\n",
    "if not os.path.isfile(\"./cleaned_training_data.csv\"):\n",
    "    print(valid_df.loc[valid_df.gender==\"female\"].groupby(\"age\").count())\n",
    "    # There is very few data from eighties and a lot more from younger ppl, let's try to grab 200 records from each category\n",
    "    unique_ages = list(valid_df.age.unique())\n",
    "    unique_ages.remove(np.nan)\n",
    "    print(f'unique ages: {unique_ages}')\n",
    "\n",
    "    sampled_df = pd.DataFrame()\n",
    "    for age_group in unique_ages:\n",
    "       temp_df = pd.DataFrame()\n",
    "       temp_df = valid_df.loc[(valid_df.gender==\"female\") & (valid_df.age==age_group)].copy()\n",
    "       sampled_df = sampled_df.append(temp_df[:400])\n",
    "\n",
    "    for age_group in unique_ages:\n",
    "       temp_df = pd.DataFrame()\n",
    "       temp_df = valid_df.loc[(valid_df.gender==\"male\") & (valid_df.age==age_group)].copy()\n",
    "       sampled_df = sampled_df.append(temp_df[:400])\n",
    "\n",
    "    sampled_df.to_csv(\"cleaned_training_data.csv\", index=False)\n",
    "\n",
    "else:\n",
    "    sampled_df = pd.read_csv(\"./cleaned_training_data.csv\")"
   ],
   "metadata": {
    "collapsed": false,
    "pycharm": {
     "name": "#%%\n"
    }
   }
  },
  {
   "cell_type": "code",
   "execution_count": 174,
   "outputs": [
    {
     "data": {
      "text/plain": "       index                          filename  \\\n0          5  cv-valid-train/sample-000005.mp3   \n1         26  cv-valid-train/sample-000026.mp3   \n2         59  cv-valid-train/sample-000059.mp3   \n3        101  cv-valid-train/sample-000101.mp3   \n4        155  cv-valid-train/sample-000155.mp3   \n...      ...                               ...   \n5564  191708  cv-valid-train/sample-191708.mp3   \n5565  191778  cv-valid-train/sample-191778.mp3   \n5566  192279  cv-valid-train/sample-192279.mp3   \n5567  193063  cv-valid-train/sample-193063.mp3   \n5568  195455  cv-valid-train/sample-195455.mp3   \n\n                                                   text  up_votes  down_votes  \\\n0     a shepherd may like to travel but he should ne...         1           0   \n1     two years ago right here on this spot i had a ...         4           0   \n2     finally a young woman approached who was not d...         3           0   \n3             the fumes from the traffic was unbearable         2           0   \n4                      let him have everything he wants         1           0   \n...                                                 ...       ...         ...   \n5564                  wait till martha hears about this         2           0   \n5565                           you know where she lives         1           0   \n5566  picking up where he left off she finished the ...         1           0   \n5567       the congestion was heavy throughout the city         1           0   \n5568      this box of markers has many different colors         1           0   \n\n           age  gender     accent  duration  \n0     twenties  female         us       NaN  \n1     twenties  female  australia       NaN  \n2     twenties  female         us       NaN  \n3     twenties  female        NaN       NaN  \n4     twenties  female    england       NaN  \n...        ...     ...        ...       ...  \n5564  eighties    male  australia       NaN  \n5565  eighties    male  australia       NaN  \n5566  eighties    male  australia       NaN  \n5567  eighties    male         us       NaN  \n5568  eighties    male         us       NaN  \n\n[5569 rows x 9 columns]",
      "text/html": "<div>\n<style scoped>\n    .dataframe tbody tr th:only-of-type {\n        vertical-align: middle;\n    }\n\n    .dataframe tbody tr th {\n        vertical-align: top;\n    }\n\n    .dataframe thead th {\n        text-align: right;\n    }\n</style>\n<table border=\"1\" class=\"dataframe\">\n  <thead>\n    <tr style=\"text-align: right;\">\n      <th></th>\n      <th>index</th>\n      <th>filename</th>\n      <th>text</th>\n      <th>up_votes</th>\n      <th>down_votes</th>\n      <th>age</th>\n      <th>gender</th>\n      <th>accent</th>\n      <th>duration</th>\n    </tr>\n  </thead>\n  <tbody>\n    <tr>\n      <th>0</th>\n      <td>5</td>\n      <td>cv-valid-train/sample-000005.mp3</td>\n      <td>a shepherd may like to travel but he should ne...</td>\n      <td>1</td>\n      <td>0</td>\n      <td>twenties</td>\n      <td>female</td>\n      <td>us</td>\n      <td>NaN</td>\n    </tr>\n    <tr>\n      <th>1</th>\n      <td>26</td>\n      <td>cv-valid-train/sample-000026.mp3</td>\n      <td>two years ago right here on this spot i had a ...</td>\n      <td>4</td>\n      <td>0</td>\n      <td>twenties</td>\n      <td>female</td>\n      <td>australia</td>\n      <td>NaN</td>\n    </tr>\n    <tr>\n      <th>2</th>\n      <td>59</td>\n      <td>cv-valid-train/sample-000059.mp3</td>\n      <td>finally a young woman approached who was not d...</td>\n      <td>3</td>\n      <td>0</td>\n      <td>twenties</td>\n      <td>female</td>\n      <td>us</td>\n      <td>NaN</td>\n    </tr>\n    <tr>\n      <th>3</th>\n      <td>101</td>\n      <td>cv-valid-train/sample-000101.mp3</td>\n      <td>the fumes from the traffic was unbearable</td>\n      <td>2</td>\n      <td>0</td>\n      <td>twenties</td>\n      <td>female</td>\n      <td>NaN</td>\n      <td>NaN</td>\n    </tr>\n    <tr>\n      <th>4</th>\n      <td>155</td>\n      <td>cv-valid-train/sample-000155.mp3</td>\n      <td>let him have everything he wants</td>\n      <td>1</td>\n      <td>0</td>\n      <td>twenties</td>\n      <td>female</td>\n      <td>england</td>\n      <td>NaN</td>\n    </tr>\n    <tr>\n      <th>...</th>\n      <td>...</td>\n      <td>...</td>\n      <td>...</td>\n      <td>...</td>\n      <td>...</td>\n      <td>...</td>\n      <td>...</td>\n      <td>...</td>\n      <td>...</td>\n    </tr>\n    <tr>\n      <th>5564</th>\n      <td>191708</td>\n      <td>cv-valid-train/sample-191708.mp3</td>\n      <td>wait till martha hears about this</td>\n      <td>2</td>\n      <td>0</td>\n      <td>eighties</td>\n      <td>male</td>\n      <td>australia</td>\n      <td>NaN</td>\n    </tr>\n    <tr>\n      <th>5565</th>\n      <td>191778</td>\n      <td>cv-valid-train/sample-191778.mp3</td>\n      <td>you know where she lives</td>\n      <td>1</td>\n      <td>0</td>\n      <td>eighties</td>\n      <td>male</td>\n      <td>australia</td>\n      <td>NaN</td>\n    </tr>\n    <tr>\n      <th>5566</th>\n      <td>192279</td>\n      <td>cv-valid-train/sample-192279.mp3</td>\n      <td>picking up where he left off she finished the ...</td>\n      <td>1</td>\n      <td>0</td>\n      <td>eighties</td>\n      <td>male</td>\n      <td>australia</td>\n      <td>NaN</td>\n    </tr>\n    <tr>\n      <th>5567</th>\n      <td>193063</td>\n      <td>cv-valid-train/sample-193063.mp3</td>\n      <td>the congestion was heavy throughout the city</td>\n      <td>1</td>\n      <td>0</td>\n      <td>eighties</td>\n      <td>male</td>\n      <td>us</td>\n      <td>NaN</td>\n    </tr>\n    <tr>\n      <th>5568</th>\n      <td>195455</td>\n      <td>cv-valid-train/sample-195455.mp3</td>\n      <td>this box of markers has many different colors</td>\n      <td>1</td>\n      <td>0</td>\n      <td>eighties</td>\n      <td>male</td>\n      <td>us</td>\n      <td>NaN</td>\n    </tr>\n  </tbody>\n</table>\n<p>5569 rows × 9 columns</p>\n</div>"
     },
     "execution_count": 174,
     "metadata": {},
     "output_type": "execute_result"
    }
   ],
   "source": [
    "sampled_df"
   ],
   "metadata": {
    "collapsed": false,
    "pycharm": {
     "name": "#%%\n"
    }
   }
  },
  {
   "cell_type": "code",
   "execution_count": 175,
   "outputs": [],
   "source": [
    "# if the training set has already been generated don't run this again - anyways this takes a pretty long time to extract\n",
    "if not os.path.isfile(\"./recording_features.csv\"):\n",
    "    files = sampled_df.filename.to_list()\n",
    "    features = []\n",
    "    for i, filename in enumerate(files):\n",
    "        recording_feature = import_mp3file(path, filename)\n",
    "        features.append(recording_feature)\n",
    "        if i % 100 == 0:\n",
    "            print(f'Processed {i} records')\n",
    "\n",
    "    final = pd.DataFrame(features)\n",
    "    final.to_csv(\"recording_features.csv\")\n",
    "else:\n",
    "    final = pd.read_csv(\"recording_features.csv\")"
   ],
   "metadata": {
    "collapsed": false,
    "pycharm": {
     "name": "#%%\n"
    }
   }
  },
  {
   "cell_type": "markdown",
   "source": [
    "## Joining the two dataframes and standardizing the data\n"
   ],
   "metadata": {
    "collapsed": false,
    "pycharm": {
     "name": "#%% md\n"
    }
   }
  },
  {
   "cell_type": "code",
   "execution_count": 176,
   "outputs": [],
   "source": [
    "#time to remove columns we don't need\n",
    "sampled_df = sampled_df.drop(columns=[\"up_votes\", \"down_votes\", \"duration\", \"accent\", \"index\",\"text\"])"
   ],
   "metadata": {
    "collapsed": false,
    "pycharm": {
     "name": "#%%\n"
    }
   }
  },
  {
   "cell_type": "code",
   "execution_count": 177,
   "outputs": [
    {
     "data": {
      "text/plain": "                              filename       age  gender  Unnamed: 0  \\\n0     cv-valid-train/sample-000005.mp3  twenties  female           0   \n1     cv-valid-train/sample-000026.mp3  twenties  female           1   \n2     cv-valid-train/sample-000059.mp3  twenties  female           2   \n3     cv-valid-train/sample-000101.mp3  twenties  female           3   \n4     cv-valid-train/sample-000155.mp3  twenties  female           4   \n...                                ...       ...     ...         ...   \n5564  cv-valid-train/sample-191708.mp3  eighties    male        5564   \n5565  cv-valid-train/sample-191778.mp3  eighties    male        5565   \n5566  cv-valid-train/sample-192279.mp3  eighties    male        5566   \n5567  cv-valid-train/sample-193063.mp3  eighties    male        5567   \n5568  cv-valid-train/sample-195455.mp3  eighties    male        5568   \n\n      spectral_centroid  spectral_bandwidth  spectral_rolloff     MFCC_0  \\\n0           1826.676487         1881.513079       3860.168457 -576.31537   \n1           2616.617405         2179.803059       4761.842524 -228.24037   \n2           2631.967942         2044.362034       4626.430442 -356.87674   \n3           2102.693066         1761.210243       3696.558838 -620.41430   \n4           2238.837714         2250.816026       4440.932155 -383.86890   \n...                 ...                 ...               ...        ...   \n5564        2803.638060         2400.511082       5323.456971 -269.25998   \n5565        3061.619889         2465.107380       5817.553711 -282.46838   \n5566        2557.236116         2303.468228       4938.077337 -249.21484   \n5567        2926.217222         1967.799889       5121.836600 -410.20438   \n5568        2231.943116         1555.420706       3850.383821 -252.50160   \n\n          MFCC_1     MFCC_2  ...    MFCC_10    MFCC_11   MFCC_12    MFCC_13  \\\n0      86.375450  11.824992  ... -14.482080 -13.578614 -6.720922  -6.186287   \n1      82.801940  -8.383657  ...  -4.622561  -2.331251 -6.204039   3.251125   \n2      68.245125 -10.347807  ...  -7.054412  -6.034971 -8.058039 -13.018083   \n3      95.137270  -1.270926  ... -14.900973 -17.381930 -8.984969  -7.450493   \n4     111.190480   9.153431  ... -11.278584  -4.409180 -8.951644  -4.352331   \n...          ...        ...  ...        ...        ...       ...        ...   \n5564   82.796640  12.752720  ...  -6.123298   1.858352 -5.315768   1.561501   \n5565   66.788050   6.144638  ...  -7.412391  -2.310144 -4.216847   1.398168   \n5566   84.716560  12.915024  ...  -6.736383   1.836847 -7.842829   3.800439   \n5567   45.573013 -13.197499  ...  -8.259255  -8.094961 -0.630357  -6.007700   \n5568   90.113686 -27.081675  ... -11.529501  -9.987272 -4.312279  -9.227780   \n\n        MFCC_14    MFCC_15    MFCC_16    MFCC_17    MFCC_18    MFCC_19  \n0     -4.839533  -9.007957  -3.113982  -1.743871  -9.447196  -8.065145  \n1    -17.747442  -0.515065 -10.605970  -8.131491  -8.427092   3.234301  \n2    -11.938355   3.690609  -8.656282   2.081685  -1.077340 -10.969205  \n3     -7.771703  -7.896185  -9.588766 -11.281025  -8.105808  -1.190835  \n4    -16.304008  -1.139749  -7.554811  -5.609372 -11.100672   0.755369  \n...         ...        ...        ...        ...        ...        ...  \n5564  -6.472857   6.164400  -7.462326   4.084486  -4.659536  -1.608125  \n5565  -3.506517   3.998086  -7.521872   3.641059  -1.560491  -2.203190  \n5566  -4.652071   3.492043  -6.001388   2.983396  -6.588633  -3.076507  \n5567  -1.901966  -5.949671  -1.648061  -4.496528  -3.694202  -0.237607  \n5568  -0.344003 -10.605398  -3.310086  -7.854195  -0.910406  -1.824544  \n\n[5569 rows x 27 columns]",
      "text/html": "<div>\n<style scoped>\n    .dataframe tbody tr th:only-of-type {\n        vertical-align: middle;\n    }\n\n    .dataframe tbody tr th {\n        vertical-align: top;\n    }\n\n    .dataframe thead th {\n        text-align: right;\n    }\n</style>\n<table border=\"1\" class=\"dataframe\">\n  <thead>\n    <tr style=\"text-align: right;\">\n      <th></th>\n      <th>filename</th>\n      <th>age</th>\n      <th>gender</th>\n      <th>Unnamed: 0</th>\n      <th>spectral_centroid</th>\n      <th>spectral_bandwidth</th>\n      <th>spectral_rolloff</th>\n      <th>MFCC_0</th>\n      <th>MFCC_1</th>\n      <th>MFCC_2</th>\n      <th>...</th>\n      <th>MFCC_10</th>\n      <th>MFCC_11</th>\n      <th>MFCC_12</th>\n      <th>MFCC_13</th>\n      <th>MFCC_14</th>\n      <th>MFCC_15</th>\n      <th>MFCC_16</th>\n      <th>MFCC_17</th>\n      <th>MFCC_18</th>\n      <th>MFCC_19</th>\n    </tr>\n  </thead>\n  <tbody>\n    <tr>\n      <th>0</th>\n      <td>cv-valid-train/sample-000005.mp3</td>\n      <td>twenties</td>\n      <td>female</td>\n      <td>0</td>\n      <td>1826.676487</td>\n      <td>1881.513079</td>\n      <td>3860.168457</td>\n      <td>-576.31537</td>\n      <td>86.375450</td>\n      <td>11.824992</td>\n      <td>...</td>\n      <td>-14.482080</td>\n      <td>-13.578614</td>\n      <td>-6.720922</td>\n      <td>-6.186287</td>\n      <td>-4.839533</td>\n      <td>-9.007957</td>\n      <td>-3.113982</td>\n      <td>-1.743871</td>\n      <td>-9.447196</td>\n      <td>-8.065145</td>\n    </tr>\n    <tr>\n      <th>1</th>\n      <td>cv-valid-train/sample-000026.mp3</td>\n      <td>twenties</td>\n      <td>female</td>\n      <td>1</td>\n      <td>2616.617405</td>\n      <td>2179.803059</td>\n      <td>4761.842524</td>\n      <td>-228.24037</td>\n      <td>82.801940</td>\n      <td>-8.383657</td>\n      <td>...</td>\n      <td>-4.622561</td>\n      <td>-2.331251</td>\n      <td>-6.204039</td>\n      <td>3.251125</td>\n      <td>-17.747442</td>\n      <td>-0.515065</td>\n      <td>-10.605970</td>\n      <td>-8.131491</td>\n      <td>-8.427092</td>\n      <td>3.234301</td>\n    </tr>\n    <tr>\n      <th>2</th>\n      <td>cv-valid-train/sample-000059.mp3</td>\n      <td>twenties</td>\n      <td>female</td>\n      <td>2</td>\n      <td>2631.967942</td>\n      <td>2044.362034</td>\n      <td>4626.430442</td>\n      <td>-356.87674</td>\n      <td>68.245125</td>\n      <td>-10.347807</td>\n      <td>...</td>\n      <td>-7.054412</td>\n      <td>-6.034971</td>\n      <td>-8.058039</td>\n      <td>-13.018083</td>\n      <td>-11.938355</td>\n      <td>3.690609</td>\n      <td>-8.656282</td>\n      <td>2.081685</td>\n      <td>-1.077340</td>\n      <td>-10.969205</td>\n    </tr>\n    <tr>\n      <th>3</th>\n      <td>cv-valid-train/sample-000101.mp3</td>\n      <td>twenties</td>\n      <td>female</td>\n      <td>3</td>\n      <td>2102.693066</td>\n      <td>1761.210243</td>\n      <td>3696.558838</td>\n      <td>-620.41430</td>\n      <td>95.137270</td>\n      <td>-1.270926</td>\n      <td>...</td>\n      <td>-14.900973</td>\n      <td>-17.381930</td>\n      <td>-8.984969</td>\n      <td>-7.450493</td>\n      <td>-7.771703</td>\n      <td>-7.896185</td>\n      <td>-9.588766</td>\n      <td>-11.281025</td>\n      <td>-8.105808</td>\n      <td>-1.190835</td>\n    </tr>\n    <tr>\n      <th>4</th>\n      <td>cv-valid-train/sample-000155.mp3</td>\n      <td>twenties</td>\n      <td>female</td>\n      <td>4</td>\n      <td>2238.837714</td>\n      <td>2250.816026</td>\n      <td>4440.932155</td>\n      <td>-383.86890</td>\n      <td>111.190480</td>\n      <td>9.153431</td>\n      <td>...</td>\n      <td>-11.278584</td>\n      <td>-4.409180</td>\n      <td>-8.951644</td>\n      <td>-4.352331</td>\n      <td>-16.304008</td>\n      <td>-1.139749</td>\n      <td>-7.554811</td>\n      <td>-5.609372</td>\n      <td>-11.100672</td>\n      <td>0.755369</td>\n    </tr>\n    <tr>\n      <th>...</th>\n      <td>...</td>\n      <td>...</td>\n      <td>...</td>\n      <td>...</td>\n      <td>...</td>\n      <td>...</td>\n      <td>...</td>\n      <td>...</td>\n      <td>...</td>\n      <td>...</td>\n      <td>...</td>\n      <td>...</td>\n      <td>...</td>\n      <td>...</td>\n      <td>...</td>\n      <td>...</td>\n      <td>...</td>\n      <td>...</td>\n      <td>...</td>\n      <td>...</td>\n      <td>...</td>\n    </tr>\n    <tr>\n      <th>5564</th>\n      <td>cv-valid-train/sample-191708.mp3</td>\n      <td>eighties</td>\n      <td>male</td>\n      <td>5564</td>\n      <td>2803.638060</td>\n      <td>2400.511082</td>\n      <td>5323.456971</td>\n      <td>-269.25998</td>\n      <td>82.796640</td>\n      <td>12.752720</td>\n      <td>...</td>\n      <td>-6.123298</td>\n      <td>1.858352</td>\n      <td>-5.315768</td>\n      <td>1.561501</td>\n      <td>-6.472857</td>\n      <td>6.164400</td>\n      <td>-7.462326</td>\n      <td>4.084486</td>\n      <td>-4.659536</td>\n      <td>-1.608125</td>\n    </tr>\n    <tr>\n      <th>5565</th>\n      <td>cv-valid-train/sample-191778.mp3</td>\n      <td>eighties</td>\n      <td>male</td>\n      <td>5565</td>\n      <td>3061.619889</td>\n      <td>2465.107380</td>\n      <td>5817.553711</td>\n      <td>-282.46838</td>\n      <td>66.788050</td>\n      <td>6.144638</td>\n      <td>...</td>\n      <td>-7.412391</td>\n      <td>-2.310144</td>\n      <td>-4.216847</td>\n      <td>1.398168</td>\n      <td>-3.506517</td>\n      <td>3.998086</td>\n      <td>-7.521872</td>\n      <td>3.641059</td>\n      <td>-1.560491</td>\n      <td>-2.203190</td>\n    </tr>\n    <tr>\n      <th>5566</th>\n      <td>cv-valid-train/sample-192279.mp3</td>\n      <td>eighties</td>\n      <td>male</td>\n      <td>5566</td>\n      <td>2557.236116</td>\n      <td>2303.468228</td>\n      <td>4938.077337</td>\n      <td>-249.21484</td>\n      <td>84.716560</td>\n      <td>12.915024</td>\n      <td>...</td>\n      <td>-6.736383</td>\n      <td>1.836847</td>\n      <td>-7.842829</td>\n      <td>3.800439</td>\n      <td>-4.652071</td>\n      <td>3.492043</td>\n      <td>-6.001388</td>\n      <td>2.983396</td>\n      <td>-6.588633</td>\n      <td>-3.076507</td>\n    </tr>\n    <tr>\n      <th>5567</th>\n      <td>cv-valid-train/sample-193063.mp3</td>\n      <td>eighties</td>\n      <td>male</td>\n      <td>5567</td>\n      <td>2926.217222</td>\n      <td>1967.799889</td>\n      <td>5121.836600</td>\n      <td>-410.20438</td>\n      <td>45.573013</td>\n      <td>-13.197499</td>\n      <td>...</td>\n      <td>-8.259255</td>\n      <td>-8.094961</td>\n      <td>-0.630357</td>\n      <td>-6.007700</td>\n      <td>-1.901966</td>\n      <td>-5.949671</td>\n      <td>-1.648061</td>\n      <td>-4.496528</td>\n      <td>-3.694202</td>\n      <td>-0.237607</td>\n    </tr>\n    <tr>\n      <th>5568</th>\n      <td>cv-valid-train/sample-195455.mp3</td>\n      <td>eighties</td>\n      <td>male</td>\n      <td>5568</td>\n      <td>2231.943116</td>\n      <td>1555.420706</td>\n      <td>3850.383821</td>\n      <td>-252.50160</td>\n      <td>90.113686</td>\n      <td>-27.081675</td>\n      <td>...</td>\n      <td>-11.529501</td>\n      <td>-9.987272</td>\n      <td>-4.312279</td>\n      <td>-9.227780</td>\n      <td>-0.344003</td>\n      <td>-10.605398</td>\n      <td>-3.310086</td>\n      <td>-7.854195</td>\n      <td>-0.910406</td>\n      <td>-1.824544</td>\n    </tr>\n  </tbody>\n</table>\n<p>5569 rows × 27 columns</p>\n</div>"
     },
     "execution_count": 177,
     "metadata": {},
     "output_type": "execute_result"
    }
   ],
   "source": [
    "# merge the two dataframes so we have the outcomes labels with the data\n",
    "merged = pd.merge(sampled_df, final, on=\"filename\")\n",
    "merged"
   ],
   "metadata": {
    "collapsed": false,
    "pycharm": {
     "name": "#%%\n"
    }
   }
  },
  {
   "cell_type": "code",
   "execution_count": 178,
   "outputs": [],
   "source": [
    "# switching female and male into 0 and 1\n",
    "merged['gender_num'] = merged.gender.apply(lambda a : 1 if a==\"male\" else 0)"
   ],
   "metadata": {
    "collapsed": false,
    "pycharm": {
     "name": "#%%\n"
    }
   }
  },
  {
   "cell_type": "code",
   "execution_count": 179,
   "outputs": [],
   "source": [
    "from sklearn.preprocessing import MinMaxScaler\n",
    "X = merged.loc[:, 'spectral_centroid':'MFCC_19']\n",
    "scaler = MinMaxScaler()\n",
    "X_scale = scaler.fit_transform(X)\n",
    "y = merged.gender_num"
   ],
   "metadata": {
    "collapsed": false,
    "pycharm": {
     "name": "#%%\n"
    }
   }
  },
  {
   "cell_type": "markdown",
   "source": [
    "## Building models\n",
    "### Logistic regression"
   ],
   "metadata": {
    "collapsed": false,
    "pycharm": {
     "name": "#%% md\n"
    }
   },
   "execution_count": 81
  },
  {
   "cell_type": "code",
   "execution_count": 206,
   "outputs": [],
   "source": [
    "from sklearn.linear_model import LogisticRegression\n",
    "\n",
    "log_model = LogisticRegression()\n",
    "log_model.fit(X_scale,y)\n",
    "y_pred = log_model.predict(X_scale)\n"
   ],
   "metadata": {
    "collapsed": false,
    "pycharm": {
     "name": "#%%\n"
    }
   }
  },
  {
   "cell_type": "code",
   "execution_count": 207,
   "outputs": [
    {
     "name": "stdout",
     "output_type": "stream",
     "text": [
      "[[2087  461]\n",
      " [ 426 2595]]\n"
     ]
    },
    {
     "name": "stderr",
     "output_type": "stream",
     "text": [
      "c:\\users\\asemjen\\appdata\\local\\programs\\python\\python39\\lib\\site-packages\\sklearn\\utils\\deprecation.py:87: FutureWarning: Function plot_confusion_matrix is deprecated; Function `plot_confusion_matrix` is deprecated in 1.0 and will be removed in 1.2. Use one of the class methods: ConfusionMatrixDisplay.from_predictions or ConfusionMatrixDisplay.from_estimator.\n",
      "  warnings.warn(msg, category=FutureWarning)\n"
     ]
    },
    {
     "data": {
      "text/plain": "<sklearn.metrics._plot.confusion_matrix.ConfusionMatrixDisplay at 0x27091bc1ac0>"
     },
     "execution_count": 207,
     "metadata": {},
     "output_type": "execute_result"
    },
    {
     "data": {
      "text/plain": "<Figure size 432x288 with 2 Axes>",
      "image/png": "[encoded data removed]"
     },
     "metadata": {
      "needs_background": "light"
     },
     "output_type": "display_data"
    }
   ],
   "source": [
    "from sklearn import metrics\n",
    "print(metrics.confusion_matrix(y, y_pred))\n",
    "metrics.plot_confusion_matrix(log_model, X_scale, y, display_labels=['male', 'female'], values_format='d')"
   ],
   "metadata": {
    "collapsed": false,
    "pycharm": {
     "name": "#%%\n"
    }
   }
  },
  {
   "cell_type": "code",
   "execution_count": 208,
   "outputs": [
    {
     "name": "stdout",
     "output_type": "stream",
     "text": [
      "0.8407254444244927\n",
      "0.8491492146596858\n",
      "0.858987090367428\n",
      "0.8540398222807307\n"
     ]
    }
   ],
   "source": [
    "print(metrics.accuracy_score(y, y_pred))   # accuracy\n",
    "print(metrics.precision_score(y, y_pred))  # precision\n",
    "print(metrics.recall_score(y, y_pred))     # recall\n",
    "print(metrics.f1_score(y, y_pred))"
   ],
   "metadata": {
    "collapsed": false,
    "pycharm": {
     "name": "#%%\n"
    }
   }
  },
  {
   "cell_type": "code",
   "execution_count": 209,
   "outputs": [
    {
     "name": "stderr",
     "output_type": "stream",
     "text": [
      "c:\\users\\asemjen\\appdata\\local\\programs\\python\\python39\\lib\\site-packages\\sklearn\\utils\\deprecation.py:87: FutureWarning: Function plot_roc_curve is deprecated; Function :func:`plot_roc_curve` is deprecated in 1.0 and will be removed in 1.2. Use one of the class methods: :meth:`sklearn.metric.RocCurveDisplay.from_predictions` or :meth:`sklearn.metric.RocCurveDisplay.from_estimator`.\n",
      "  warnings.warn(msg, category=FutureWarning)\n"
     ]
    },
    {
     "data": {
      "text/plain": "<sklearn.metrics._plot.roc_curve.RocCurveDisplay at 0x270a32eea00>"
     },
     "execution_count": 209,
     "metadata": {},
     "output_type": "execute_result"
    },
    {
     "data": {
      "text/plain": "<Figure size 432x288 with 1 Axes>",
      "image/png": "[encoded data removed]"
     },
     "metadata": {
      "needs_background": "light"
     },
     "output_type": "display_data"
    }
   ],
   "source": [
    "metrics.plot_roc_curve(log_model, X_scale, y)"
   ],
   "metadata": {
    "collapsed": false,
    "pycharm": {
     "name": "#%%\n"
    }
   }
  },
  {
   "cell_type": "markdown",
   "source": [
    "## K nearest neighbours\n"
   ],
   "metadata": {
    "collapsed": false,
    "pycharm": {
     "name": "#%% md\n"
    }
   }
  },
  {
   "cell_type": "code",
   "execution_count": 184,
   "outputs": [
    {
     "data": {
      "text/plain": "((5012, 23), (557, 23), (5012,), (557,))"
     },
     "execution_count": 184,
     "metadata": {},
     "output_type": "execute_result"
    }
   ],
   "source": [
    "\n",
    "from sklearn.model_selection import train_test_split\n",
    "\n",
    "X_train, X_test, y_train, y_test = train_test_split(X_scale, y, test_size=0.1)\n",
    "\n",
    "(X_train.shape, X_test.shape, y_train.shape, y_test.shape)"
   ],
   "metadata": {
    "collapsed": false,
    "pycharm": {
     "name": "#%%\n"
    }
   }
  },
  {
   "cell_type": "code",
   "execution_count": 185,
   "outputs": [
    {
     "data": {
      "text/plain": "k                       1.000000\nclassification error    0.096172\ndtype: float64"
     },
     "execution_count": 185,
     "metadata": {},
     "output_type": "execute_result"
    }
   ],
   "source": [
    "from sklearn.neighbors import KNeighborsClassifier\n",
    "from sklearn.model_selection import cross_val_score\n",
    "\n",
    "errors = []\n",
    "for k in range(1,80,2):\n",
    "    model = KNeighborsClassifier(n_neighbors=k)\n",
    "    errors.append({\n",
    "        'k': k,\n",
    "        'classification error': 1 - cross_val_score(model, X_train, y_train, cv=5).mean()\n",
    "    })\n",
    "\n",
    "results = pd.DataFrame(errors)\n",
    "results.min()"
   ],
   "metadata": {
    "collapsed": false,
    "pycharm": {
     "name": "#%%\n"
    }
   }
  },
  {
   "cell_type": "code",
   "execution_count": 186,
   "outputs": [
    {
     "data": {
      "text/plain": "     k  classification error\n1    3              0.096172\n0    1              0.099364\n2    5              0.109341\n3    7              0.110734\n4    9              0.115524\n5   11              0.118119\n6   13              0.121311\n7   15              0.126497\n8   17              0.129288\n9   19              0.137470\n11  23              0.138864\n12  25              0.139063\n10  21              0.139064\n13  27              0.141457\n15  31              0.144250\n14  29              0.145050\n16  33              0.146047\n17  35              0.148242\n20  41              0.150236\n19  39              0.150635\n18  37              0.150635\n22  45              0.153229\n21  43              0.153628\n23  47              0.155425\n24  49              0.156623\n25  51              0.156823\n27  55              0.157221\n26  53              0.157421\n30  61              0.157621\n28  57              0.158019\n29  59              0.159018\n32  65              0.160215\n31  63              0.160414\n33  67              0.161611\n35  71              0.162409\n34  69              0.162808\n37  75              0.163605\n36  73              0.163605\n38  77              0.165401\n39  79              0.165800",
      "text/html": "<div>\n<style scoped>\n    .dataframe tbody tr th:only-of-type {\n        vertical-align: middle;\n    }\n\n    .dataframe tbody tr th {\n        vertical-align: top;\n    }\n\n    .dataframe thead th {\n        text-align: right;\n    }\n</style>\n<table border=\"1\" class=\"dataframe\">\n  <thead>\n    <tr style=\"text-align: right;\">\n      <th></th>\n      <th>k</th>\n      <th>classification error</th>\n    </tr>\n  </thead>\n  <tbody>\n    <tr>\n      <th>1</th>\n      <td>3</td>\n      <td>0.096172</td>\n    </tr>\n    <tr>\n      <th>0</th>\n      <td>1</td>\n      <td>0.099364</td>\n    </tr>\n    <tr>\n      <th>2</th>\n      <td>5</td>\n      <td>0.109341</td>\n    </tr>\n    <tr>\n      <th>3</th>\n      <td>7</td>\n      <td>0.110734</td>\n    </tr>\n    <tr>\n      <th>4</th>\n      <td>9</td>\n      <td>0.115524</td>\n    </tr>\n    <tr>\n      <th>5</th>\n      <td>11</td>\n      <td>0.118119</td>\n    </tr>\n    <tr>\n      <th>6</th>\n      <td>13</td>\n      <td>0.121311</td>\n    </tr>\n    <tr>\n      <th>7</th>\n      <td>15</td>\n      <td>0.126497</td>\n    </tr>\n    <tr>\n      <th>8</th>\n      <td>17</td>\n      <td>0.129288</td>\n    </tr>\n    <tr>\n      <th>9</th>\n      <td>19</td>\n      <td>0.137470</td>\n    </tr>\n    <tr>\n      <th>11</th>\n      <td>23</td>\n      <td>0.138864</td>\n    </tr>\n    <tr>\n      <th>12</th>\n      <td>25</td>\n      <td>0.139063</td>\n    </tr>\n    <tr>\n      <th>10</th>\n      <td>21</td>\n      <td>0.139064</td>\n    </tr>\n    <tr>\n      <th>13</th>\n      <td>27</td>\n      <td>0.141457</td>\n    </tr>\n    <tr>\n      <th>15</th>\n      <td>31</td>\n      <td>0.144250</td>\n    </tr>\n    <tr>\n      <th>14</th>\n      <td>29</td>\n      <td>0.145050</td>\n    </tr>\n    <tr>\n      <th>16</th>\n      <td>33</td>\n      <td>0.146047</td>\n    </tr>\n    <tr>\n      <th>17</th>\n      <td>35</td>\n      <td>0.148242</td>\n    </tr>\n    <tr>\n      <th>20</th>\n      <td>41</td>\n      <td>0.150236</td>\n    </tr>\n    <tr>\n      <th>19</th>\n      <td>39</td>\n      <td>0.150635</td>\n    </tr>\n    <tr>\n      <th>18</th>\n      <td>37</td>\n      <td>0.150635</td>\n    </tr>\n    <tr>\n      <th>22</th>\n      <td>45</td>\n      <td>0.153229</td>\n    </tr>\n    <tr>\n      <th>21</th>\n      <td>43</td>\n      <td>0.153628</td>\n    </tr>\n    <tr>\n      <th>23</th>\n      <td>47</td>\n      <td>0.155425</td>\n    </tr>\n    <tr>\n      <th>24</th>\n      <td>49</td>\n      <td>0.156623</td>\n    </tr>\n    <tr>\n      <th>25</th>\n      <td>51</td>\n      <td>0.156823</td>\n    </tr>\n    <tr>\n      <th>27</th>\n      <td>55</td>\n      <td>0.157221</td>\n    </tr>\n    <tr>\n      <th>26</th>\n      <td>53</td>\n      <td>0.157421</td>\n    </tr>\n    <tr>\n      <th>30</th>\n      <td>61</td>\n      <td>0.157621</td>\n    </tr>\n    <tr>\n      <th>28</th>\n      <td>57</td>\n      <td>0.158019</td>\n    </tr>\n    <tr>\n      <th>29</th>\n      <td>59</td>\n      <td>0.159018</td>\n    </tr>\n    <tr>\n      <th>32</th>\n      <td>65</td>\n      <td>0.160215</td>\n    </tr>\n    <tr>\n      <th>31</th>\n      <td>63</td>\n      <td>0.160414</td>\n    </tr>\n    <tr>\n      <th>33</th>\n      <td>67</td>\n      <td>0.161611</td>\n    </tr>\n    <tr>\n      <th>35</th>\n      <td>71</td>\n      <td>0.162409</td>\n    </tr>\n    <tr>\n      <th>34</th>\n      <td>69</td>\n      <td>0.162808</td>\n    </tr>\n    <tr>\n      <th>37</th>\n      <td>75</td>\n      <td>0.163605</td>\n    </tr>\n    <tr>\n      <th>36</th>\n      <td>73</td>\n      <td>0.163605</td>\n    </tr>\n    <tr>\n      <th>38</th>\n      <td>77</td>\n      <td>0.165401</td>\n    </tr>\n    <tr>\n      <th>39</th>\n      <td>79</td>\n      <td>0.165800</td>\n    </tr>\n  </tbody>\n</table>\n</div>"
     },
     "execution_count": 186,
     "metadata": {},
     "output_type": "execute_result"
    }
   ],
   "source": [
    "#results\n",
    "results.sort_values(by=['classification error'])"
   ],
   "metadata": {
    "collapsed": false,
    "pycharm": {
     "name": "#%%\n"
    }
   }
  },
  {
   "cell_type": "code",
   "execution_count": 187,
   "outputs": [
    {
     "data": {
      "text/plain": "<AxesSubplot:xlabel='k', ylabel='classification error'>"
     },
     "execution_count": 187,
     "metadata": {},
     "output_type": "execute_result"
    },
    {
     "data": {
      "text/plain": "<Figure size 432x288 with 1 Axes>",
      "image/png": "[encoded data removed]"
     },
     "metadata": {
      "needs_background": "light"
     },
     "output_type": "display_data"
    }
   ],
   "source": [
    "import seaborn as sns\n",
    "sns.scatterplot(x='k', y='classification error', data=results)"
   ],
   "metadata": {
    "collapsed": false,
    "pycharm": {
     "name": "#%%\n"
    }
   }
  },
  {
   "cell_type": "code",
   "execution_count": 193,
   "outputs": [
    {
     "data": {
      "text/plain": "0.11759425493716336"
     },
     "execution_count": 193,
     "metadata": {},
     "output_type": "execute_result"
    }
   ],
   "source": [
    "kn_model = KNeighborsClassifier(n_neighbors=3)\n",
    "kn_model.fit(X_train, y_train)\n",
    "1 - kn_model.score(X_test,y_test)\n"
   ],
   "metadata": {
    "collapsed": false,
    "pycharm": {
     "name": "#%%\n"
    }
   }
  },
  {
   "cell_type": "markdown",
   "source": [
    "#### Good idea to use decision trees for age detection\n",
    "#### Regression tree for age detection but do mapping as well 10 20 30 instead of using only classifers"
   ],
   "metadata": {
    "collapsed": false,
    "pycharm": {
     "name": "#%% md\n"
    }
   }
  },
  {
   "cell_type": "markdown",
   "source": [
    "# Decision trees\n"
   ],
   "metadata": {
    "collapsed": false,
    "pycharm": {
     "name": "#%% md\n"
    }
   }
  },
  {
   "cell_type": "code",
   "execution_count": 194,
   "outputs": [],
   "source": [
    "from sklearn.model_selection import train_test_split\n",
    "from sklearn import tree\n",
    "from sklearn.tree import DecisionTreeClassifier, plot_tree\n",
    "from sklearn.preprocessing import MinMaxScaler\n",
    "X = merged.loc[:, 'spectral_centroid':'MFCC_19']\n",
    "scaler = MinMaxScaler()\n",
    "X = scaler.fit_transform(X)\n",
    "y = merged.gender_num\n",
    "\n",
    "X_train, X_test, y_train, y_test = train_test_split(X, y, test_size=0.4)"
   ],
   "metadata": {
    "collapsed": false,
    "pycharm": {
     "name": "#%%\n"
    }
   }
  },
  {
   "cell_type": "code",
   "execution_count": 195,
   "outputs": [
    {
     "name": "stdout",
     "output_type": "stream",
     "text": [
      "0.7524757659568755\n",
      "{'max_depth': 10, 'min_impurity_decrease': 0, 'min_samples_split': 20}\n"
     ]
    }
   ],
   "source": [
    "# Trying to find which tree may be the best to build\n",
    "from sklearn.model_selection import GridSearchCV\n",
    "\n",
    "# initial attempt\n",
    "param_grid = {\n",
    "    'max_depth': [10, 20, 30, 40],\n",
    "    'min_samples_split': [20, 40, 60, 80, 100],\n",
    "    'min_impurity_decrease': [0, 0.0005, 0.001, 0.005, 0.01]\n",
    "}\n",
    "\n",
    "model = DecisionTreeClassifier(random_state=1)\n",
    "\n",
    "gridSearch = GridSearchCV(model, param_grid, cv=5)\n",
    "gridSearch.fit(X_train, y_train)\n",
    "\n",
    "print(gridSearch.best_score_)\n",
    "print(gridSearch.best_params_)"
   ],
   "metadata": {
    "collapsed": false,
    "pycharm": {
     "name": "#%%\n"
    }
   }
  },
  {
   "cell_type": "code",
   "execution_count": 204,
   "outputs": [
    {
     "name": "stdout",
     "output_type": "stream",
     "text": [
      "Confusion Matrix (Accuracy 0.8573)\n",
      "\n",
      "       Prediction\n",
      "Actual    0    1\n",
      "     0  858  157\n",
      "     1  161 1052\n"
     ]
    }
   ],
   "source": [
    "import dmba\n",
    "from sklearn.ensemble import GradientBoostingClassifier\n",
    "\n",
    "model_boost = GradientBoostingClassifier(n_estimators=200, learning_rate=0.12)\n",
    "model_boost.fit(X_train, y_train)\n",
    "\n",
    "dmba.classificationSummary(y_test, model_boost.predict(X_test))\n"
   ],
   "metadata": {
    "collapsed": false,
    "pycharm": {
     "name": "#%%\n"
    }
   }
  },
  {
   "cell_type": "code",
   "execution_count": 197,
   "outputs": [
    {
     "name": "stdout",
     "output_type": "stream",
     "text": [
      "Confusion Matrix (Accuracy 0.9530)\n",
      "\n",
      "       Prediction\n",
      "Actual    0    1\n",
      "     0 1447   86\n",
      "     1   71 1737\n",
      "Confusion Matrix (Accuracy 0.8577)\n",
      "\n",
      "       Prediction\n",
      "Actual    0    1\n",
      "     0  858  157\n",
      "     1  160 1053\n"
     ]
    }
   ],
   "source": [
    "# Testing the outcome\n",
    "\n",
    "dmba.classificationSummary(y_train, model_boost.predict(X_train))\n",
    "dmba.classificationSummary(y_test, model_boost.predict(X_test))"
   ],
   "metadata": {
    "collapsed": false,
    "pycharm": {
     "name": "#%%\n"
    }
   }
  },
  {
   "cell_type": "code",
   "execution_count": 215,
   "outputs": [
    {
     "ename": "AttributeError",
     "evalue": "'numpy.ndarray' object has no attribute 'columns'",
     "output_type": "error",
     "traceback": [
      "\u001B[1;31m---------------------------------------------------------------------------\u001B[0m",
      "\u001B[1;31mAttributeError\u001B[0m                            Traceback (most recent call last)",
      "Input \u001B[1;32mIn [215]\u001B[0m, in \u001B[0;36m<cell line: 3>\u001B[1;34m()\u001B[0m\n\u001B[0;32m      1\u001B[0m importances \u001B[38;5;241m=\u001B[39m model_boost\u001B[38;5;241m.\u001B[39mfeature_importances_\n\u001B[0;32m      3\u001B[0m result \u001B[38;5;241m=\u001B[39m pd\u001B[38;5;241m.\u001B[39mDataFrame({\n\u001B[1;32m----> 4\u001B[0m     \u001B[38;5;124m'\u001B[39m\u001B[38;5;124mFeature\u001B[39m\u001B[38;5;124m'\u001B[39m: \u001B[43mX_train\u001B[49m\u001B[38;5;241;43m.\u001B[39;49m\u001B[43mcolumns\u001B[49m,\n\u001B[0;32m      5\u001B[0m     \u001B[38;5;124m'\u001B[39m\u001B[38;5;124mImportance\u001B[39m\u001B[38;5;124m'\u001B[39m: importances\n\u001B[0;32m      6\u001B[0m })\n\u001B[0;32m      7\u001B[0m result\u001B[38;5;241m.\u001B[39msort_values(\u001B[38;5;124m'\u001B[39m\u001B[38;5;124mImportance\u001B[39m\u001B[38;5;124m'\u001B[39m, ascending\u001B[38;5;241m=\u001B[39m\u001B[38;5;28;01mFalse\u001B[39;00m)\n",
      "\u001B[1;31mAttributeError\u001B[0m: 'numpy.ndarray' object has no attribute 'columns'"
     ]
    }
   ],
   "source": [
    "importances = model_boost.feature_importances_\n",
    "\n",
    "result = pd.DataFrame({\n",
    "    'Feature': X.columns,\n",
    "    'Importance': importances\n",
    "})\n",
    "result.sort_values('Importance', ascending=False)"
   ],
   "metadata": {
    "collapsed": false,
    "pycharm": {
     "name": "#%%\n"
    }
   }
  },
  {
   "cell_type": "code",
   "execution_count": 214,
   "outputs": [],
   "source": [
    "import pickle\n",
    "pickle.dump(model, open(\"LogisticRegression.model\", \"wb\"))\n",
    "pickle.dump(kn_model, open(\"KNeighborsClassifier.model\", \"wb\"))\n",
    "pickle.dump(model_boost, open(\"GradientBoostingClassifier.model\", \"wb\" ))\n",
    "pickle.dump(scaler, open(\"MinMaxScaler.scaler\", \"wb\"))"
   ],
   "metadata": {
    "collapsed": false,
    "pycharm": {
     "name": "#%%\n"
    }
   }
  },
  {
   "cell_type": "markdown",
   "source": [
    "## Testing on locally recorded files - this should be built into a React dashboard"
   ],
   "metadata": {
    "collapsed": false
   }
  },
  {
   "cell_type": "code",
   "execution_count": 213,
   "outputs": [
    {
     "name": "stderr",
     "output_type": "stream",
     "text": [
      "c:\\users\\asemjen\\appdata\\local\\programs\\python\\python39\\lib\\site-packages\\librosa\\util\\decorators.py:88: UserWarning: PySoundFile failed. Trying audioread instead.\n",
      "  return f(*args, **kwargs)\n"
     ]
    },
    {
     "name": "stdout",
     "output_type": "stream",
     "text": [
      "Predicted for logistic regression: [0]\n",
      "Predicted for K-nearest neigbours: [1]\n",
      "Predicted for boosted tree: [0]\n"
     ]
    }
   ],
   "source": [
    "# Testing on new files\n",
    "test_file = import_mp3file(\"./\", \"Recording_outer_mic.m4a\")\n",
    "test_frame = pd.DataFrame(test_file, index=[0])\n",
    "X = test_frame.loc[:, 'spectral_centroid':'MFCC_19']\n",
    "TEST = scaler.transform(X)\n",
    "\n",
    "predicted_logistic = log_model.predict(TEST)\n",
    "print(f'Predicted for logistic regression: {predicted_logistic}')\n",
    "\n",
    "k_predicted = kn_model.predict(TEST)\n",
    "print( (f'Predicted for K-nearest neigbours: {k_predicted}'))\n",
    "\n",
    "boosted_tree = model_boost.predict(TEST)\n",
    "print(f'Predicted for boosted tree: {boosted_tree}')"
   ],
   "metadata": {
    "collapsed": false,
    "pycharm": {
     "name": "#%%\n"
    }
   }
  },
  {
   "cell_type": "markdown",
   "source": [
    "## Just for curiosity a neural network as the tip of the iceberg"
   ],
   "metadata": {
    "collapsed": false,
    "pycharm": {
     "name": "#%% md\n"
    }
   }
  },
  {
   "cell_type": "code",
   "execution_count": 221,
   "outputs": [
    {
     "data": {
      "text/plain": "1114"
     },
     "execution_count": 221,
     "metadata": {},
     "output_type": "execute_result"
    }
   ],
   "source": [
    "from sklearn.neural_network import MLPClassifier\n",
    "\n",
    "X = merged.loc[:, 'spectral_centroid':'MFCC_19']\n",
    "scaler = MinMaxScaler()\n",
    "X = scaler.fit_transform(X)\n",
    "y = merged.gender_num\n",
    "\n",
    "X_train, X_test, y_train, y_test = train_test_split(X, y, test_size=0.2)"
   ],
   "metadata": {
    "collapsed": false,
    "pycharm": {
     "name": "#%%\n"
    }
   }
  },
  {
   "cell_type": "code",
   "execution_count": 223,
   "outputs": [
    {
     "name": "stderr",
     "output_type": "stream",
     "text": [
      "c:\\users\\asemjen\\appdata\\local\\programs\\python\\python39\\lib\\site-packages\\sklearn\\neural_network\\_multilayer_perceptron.py:559: ConvergenceWarning: lbfgs failed to converge (status=1):\n",
      "STOP: TOTAL NO. of ITERATIONS REACHED LIMIT.\n",
      "\n",
      "Increase the number of iterations (max_iter) or scale the data as shown in:\n",
      "    https://scikit-learn.org/stable/modules/preprocessing.html\n",
      "  self.n_iter_ = _check_optimize_result(\"lbfgs\", opt_res, self.max_iter)\n"
     ]
    },
    {
     "data": {
      "text/plain": "MLPClassifier(alpha=1e-05, hidden_layer_sizes=(5, 2), solver='lbfgs')",
      "text/html": "<style>#sk-container-id-2 {color: black;background-color: white;}#sk-container-id-2 pre{padding: 0;}#sk-container-id-2 div.sk-toggleable {background-color: white;}#sk-container-id-2 label.sk-toggleable__label {cursor: pointer;display: block;width: 100%;margin-bottom: 0;padding: 0.3em;box-sizing: border-box;text-align: center;}#sk-container-id-2 label.sk-toggleable__label-arrow:before {content: \"▸\";float: left;margin-right: 0.25em;color: #696969;}#sk-container-id-2 label.sk-toggleable__label-arrow:hover:before {color: black;}#sk-container-id-2 div.sk-estimator:hover label.sk-toggleable__label-arrow:before {color: black;}#sk-container-id-2 div.sk-toggleable__content {max-height: 0;max-width: 0;overflow: hidden;text-align: left;background-color: #f0f8ff;}#sk-container-id-2 div.sk-toggleable__content pre {margin: 0.2em;color: black;border-radius: 0.25em;background-color: #f0f8ff;}#sk-container-id-2 input.sk-toggleable__control:checked~div.sk-toggleable__content {max-height: 200px;max-width: 100%;overflow: auto;}#sk-container-id-2 input.sk-toggleable__control:checked~label.sk-toggleable__label-arrow:before {content: \"▾\";}#sk-container-id-2 div.sk-estimator input.sk-toggleable__control:checked~label.sk-toggleable__label {background-color: #d4ebff;}#sk-container-id-2 div.sk-label input.sk-toggleable__control:checked~label.sk-toggleable__label {background-color: #d4ebff;}#sk-container-id-2 input.sk-hidden--visually {border: 0;clip: rect(1px 1px 1px 1px);clip: rect(1px, 1px, 1px, 1px);height: 1px;margin: -1px;overflow: hidden;padding: 0;position: absolute;width: 1px;}#sk-container-id-2 div.sk-estimator {font-family: monospace;background-color: #f0f8ff;border: 1px dotted black;border-radius: 0.25em;box-sizing: border-box;margin-bottom: 0.5em;}#sk-container-id-2 div.sk-estimator:hover {background-color: #d4ebff;}#sk-container-id-2 div.sk-parallel-item::after {content: \"\";width: 100%;border-bottom: 1px solid gray;flex-grow: 1;}#sk-container-id-2 div.sk-label:hover label.sk-toggleable__label {background-color: #d4ebff;}#sk-container-id-2 div.sk-serial::before {content: \"\";position: absolute;border-left: 1px solid gray;box-sizing: border-box;top: 0;bottom: 0;left: 50%;z-index: 0;}#sk-container-id-2 div.sk-serial {display: flex;flex-direction: column;align-items: center;background-color: white;padding-right: 0.2em;padding-left: 0.2em;position: relative;}#sk-container-id-2 div.sk-item {position: relative;z-index: 1;}#sk-container-id-2 div.sk-parallel {display: flex;align-items: stretch;justify-content: center;background-color: white;position: relative;}#sk-container-id-2 div.sk-item::before, #sk-container-id-2 div.sk-parallel-item::before {content: \"\";position: absolute;border-left: 1px solid gray;box-sizing: border-box;top: 0;bottom: 0;left: 50%;z-index: -1;}#sk-container-id-2 div.sk-parallel-item {display: flex;flex-direction: column;z-index: 1;position: relative;background-color: white;}#sk-container-id-2 div.sk-parallel-item:first-child::after {align-self: flex-end;width: 50%;}#sk-container-id-2 div.sk-parallel-item:last-child::after {align-self: flex-start;width: 50%;}#sk-container-id-2 div.sk-parallel-item:only-child::after {width: 0;}#sk-container-id-2 div.sk-dashed-wrapped {border: 1px dashed gray;margin: 0 0.4em 0.5em 0.4em;box-sizing: border-box;padding-bottom: 0.4em;background-color: white;}#sk-container-id-2 div.sk-label label {font-family: monospace;font-weight: bold;display: inline-block;line-height: 1.2em;}#sk-container-id-2 div.sk-label-container {text-align: center;}#sk-container-id-2 div.sk-container {/* jupyter's `normalize.less` sets `[hidden] { display: none; }` but bootstrap.min.css set `[hidden] { display: none !important; }` so we also need the `!important` here to be able to override the default hidden behavior on the sphinx rendered scikit-learn.org. See: https://github.com/scikit-learn/scikit-learn/issues/21755 */display: inline-block !important;position: relative;}#sk-container-id-2 div.sk-text-repr-fallback {display: none;}</style><div id=\"sk-container-id-2\" class=\"sk-top-container\"><div class=\"sk-text-repr-fallback\"><pre>MLPClassifier(alpha=1e-05, hidden_layer_sizes=(5, 2), solver=&#x27;lbfgs&#x27;)</pre><b>In a Jupyter environment, please rerun this cell to show the HTML representation or trust the notebook. <br />On GitHub, the HTML representation is unable to render, please try loading this page with nbviewer.org.</b></div><div class=\"sk-container\" hidden><div class=\"sk-item\"><div class=\"sk-estimator sk-toggleable\"><input class=\"sk-toggleable__control sk-hidden--visually\" id=\"sk-estimator-id-2\" type=\"checkbox\" checked><label for=\"sk-estimator-id-2\" class=\"sk-toggleable__label sk-toggleable__label-arrow\">MLPClassifier</label><div class=\"sk-toggleable__content\"><pre>MLPClassifier(alpha=1e-05, hidden_layer_sizes=(5, 2), solver=&#x27;lbfgs&#x27;)</pre></div></div></div></div></div>"
     },
     "execution_count": 223,
     "metadata": {},
     "output_type": "execute_result"
    }
   ],
   "source": [
    "clf = MLPClassifier(solver='lbfgs', alpha=1e-5,\n",
    "                 hidden_layer_sizes=(5, 2))\n",
    "clf.fit(X_train, y_train)"
   ],
   "metadata": {
    "collapsed": false,
    "pycharm": {
     "name": "#%%\n"
    }
   }
  },
  {
   "cell_type": "code",
   "execution_count": 230,
   "outputs": [
    {
     "name": "stdout",
     "output_type": "stream",
     "text": [
      "0.8348294434470377\n"
     ]
    }
   ],
   "source": [
    "from sklearn.metrics import accuracy_score\n",
    "predicted_values = clf.predict(X_test)\n",
    "score = accuracy_score(y_test,predicted_values)\n",
    "print(score)"
   ],
   "metadata": {
    "collapsed": false,
    "pycharm": {
     "name": "#%%\n"
    }
   }
  },
  {
   "cell_type": "code",
   "execution_count": null,
   "outputs": [
    {
     "name": "stdout",
     "output_type": "stream",
     "text": [
      "Fitting 5 folds for each of 2 candidates, totalling 10 fits\n"
     ]
    },
    {
     "name": "stderr",
     "output_type": "stream",
     "text": [
      "c:\\users\\asemjen\\appdata\\local\\programs\\python\\python39\\lib\\site-packages\\sklearn\\neural_network\\_multilayer_perceptron.py:702: ConvergenceWarning: Stochastic Optimizer: Maximum iterations (200) reached and the optimization hasn't converged yet.\n",
      "  warnings.warn(\n",
      "c:\\users\\asemjen\\appdata\\local\\programs\\python\\python39\\lib\\site-packages\\sklearn\\neural_network\\_multilayer_perceptron.py:702: ConvergenceWarning: Stochastic Optimizer: Maximum iterations (200) reached and the optimization hasn't converged yet.\n",
      "  warnings.warn(\n",
      "c:\\users\\asemjen\\appdata\\local\\programs\\python\\python39\\lib\\site-packages\\sklearn\\neural_network\\_multilayer_perceptron.py:709: UserWarning: Training interrupted by user.\n",
      "  warnings.warn(\"Training interrupted by user.\")\n",
      "c:\\users\\asemjen\\appdata\\local\\programs\\python\\python39\\lib\\site-packages\\sklearn\\neural_network\\_multilayer_perceptron.py:702: ConvergenceWarning: Stochastic Optimizer: Maximum iterations (200) reached and the optimization hasn't converged yet.\n",
      "  warnings.warn(\n",
      "c:\\users\\asemjen\\appdata\\local\\programs\\python\\python39\\lib\\site-packages\\sklearn\\neural_network\\_multilayer_perceptron.py:709: UserWarning: Training interrupted by user.\n",
      "  warnings.warn(\"Training interrupted by user.\")\n",
      "c:\\users\\asemjen\\appdata\\local\\programs\\python\\python39\\lib\\site-packages\\sklearn\\neural_network\\_multilayer_perceptron.py:709: UserWarning: Training interrupted by user.\n",
      "  warnings.warn(\"Training interrupted by user.\")\n",
      "c:\\users\\asemjen\\appdata\\local\\programs\\python\\python39\\lib\\site-packages\\sklearn\\neural_network\\_multilayer_perceptron.py:709: UserWarning: Training interrupted by user.\n",
      "  warnings.warn(\"Training interrupted by user.\")\n",
      "c:\\users\\asemjen\\appdata\\local\\programs\\python\\python39\\lib\\site-packages\\sklearn\\neural_network\\_multilayer_perceptron.py:702: ConvergenceWarning: Stochastic Optimizer: Maximum iterations (200) reached and the optimization hasn't converged yet.\n",
      "  warnings.warn(\n",
      "c:\\users\\asemjen\\appdata\\local\\programs\\python\\python39\\lib\\site-packages\\sklearn\\neural_network\\_multilayer_perceptron.py:709: UserWarning: Training interrupted by user.\n",
      "  warnings.warn(\"Training interrupted by user.\")\n"
     ]
    }
   ],
   "source": [
    "from sklearn.model_selection import GridSearchCV\n",
    "\n",
    "X_train, X_test, y_train, y_test = train_test_split(X, y, test_size=0.2)\n",
    "\n",
    "\n",
    "clf = MLPClassifier(solver='adam',hidden_layer_sizes=(7,7,7))\n",
    "\n",
    "params = {\n",
    "    'hidden_layer_sizes' : [(3,2,3), (2,7,1)] # Every combination you want to try\n",
    "}\n",
    "\n",
    "gscv = GridSearchCV(clf, params, verbose=1)\n",
    "\n",
    "gscv.fit(np.array(X_train), np.array(y_train))\n",
    "print(gscv.best_params_)\n",
    "\n",
    "predicted_values = gscv.predict(X_test)\n",
    "\n",
    "from sklearn.metrics import accuracy_score\n",
    "score = accuracy_score(y_test,predicted_values)\n",
    "\n",
    "print(score)"
   ],
   "metadata": {
    "collapsed": false,
    "pycharm": {
     "name": "#%%\n"
    }
   }
  },
  {
   "cell_type": "code",
   "execution_count": 228,
   "outputs": [
    {
     "data": {
      "text/plain": "5534    1\n3350    1\n1443    0\n1110    0\n460     0\n       ..\n32      0\n628     0\n2707    1\n849     0\n985     0\nName: gender_num, Length: 1114, dtype: int64"
     },
     "execution_count": 228,
     "metadata": {},
     "output_type": "execute_result"
    }
   ],
   "source": [],
   "metadata": {
    "collapsed": false,
    "pycharm": {
     "name": "#%%\n"
    }
   }
  }
 ],
 "metadata": {
  "kernelspec": {
   "display_name": "Python 3",
   "language": "python",
   "name": "python3"
  },
  "language_info": {
   "codemirror_mode": {
    "name": "ipython",
    "version": 2
   },
   "file_extension": ".py",
   "mimetype": "text/x-python",
   "name": "python",
   "nbconvert_exporter": "python",
   "pygments_lexer": "ipython2",
   "version": "2.7.6"
  }
 },
 "nbformat": 4,
 "nbformat_minor": 0
}